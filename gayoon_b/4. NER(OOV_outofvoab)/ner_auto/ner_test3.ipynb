{
 "cells": [
  {
   "cell_type": "code",
   "execution_count": null,
   "metadata": {
    "id": "KaI5XvePxBeX"
   },
   "outputs": [],
   "source": [
    "# 데이터 개수 불균형 문제 해결 전략\n",
    "# 우선 TOOL을 제외한 3개부터학습\n",
    "# 남은 O태그를 B-TOOL로 전환하기 전, 필터링 사전 활용 (TECH DICTIONARY - TECHNICAL TAGS 칼럼 이용 혹은 technical_element.csv의 name과 synonym 리스트에 포함된 경우, B-TOOL로 변환)\n"
   ]
  },
  {
   "cell_type": "code",
   "execution_count": null,
   "metadata": {
    "id": "EdRhCZmnx28C"
   },
   "outputs": [],
   "source": [
    "# 구글 마운트 사용 X"
   ]
  },
  {
   "cell_type": "code",
   "execution_count": null,
   "metadata": {
    "colab": {
     "base_uri": "https://localhost:8080/"
    },
    "executionInfo": {
     "elapsed": 1400,
     "status": "ok",
     "timestamp": 1739491888073,
     "user": {
      "displayName": "GAYOON CHOI",
      "userId": "14384576936901363882"
     },
     "user_tz": -540
    },
    "id": "VyGbPsDWx4gB",
    "outputId": "ac1fd347-11c4-44ee-bf0c-8f92614ae677"
   },
   "outputs": [
    {
     "name": "stdout",
     "output_type": "stream",
     "text": [
      "ner_label\n",
      "B-FRAME    147\n",
      "B-LANG      99\n",
      "B-LIB      114\n",
      "B-TOOL     361\n",
      "Name: total_count, dtype: int64\n"
     ]
    }
   ],
   "source": [
    "# 데이터 로드 (코드 실행 상태 초기화로 인해 파일 다시 로드)\n",
    "import pandas as pd\n",
    "\n",
    "file_path = \"/content/technical_element_labeled.csv\"\n",
    "df_tech = pd.read_csv(file_path, encoding=\"utf-8-sig\")\n",
    "\n",
    "# synonym 개수 계산 (쉼표로 구분된 리스트를 개별 요소로 분리)\n",
    "df_tech[\"synonym_count\"] = df_tech[\"synonym\"].fillna(\"\").apply(lambda x: len(x.split(\",\")) if x else 0)\n",
    "\n",
    "# name과 synonym을 합쳐서 총 개수 계산\n",
    "df_tech[\"total_count\"] = 1 + df_tech[\"synonym_count\"]\n",
    "\n",
    "# ner_label별 개수 집계\n",
    "ner_label_counts = df_tech.groupby(\"ner_label\")[\"total_count\"].sum()\n",
    "\n",
    "print(ner_label_counts)"
   ]
  },
  {
   "cell_type": "markdown",
   "metadata": {
    "id": "vC9cLV89yJC5"
   },
   "source": [
    "# 1. 작업에 필요한 라이브러리 설치 및 호출"
   ]
  },
  {
   "cell_type": "code",
   "execution_count": 1,
   "metadata": {
    "colab": {
     "base_uri": "https://localhost:8080/"
    },
    "collapsed": true,
    "executionInfo": {
     "elapsed": 14621,
     "status": "ok",
     "timestamp": 1739751183832,
     "user": {
      "displayName": "GAYOON CHOI",
      "userId": "14384576936901363882"
     },
     "user_tz": -540
    },
    "id": "QPYoVY8OyLqx",
    "outputId": "e4daf593-3f42-45e9-fbd5-66ab25cbf907"
   },
   "outputs": [
    {
     "name": "stdout",
     "output_type": "stream",
     "text": [
      "Requirement already satisfied: transformers in /usr/local/lib/python3.11/dist-packages (4.48.3)\n",
      "Collecting seqeval[gpu]\n",
      "  Downloading seqeval-1.2.2.tar.gz (43 kB)\n",
      "\u001b[?25l     \u001b[90m━━━━━━━━━━━━━━━━━━━━━━━━━━━━━━━━━━━━━━━━\u001b[0m \u001b[32m0.0/43.6 kB\u001b[0m \u001b[31m?\u001b[0m eta \u001b[36m-:--:--\u001b[0m\r\u001b[2K     \u001b[90m━━━━━━━━━━━━━━━━━━━━━━━━━━━━━━━━━━━━━━━━\u001b[0m \u001b[32m43.6/43.6 kB\u001b[0m \u001b[31m3.1 MB/s\u001b[0m eta \u001b[36m0:00:00\u001b[0m\n",
      "\u001b[?25h  Preparing metadata (setup.py) ... \u001b[?25l\u001b[?25hdone\n",
      "Requirement already satisfied: filelock in /usr/local/lib/python3.11/dist-packages (from transformers) (3.17.0)\n",
      "Requirement already satisfied: huggingface-hub<1.0,>=0.24.0 in /usr/local/lib/python3.11/dist-packages (from transformers) (0.28.1)\n",
      "Requirement already satisfied: numpy>=1.17 in /usr/local/lib/python3.11/dist-packages (from transformers) (1.26.4)\n",
      "Requirement already satisfied: packaging>=20.0 in /usr/local/lib/python3.11/dist-packages (from transformers) (24.2)\n",
      "Requirement already satisfied: pyyaml>=5.1 in /usr/local/lib/python3.11/dist-packages (from transformers) (6.0.2)\n",
      "Requirement already satisfied: regex!=2019.12.17 in /usr/local/lib/python3.11/dist-packages (from transformers) (2024.11.6)\n",
      "Requirement already satisfied: requests in /usr/local/lib/python3.11/dist-packages (from transformers) (2.32.3)\n",
      "Requirement already satisfied: tokenizers<0.22,>=0.21 in /usr/local/lib/python3.11/dist-packages (from transformers) (0.21.0)\n",
      "Requirement already satisfied: safetensors>=0.4.1 in /usr/local/lib/python3.11/dist-packages (from transformers) (0.5.2)\n",
      "Requirement already satisfied: tqdm>=4.27 in /usr/local/lib/python3.11/dist-packages (from transformers) (4.67.1)\n",
      "Requirement already satisfied: scikit-learn>=0.21.3 in /usr/local/lib/python3.11/dist-packages (from seqeval[gpu]) (1.6.1)\n",
      "Requirement already satisfied: fsspec>=2023.5.0 in /usr/local/lib/python3.11/dist-packages (from huggingface-hub<1.0,>=0.24.0->transformers) (2024.10.0)\n",
      "Requirement already satisfied: typing-extensions>=3.7.4.3 in /usr/local/lib/python3.11/dist-packages (from huggingface-hub<1.0,>=0.24.0->transformers) (4.12.2)\n",
      "Requirement already satisfied: scipy>=1.6.0 in /usr/local/lib/python3.11/dist-packages (from scikit-learn>=0.21.3->seqeval[gpu]) (1.13.1)\n",
      "Requirement already satisfied: joblib>=1.2.0 in /usr/local/lib/python3.11/dist-packages (from scikit-learn>=0.21.3->seqeval[gpu]) (1.4.2)\n",
      "Requirement already satisfied: threadpoolctl>=3.1.0 in /usr/local/lib/python3.11/dist-packages (from scikit-learn>=0.21.3->seqeval[gpu]) (3.5.0)\n",
      "Requirement already satisfied: charset-normalizer<4,>=2 in /usr/local/lib/python3.11/dist-packages (from requests->transformers) (3.4.1)\n",
      "Requirement already satisfied: idna<4,>=2.5 in /usr/local/lib/python3.11/dist-packages (from requests->transformers) (3.10)\n",
      "Requirement already satisfied: urllib3<3,>=1.21.1 in /usr/local/lib/python3.11/dist-packages (from requests->transformers) (2.3.0)\n",
      "Requirement already satisfied: certifi>=2017.4.17 in /usr/local/lib/python3.11/dist-packages (from requests->transformers) (2025.1.31)\n",
      "Building wheels for collected packages: seqeval\n",
      "  Building wheel for seqeval (setup.py) ... \u001b[?25l\u001b[?25hdone\n",
      "  Created wheel for seqeval: filename=seqeval-1.2.2-py3-none-any.whl size=16161 sha256=13d860b0669c24f7cb1c4edc3339774ff77bffb2586a47d9a1466d32fcee9bce\n",
      "  Stored in directory: /root/.cache/pip/wheels/bc/92/f0/243288f899c2eacdfa8c5f9aede4c71a9bad0ee26a01dc5ead\n",
      "Successfully built seqeval\n",
      "Installing collected packages: seqeval\n",
      "Successfully installed seqeval-1.2.2\n"
     ]
    }
   ],
   "source": [
    "!pip install transformers seqeval[gpu]"
   ]
  },
  {
   "cell_type": "code",
   "execution_count": 2,
   "metadata": {
    "colab": {
     "base_uri": "https://localhost:8080/"
    },
    "collapsed": true,
    "executionInfo": {
     "elapsed": 100947,
     "status": "ok",
     "timestamp": 1739751290163,
     "user": {
      "displayName": "GAYOON CHOI",
      "userId": "14384576936901363882"
     },
     "user_tz": -540
    },
    "id": "boRUm6bpyR1p",
    "outputId": "d2731afd-19d2-49fd-fa08-9a89dddf22ad"
   },
   "outputs": [
    {
     "name": "stdout",
     "output_type": "stream",
     "text": [
      "Collecting datasets\n",
      "  Downloading datasets-3.3.0-py3-none-any.whl.metadata (19 kB)\n",
      "Requirement already satisfied: seqeval in /usr/local/lib/python3.11/dist-packages (1.2.2)\n",
      "Requirement already satisfied: torch in /usr/local/lib/python3.11/dist-packages (2.5.1+cu124)\n",
      "Requirement already satisfied: scikit-learn in /usr/local/lib/python3.11/dist-packages (1.6.1)\n",
      "Requirement already satisfied: pandas in /usr/local/lib/python3.11/dist-packages (2.2.2)\n",
      "Requirement already satisfied: filelock in /usr/local/lib/python3.11/dist-packages (from datasets) (3.17.0)\n",
      "Requirement already satisfied: numpy>=1.17 in /usr/local/lib/python3.11/dist-packages (from datasets) (1.26.4)\n",
      "Requirement already satisfied: pyarrow>=15.0.0 in /usr/local/lib/python3.11/dist-packages (from datasets) (17.0.0)\n",
      "Collecting dill<0.3.9,>=0.3.0 (from datasets)\n",
      "  Downloading dill-0.3.8-py3-none-any.whl.metadata (10 kB)\n",
      "Requirement already satisfied: requests>=2.32.2 in /usr/local/lib/python3.11/dist-packages (from datasets) (2.32.3)\n",
      "Requirement already satisfied: tqdm>=4.66.3 in /usr/local/lib/python3.11/dist-packages (from datasets) (4.67.1)\n",
      "Collecting xxhash (from datasets)\n",
      "  Downloading xxhash-3.5.0-cp311-cp311-manylinux_2_17_x86_64.manylinux2014_x86_64.whl.metadata (12 kB)\n",
      "Collecting multiprocess<0.70.17 (from datasets)\n",
      "  Downloading multiprocess-0.70.16-py311-none-any.whl.metadata (7.2 kB)\n",
      "Requirement already satisfied: fsspec<=2024.12.0,>=2023.1.0 in /usr/local/lib/python3.11/dist-packages (from fsspec[http]<=2024.12.0,>=2023.1.0->datasets) (2024.10.0)\n",
      "Requirement already satisfied: aiohttp in /usr/local/lib/python3.11/dist-packages (from datasets) (3.11.12)\n",
      "Requirement already satisfied: huggingface-hub>=0.24.0 in /usr/local/lib/python3.11/dist-packages (from datasets) (0.28.1)\n",
      "Requirement already satisfied: packaging in /usr/local/lib/python3.11/dist-packages (from datasets) (24.2)\n",
      "Requirement already satisfied: pyyaml>=5.1 in /usr/local/lib/python3.11/dist-packages (from datasets) (6.0.2)\n",
      "Requirement already satisfied: typing-extensions>=4.8.0 in /usr/local/lib/python3.11/dist-packages (from torch) (4.12.2)\n",
      "Requirement already satisfied: networkx in /usr/local/lib/python3.11/dist-packages (from torch) (3.4.2)\n",
      "Requirement already satisfied: jinja2 in /usr/local/lib/python3.11/dist-packages (from torch) (3.1.5)\n",
      "Collecting nvidia-cuda-nvrtc-cu12==12.4.127 (from torch)\n",
      "  Downloading nvidia_cuda_nvrtc_cu12-12.4.127-py3-none-manylinux2014_x86_64.whl.metadata (1.5 kB)\n",
      "Collecting nvidia-cuda-runtime-cu12==12.4.127 (from torch)\n",
      "  Downloading nvidia_cuda_runtime_cu12-12.4.127-py3-none-manylinux2014_x86_64.whl.metadata (1.5 kB)\n",
      "Collecting nvidia-cuda-cupti-cu12==12.4.127 (from torch)\n",
      "  Downloading nvidia_cuda_cupti_cu12-12.4.127-py3-none-manylinux2014_x86_64.whl.metadata (1.6 kB)\n",
      "Collecting nvidia-cudnn-cu12==9.1.0.70 (from torch)\n",
      "  Downloading nvidia_cudnn_cu12-9.1.0.70-py3-none-manylinux2014_x86_64.whl.metadata (1.6 kB)\n",
      "Collecting nvidia-cublas-cu12==12.4.5.8 (from torch)\n",
      "  Downloading nvidia_cublas_cu12-12.4.5.8-py3-none-manylinux2014_x86_64.whl.metadata (1.5 kB)\n",
      "Collecting nvidia-cufft-cu12==11.2.1.3 (from torch)\n",
      "  Downloading nvidia_cufft_cu12-11.2.1.3-py3-none-manylinux2014_x86_64.whl.metadata (1.5 kB)\n",
      "Collecting nvidia-curand-cu12==10.3.5.147 (from torch)\n",
      "  Downloading nvidia_curand_cu12-10.3.5.147-py3-none-manylinux2014_x86_64.whl.metadata (1.5 kB)\n",
      "Collecting nvidia-cusolver-cu12==11.6.1.9 (from torch)\n",
      "  Downloading nvidia_cusolver_cu12-11.6.1.9-py3-none-manylinux2014_x86_64.whl.metadata (1.6 kB)\n",
      "Collecting nvidia-cusparse-cu12==12.3.1.170 (from torch)\n",
      "  Downloading nvidia_cusparse_cu12-12.3.1.170-py3-none-manylinux2014_x86_64.whl.metadata (1.6 kB)\n",
      "Requirement already satisfied: nvidia-nccl-cu12==2.21.5 in /usr/local/lib/python3.11/dist-packages (from torch) (2.21.5)\n",
      "Requirement already satisfied: nvidia-nvtx-cu12==12.4.127 in /usr/local/lib/python3.11/dist-packages (from torch) (12.4.127)\n",
      "Collecting nvidia-nvjitlink-cu12==12.4.127 (from torch)\n",
      "  Downloading nvidia_nvjitlink_cu12-12.4.127-py3-none-manylinux2014_x86_64.whl.metadata (1.5 kB)\n",
      "Requirement already satisfied: triton==3.1.0 in /usr/local/lib/python3.11/dist-packages (from torch) (3.1.0)\n",
      "Requirement already satisfied: sympy==1.13.1 in /usr/local/lib/python3.11/dist-packages (from torch) (1.13.1)\n",
      "Requirement already satisfied: mpmath<1.4,>=1.1.0 in /usr/local/lib/python3.11/dist-packages (from sympy==1.13.1->torch) (1.3.0)\n",
      "Requirement already satisfied: scipy>=1.6.0 in /usr/local/lib/python3.11/dist-packages (from scikit-learn) (1.13.1)\n",
      "Requirement already satisfied: joblib>=1.2.0 in /usr/local/lib/python3.11/dist-packages (from scikit-learn) (1.4.2)\n",
      "Requirement already satisfied: threadpoolctl>=3.1.0 in /usr/local/lib/python3.11/dist-packages (from scikit-learn) (3.5.0)\n",
      "Requirement already satisfied: python-dateutil>=2.8.2 in /usr/local/lib/python3.11/dist-packages (from pandas) (2.8.2)\n",
      "Requirement already satisfied: pytz>=2020.1 in /usr/local/lib/python3.11/dist-packages (from pandas) (2025.1)\n",
      "Requirement already satisfied: tzdata>=2022.7 in /usr/local/lib/python3.11/dist-packages (from pandas) (2025.1)\n",
      "Requirement already satisfied: aiohappyeyeballs>=2.3.0 in /usr/local/lib/python3.11/dist-packages (from aiohttp->datasets) (2.4.6)\n",
      "Requirement already satisfied: aiosignal>=1.1.2 in /usr/local/lib/python3.11/dist-packages (from aiohttp->datasets) (1.3.2)\n",
      "Requirement already satisfied: attrs>=17.3.0 in /usr/local/lib/python3.11/dist-packages (from aiohttp->datasets) (25.1.0)\n",
      "Requirement already satisfied: frozenlist>=1.1.1 in /usr/local/lib/python3.11/dist-packages (from aiohttp->datasets) (1.5.0)\n",
      "Requirement already satisfied: multidict<7.0,>=4.5 in /usr/local/lib/python3.11/dist-packages (from aiohttp->datasets) (6.1.0)\n",
      "Requirement already satisfied: propcache>=0.2.0 in /usr/local/lib/python3.11/dist-packages (from aiohttp->datasets) (0.2.1)\n",
      "Requirement already satisfied: yarl<2.0,>=1.17.0 in /usr/local/lib/python3.11/dist-packages (from aiohttp->datasets) (1.18.3)\n",
      "Requirement already satisfied: six>=1.5 in /usr/local/lib/python3.11/dist-packages (from python-dateutil>=2.8.2->pandas) (1.17.0)\n",
      "Requirement already satisfied: charset-normalizer<4,>=2 in /usr/local/lib/python3.11/dist-packages (from requests>=2.32.2->datasets) (3.4.1)\n",
      "Requirement already satisfied: idna<4,>=2.5 in /usr/local/lib/python3.11/dist-packages (from requests>=2.32.2->datasets) (3.10)\n",
      "Requirement already satisfied: urllib3<3,>=1.21.1 in /usr/local/lib/python3.11/dist-packages (from requests>=2.32.2->datasets) (2.3.0)\n",
      "Requirement already satisfied: certifi>=2017.4.17 in /usr/local/lib/python3.11/dist-packages (from requests>=2.32.2->datasets) (2025.1.31)\n",
      "Requirement already satisfied: MarkupSafe>=2.0 in /usr/local/lib/python3.11/dist-packages (from jinja2->torch) (3.0.2)\n",
      "Downloading datasets-3.3.0-py3-none-any.whl (484 kB)\n",
      "\u001b[2K   \u001b[90m━━━━━━━━━━━━━━━━━━━━━━━━━━━━━━━━━━━━━━━━\u001b[0m \u001b[32m484.9/484.9 kB\u001b[0m \u001b[31m33.8 MB/s\u001b[0m eta \u001b[36m0:00:00\u001b[0m\n",
      "\u001b[?25hDownloading nvidia_cublas_cu12-12.4.5.8-py3-none-manylinux2014_x86_64.whl (363.4 MB)\n",
      "\u001b[2K   \u001b[90m━━━━━━━━━━━━━━━━━━━━━━━━━━━━━━━━━━━━━━━━\u001b[0m \u001b[32m363.4/363.4 MB\u001b[0m \u001b[31m4.1 MB/s\u001b[0m eta \u001b[36m0:00:00\u001b[0m\n",
      "\u001b[?25hDownloading nvidia_cuda_cupti_cu12-12.4.127-py3-none-manylinux2014_x86_64.whl (13.8 MB)\n",
      "\u001b[2K   \u001b[90m━━━━━━━━━━━━━━━━━━━━━━━━━━━━━━━━━━━━━━━━\u001b[0m \u001b[32m13.8/13.8 MB\u001b[0m \u001b[31m63.0 MB/s\u001b[0m eta \u001b[36m0:00:00\u001b[0m\n",
      "\u001b[?25hDownloading nvidia_cuda_nvrtc_cu12-12.4.127-py3-none-manylinux2014_x86_64.whl (24.6 MB)\n",
      "\u001b[2K   \u001b[90m━━━━━━━━━━━━━━━━━━━━━━━━━━━━━━━━━━━━━━━━\u001b[0m \u001b[32m24.6/24.6 MB\u001b[0m \u001b[31m44.2 MB/s\u001b[0m eta \u001b[36m0:00:00\u001b[0m\n",
      "\u001b[?25hDownloading nvidia_cuda_runtime_cu12-12.4.127-py3-none-manylinux2014_x86_64.whl (883 kB)\n",
      "\u001b[2K   \u001b[90m━━━━━━━━━━━━━━━━━━━━━━━━━━━━━━━━━━━━━━━━\u001b[0m \u001b[32m883.7/883.7 kB\u001b[0m \u001b[31m32.1 MB/s\u001b[0m eta \u001b[36m0:00:00\u001b[0m\n",
      "\u001b[?25hDownloading nvidia_cudnn_cu12-9.1.0.70-py3-none-manylinux2014_x86_64.whl (664.8 MB)\n",
      "\u001b[2K   \u001b[90m━━━━━━━━━━━━━━━━━━━━━━━━━━━━━━━━━━━━━━━━\u001b[0m \u001b[32m664.8/664.8 MB\u001b[0m \u001b[31m2.4 MB/s\u001b[0m eta \u001b[36m0:00:00\u001b[0m\n",
      "\u001b[?25hDownloading nvidia_cufft_cu12-11.2.1.3-py3-none-manylinux2014_x86_64.whl (211.5 MB)\n",
      "\u001b[2K   \u001b[90m━━━━━━━━━━━━━━━━━━━━━━━━━━━━━━━━━━━━━━━━\u001b[0m \u001b[32m211.5/211.5 MB\u001b[0m \u001b[31m5.7 MB/s\u001b[0m eta \u001b[36m0:00:00\u001b[0m\n",
      "\u001b[?25hDownloading nvidia_curand_cu12-10.3.5.147-py3-none-manylinux2014_x86_64.whl (56.3 MB)\n",
      "\u001b[2K   \u001b[90m━━━━━━━━━━━━━━━━━━━━━━━━━━━━━━━━━━━━━━━━\u001b[0m \u001b[32m56.3/56.3 MB\u001b[0m \u001b[31m14.3 MB/s\u001b[0m eta \u001b[36m0:00:00\u001b[0m\n",
      "\u001b[?25hDownloading nvidia_cusolver_cu12-11.6.1.9-py3-none-manylinux2014_x86_64.whl (127.9 MB)\n",
      "\u001b[2K   \u001b[90m━━━━━━━━━━━━━━━━━━━━━━━━━━━━━━━━━━━━━━━━\u001b[0m \u001b[32m127.9/127.9 MB\u001b[0m \u001b[31m7.3 MB/s\u001b[0m eta \u001b[36m0:00:00\u001b[0m\n",
      "\u001b[?25hDownloading nvidia_cusparse_cu12-12.3.1.170-py3-none-manylinux2014_x86_64.whl (207.5 MB)\n",
      "\u001b[2K   \u001b[90m━━━━━━━━━━━━━━━━━━━━━━━━━━━━━━━━━━━━━━━━\u001b[0m \u001b[32m207.5/207.5 MB\u001b[0m \u001b[31m5.9 MB/s\u001b[0m eta \u001b[36m0:00:00\u001b[0m\n",
      "\u001b[?25hDownloading nvidia_nvjitlink_cu12-12.4.127-py3-none-manylinux2014_x86_64.whl (21.1 MB)\n",
      "\u001b[2K   \u001b[90m━━━━━━━━━━━━━━━━━━━━━━━━━━━━━━━━━━━━━━━━\u001b[0m \u001b[32m21.1/21.1 MB\u001b[0m \u001b[31m92.5 MB/s\u001b[0m eta \u001b[36m0:00:00\u001b[0m\n",
      "\u001b[?25hDownloading dill-0.3.8-py3-none-any.whl (116 kB)\n",
      "\u001b[2K   \u001b[90m━━━━━━━━━━━━━━━━━━━━━━━━━━━━━━━━━━━━━━━━\u001b[0m \u001b[32m116.3/116.3 kB\u001b[0m \u001b[31m13.5 MB/s\u001b[0m eta \u001b[36m0:00:00\u001b[0m\n",
      "\u001b[?25hDownloading multiprocess-0.70.16-py311-none-any.whl (143 kB)\n",
      "\u001b[2K   \u001b[90m━━━━━━━━━━━━━━━━━━━━━━━━━━━━━━━━━━━━━━━━\u001b[0m \u001b[32m143.5/143.5 kB\u001b[0m \u001b[31m16.2 MB/s\u001b[0m eta \u001b[36m0:00:00\u001b[0m\n",
      "\u001b[?25hDownloading xxhash-3.5.0-cp311-cp311-manylinux_2_17_x86_64.manylinux2014_x86_64.whl (194 kB)\n",
      "\u001b[2K   \u001b[90m━━━━━━━━━━━━━━━━━━━━━━━━━━━━━━━━━━━━━━━━\u001b[0m \u001b[32m194.8/194.8 kB\u001b[0m \u001b[31m20.2 MB/s\u001b[0m eta \u001b[36m0:00:00\u001b[0m\n",
      "\u001b[?25hInstalling collected packages: xxhash, nvidia-nvjitlink-cu12, nvidia-curand-cu12, nvidia-cufft-cu12, nvidia-cuda-runtime-cu12, nvidia-cuda-nvrtc-cu12, nvidia-cuda-cupti-cu12, nvidia-cublas-cu12, dill, nvidia-cusparse-cu12, nvidia-cudnn-cu12, multiprocess, nvidia-cusolver-cu12, datasets\n",
      "  Attempting uninstall: nvidia-nvjitlink-cu12\n",
      "    Found existing installation: nvidia-nvjitlink-cu12 12.5.82\n",
      "    Uninstalling nvidia-nvjitlink-cu12-12.5.82:\n",
      "      Successfully uninstalled nvidia-nvjitlink-cu12-12.5.82\n",
      "  Attempting uninstall: nvidia-curand-cu12\n",
      "    Found existing installation: nvidia-curand-cu12 10.3.6.82\n",
      "    Uninstalling nvidia-curand-cu12-10.3.6.82:\n",
      "      Successfully uninstalled nvidia-curand-cu12-10.3.6.82\n",
      "  Attempting uninstall: nvidia-cufft-cu12\n",
      "    Found existing installation: nvidia-cufft-cu12 11.2.3.61\n",
      "    Uninstalling nvidia-cufft-cu12-11.2.3.61:\n",
      "      Successfully uninstalled nvidia-cufft-cu12-11.2.3.61\n",
      "  Attempting uninstall: nvidia-cuda-runtime-cu12\n",
      "    Found existing installation: nvidia-cuda-runtime-cu12 12.5.82\n",
      "    Uninstalling nvidia-cuda-runtime-cu12-12.5.82:\n",
      "      Successfully uninstalled nvidia-cuda-runtime-cu12-12.5.82\n",
      "  Attempting uninstall: nvidia-cuda-nvrtc-cu12\n",
      "    Found existing installation: nvidia-cuda-nvrtc-cu12 12.5.82\n",
      "    Uninstalling nvidia-cuda-nvrtc-cu12-12.5.82:\n",
      "      Successfully uninstalled nvidia-cuda-nvrtc-cu12-12.5.82\n",
      "  Attempting uninstall: nvidia-cuda-cupti-cu12\n",
      "    Found existing installation: nvidia-cuda-cupti-cu12 12.5.82\n",
      "    Uninstalling nvidia-cuda-cupti-cu12-12.5.82:\n",
      "      Successfully uninstalled nvidia-cuda-cupti-cu12-12.5.82\n",
      "  Attempting uninstall: nvidia-cublas-cu12\n",
      "    Found existing installation: nvidia-cublas-cu12 12.5.3.2\n",
      "    Uninstalling nvidia-cublas-cu12-12.5.3.2:\n",
      "      Successfully uninstalled nvidia-cublas-cu12-12.5.3.2\n",
      "  Attempting uninstall: nvidia-cusparse-cu12\n",
      "    Found existing installation: nvidia-cusparse-cu12 12.5.1.3\n",
      "    Uninstalling nvidia-cusparse-cu12-12.5.1.3:\n",
      "      Successfully uninstalled nvidia-cusparse-cu12-12.5.1.3\n",
      "  Attempting uninstall: nvidia-cudnn-cu12\n",
      "    Found existing installation: nvidia-cudnn-cu12 9.3.0.75\n",
      "    Uninstalling nvidia-cudnn-cu12-9.3.0.75:\n",
      "      Successfully uninstalled nvidia-cudnn-cu12-9.3.0.75\n",
      "  Attempting uninstall: nvidia-cusolver-cu12\n",
      "    Found existing installation: nvidia-cusolver-cu12 11.6.3.83\n",
      "    Uninstalling nvidia-cusolver-cu12-11.6.3.83:\n",
      "      Successfully uninstalled nvidia-cusolver-cu12-11.6.3.83\n",
      "Successfully installed datasets-3.3.0 dill-0.3.8 multiprocess-0.70.16 nvidia-cublas-cu12-12.4.5.8 nvidia-cuda-cupti-cu12-12.4.127 nvidia-cuda-nvrtc-cu12-12.4.127 nvidia-cuda-runtime-cu12-12.4.127 nvidia-cudnn-cu12-9.1.0.70 nvidia-cufft-cu12-11.2.1.3 nvidia-curand-cu12-10.3.5.147 nvidia-cusolver-cu12-11.6.1.9 nvidia-cusparse-cu12-12.3.1.170 nvidia-nvjitlink-cu12-12.4.127 xxhash-3.5.0\n"
     ]
    }
   ],
   "source": [
    "!pip install datasets seqeval torch scikit-learn pandas"
   ]
  },
  {
   "cell_type": "code",
   "execution_count": 3,
   "metadata": {
    "executionInfo": {
     "elapsed": 36029,
     "status": "ok",
     "timestamp": 1739751331165,
     "user": {
      "displayName": "GAYOON CHOI",
      "userId": "14384576936901363882"
     },
     "user_tz": -540
    },
    "id": "T0M7yCMgyd5L"
   },
   "outputs": [],
   "source": [
    "import pandas as pd\n",
    "import numpy as np\n",
    "from sklearn.metrics import accuracy_score\n",
    "import torch\n",
    "from torch.utils.data import Dataset, DataLoader\n",
    "from transformers import BertTokenizer, BertForTokenClassification, Trainer, TrainingArguments\n",
    "from datasets import Dataset\n",
    "from seqeval.metrics import classification_report"
   ]
  },
  {
   "cell_type": "code",
   "execution_count": 4,
   "metadata": {
    "colab": {
     "base_uri": "https://localhost:8080/"
    },
    "executionInfo": {
     "elapsed": 677,
     "status": "ok",
     "timestamp": 1739751334466,
     "user": {
      "displayName": "GAYOON CHOI",
      "userId": "14384576936901363882"
     },
     "user_tz": -540
    },
    "id": "OYhliZpTyaVJ",
    "outputId": "4e85ee31-b7b4-4333-8d0f-efefcfbcd4e5"
   },
   "outputs": [
    {
     "name": "stdout",
     "output_type": "stream",
     "text": [
      "cuda\n"
     ]
    }
   ],
   "source": [
    "# 작업 환경 확인하기 - 가급적이면 GPU\n",
    "from torch import cuda\n",
    "\n",
    "# 모델이 GPU에서 실행 중이면, GPU로 설정\n",
    "device = \"cuda\" if torch.cuda.is_available() else \"cpu\"\n",
    "print(device)"
   ]
  },
  {
   "cell_type": "markdown",
   "metadata": {
    "id": "nQlksUDP2v5b"
   },
   "source": [
    "# 1-1. ner 태그 미리 준비 완료 (중복 제거 x) - 증강 작업을 위한 정확한 ner 태그 개수 확인 필요"
   ]
  },
  {
   "cell_type": "code",
   "execution_count": null,
   "metadata": {
    "colab": {
     "base_uri": "https://localhost:8080/"
    },
    "executionInfo": {
     "elapsed": 320,
     "status": "ok",
     "timestamp": 1739492934651,
     "user": {
      "displayName": "GAYOON CHOI",
      "userId": "14384576936901363882"
     },
     "user_tz": -540
    },
    "id": "jiDUlHy320X9",
    "outputId": "113a49d9-ec8f-4faf-d2a7-15f3565758bd"
   },
   "outputs": [
    {
     "name": "stdout",
     "output_type": "stream",
     "text": [
      "✅ 중복 제거 완료! 저장 경로: /content/final_unique_mapped_technicalTags.csv\n",
      "🔹 NER 태그별 개수:\n",
      " mapped_technicalTags\n",
      "B-TOOL             371\n",
      "B-FRAME            171\n",
      "B-LANG              72\n",
      "B-LIB               72\n",
      "O-TERM               5\n",
      "O-TECH               2\n",
      "O-TECH (기술           2\n",
      "B-BLOCKCHAIN         1\n",
      "O\\n---\\nB-TOOL       1\n",
      "O 보안 B-LIB           1\n",
      "O-PLAIN              1\n",
      "O (기술 용어가            1\n",
      "B-DISORDER           1\n",
      "O\\n    - B-TOOL      1\n",
      "O-TOOL               1\n",
      "Name: count, dtype: int64\n"
     ]
    }
   ],
   "source": [
    "import pandas as pd\n",
    "\n",
    "# ✅ 파일 로드\n",
    "final_file = \"/content/final_mapped_technicalTags.csv\"\n",
    "df = pd.read_csv(final_file)\n",
    "\n",
    "# ✅ 중복 제거 (기술명 & NER 태그 조합 기준)\n",
    "df_unique = df.drop_duplicates(subset=[\"mapped_technicalTags\"])\n",
    "\n",
    "# ✅ 각 NER 태그별 개수 계산\n",
    "ner_counts = df_unique[\"mapped_technicalTags\"].apply(lambda x: eval(x)[1]).value_counts()\n",
    "\n",
    "# ✅ 결과 저장\n",
    "output_path = \"/content/final_unique_mapped_technicalTags.csv\"\n",
    "df_unique.to_csv(output_path, index=False, encoding=\"utf-8-sig\")\n",
    "\n",
    "print(f\"✅ 중복 제거 완료! 저장 경로: {output_path}\")\n",
    "print(\"🔹 NER 태그별 개수:\\n\", ner_counts)\n"
   ]
  },
  {
   "cell_type": "code",
   "execution_count": null,
   "metadata": {
    "id": "hKTGWfgq3CBz"
   },
   "outputs": [],
   "source": [
    "# 원본 개수는 아래와 같다\n",
    "ner_label\n",
    "B-FRAME    147\n",
    "B-LANG      99\n",
    "B-LIB      114\n",
    "B-TOOL     361\n",
    "Name: total_count, dtype: int64"
   ]
  },
  {
   "cell_type": "code",
   "execution_count": null,
   "metadata": {
    "colab": {
     "base_uri": "https://localhost:8080/"
    },
    "executionInfo": {
     "elapsed": 324,
     "status": "ok",
     "timestamp": 1739493258536,
     "user": {
      "displayName": "GAYOON CHOI",
      "userId": "14384576936901363882"
     },
     "user_tz": -540
    },
    "id": "N1NjAmND4FtS",
    "outputId": "3863f0aa-a973-4540-81b6-dcf3ccb1749c"
   },
   "outputs": [
    {
     "name": "stdout",
     "output_type": "stream",
     "text": [
      "🔹 원본 NER 태그 개수: 4\n",
      "🔹 매핑된 NER 태그 개수: 15\n",
      "❌ 누락된 NER 태그: set()\n"
     ]
    }
   ],
   "source": [
    "import pandas as pd\n",
    "\n",
    "# ✅ 파일 로드\n",
    "tech_labels_file = \"/content/technical_element_labeled.csv\"\n",
    "mapped_tags_file = \"/content/final_unique_mapped_technicalTags.csv\"\n",
    "\n",
    "tech_df = pd.read_csv(tech_labels_file)\n",
    "mapped_df = pd.read_csv(mapped_tags_file)\n",
    "\n",
    "# ✅ 각 파일에서 사용된 NER 태그 확인\n",
    "tech_ner_tags = set(tech_df[\"ner_label\"].unique())  # 원본 기술 라벨 태그\n",
    "mapped_ner_tags = set(mapped_df[\"mapped_technicalTags\"].apply(lambda x: eval(x)[1]))  # 매핑된 태그\n",
    "\n",
    "# ✅ 누락된 태그 확인\n",
    "missing_tags = tech_ner_tags - mapped_ner_tags\n",
    "\n",
    "# ✅ 결과 출력\n",
    "print(\"🔹 원본 NER 태그 개수:\", len(tech_ner_tags))\n",
    "print(\"🔹 매핑된 NER 태그 개수:\", len(mapped_ner_tags))\n",
    "print(\"❌ 누락된 NER 태그:\", missing_tags)\n"
   ]
  },
  {
   "cell_type": "code",
   "execution_count": null,
   "metadata": {
    "id": "DttpafeO5VRS"
   },
   "outputs": [],
   "source": [
    "# 아래는 이상한 결과값 초래"
   ]
  },
  {
   "cell_type": "code",
   "execution_count": null,
   "metadata": {
    "colab": {
     "base_uri": "https://localhost:8080/"
    },
    "executionInfo": {
     "elapsed": 416,
     "status": "ok",
     "timestamp": 1739493483304,
     "user": {
      "displayName": "GAYOON CHOI",
      "userId": "14384576936901363882"
     },
     "user_tz": -540
    },
    "id": "8EIKtlDn45Y7",
    "outputId": "94e477cb-9eac-4eca-ce9a-0b866db25b77"
   },
   "outputs": [
    {
     "name": "stdout",
     "output_type": "stream",
     "text": [
      "🔹 B-LANG 추가 필요 개수: 27\n",
      "🔹 B-LIB 추가 필요 개수: 42\n",
      "✅ 불균형 해결 완료! 저장 경로: /content/final_balanced_mapped_technicalTags.csv\n"
     ]
    }
   ],
   "source": [
    "import pandas as pd\n",
    "\n",
    "# ✅ 파일 로드\n",
    "technical_file = \"/content/technical_element_labeled.csv\"\n",
    "mapped_file = \"/content/final_unique_mapped_technicalTags.csv\"\n",
    "\n",
    "tech_df = pd.read_csv(technical_file)\n",
    "mapped_df = pd.read_csv(mapped_file)\n",
    "\n",
    "# ✅ NER 태그 목록 (유효한 태그만 유지)\n",
    "valid_ner_labels = {\"B-TOOL\", \"B-FRAME\", \"B-LANG\", \"B-LIB\"}\n",
    "\n",
    "# ✅ 불필요한 태그 제거\n",
    "filtered_mapped_df = mapped_df[mapped_df[\"mapped_technicalTags\"].apply(lambda x: eval(x)[1] in valid_ner_labels)]\n",
    "\n",
    "# ✅ 부족한 데이터 확인 (B-LANG & B-LIB)\n",
    "missing_lang_count = 99 - len(filtered_mapped_df[filtered_mapped_df[\"mapped_technicalTags\"].apply(lambda x: eval(x)[1] == \"B-LANG\")])\n",
    "missing_lib_count = 114 - len(filtered_mapped_df[filtered_mapped_df[\"mapped_technicalTags\"].apply(lambda x: eval(x)[1] == \"B-LIB\")])\n",
    "\n",
    "print(f\"🔹 B-LANG 추가 필요 개수: {missing_lang_count}\")\n",
    "print(f\"🔹 B-LIB 추가 필요 개수: {missing_lib_count}\")\n",
    "\n",
    "# ✅ 부족한 개수만큼 기존 데이터에서 랜덤 샘플링하여 추가\n",
    "additional_lang = tech_df[tech_df[\"ner_label\"] == \"B-LANG\"].sample(missing_lang_count, replace=True)\n",
    "additional_lib = tech_df[tech_df[\"ner_label\"] == \"B-LIB\"].sample(missing_lib_count, replace=True)\n",
    "\n",
    "# ✅ 증강된 데이터 추가\n",
    "augmented_df = pd.concat([filtered_mapped_df, additional_lang, additional_lib])\n",
    "\n",
    "# ✅ 최종 데이터 저장\n",
    "final_output_path = \"/content/final_balanced_mapped_technicalTags.csv\"\n",
    "augmented_df.to_csv(final_output_path, index=False, encoding=\"utf-8-sig\")\n",
    "print(f\"✅ 불균형 해결 완료! 저장 경로: {final_output_path}\")\n"
   ]
  },
  {
   "cell_type": "code",
   "execution_count": null,
   "metadata": {
    "id": "c1f8g2b66hUK"
   },
   "outputs": [],
   "source": [
    "# 증강 작업한 기술 용어 사전을 원본 기술 사전의 파일 내용 형식과 맞게 변환 작업\n",
    "final_unique_mapped_technicalTags.csv 파일을 읽고, mapped_technicalTags 칼럼의 내용을 (seq, category, name, ner_label) 순으로 정리하여 변환"
   ]
  },
  {
   "cell_type": "code",
   "execution_count": null,
   "metadata": {
    "colab": {
     "base_uri": "https://localhost:8080/"
    },
    "executionInfo": {
     "elapsed": 322,
     "status": "ok",
     "timestamp": 1739494001939,
     "user": {
      "displayName": "GAYOON CHOI",
      "userId": "14384576936901363882"
     },
     "user_tz": -540
    },
    "id": "G-YwCOb76iGZ",
    "outputId": "222cc0e7-5032-41d0-c87e-e33e24d98b5f"
   },
   "outputs": [
    {
     "name": "stdout",
     "output_type": "stream",
     "text": [
      "✅ 원본 ner 라벨 태그에 맞게 변환 작업: /content/final_mapped_ner_labels_technicalTags.csv\n"
     ]
    }
   ],
   "source": [
    "# 파일 경로 로드 (재업로드 필요)\n",
    "file_path = \"/content/final_unique_mapped_technicalTags.csv\"\n",
    "\n",
    "# 데이터 로드\n",
    "df = pd.read_csv(file_path)\n",
    "\n",
    "# mapped_technicalTags 칼럼에서 (name, ner_label) 분리\n",
    "df[[\"name\", \"ner_label\"]] = df[\"mapped_technicalTags\"].apply(eval).apply(pd.Series)\n",
    "\n",
    "# NER 태그에 따라 category 지정\n",
    "category_mapping = {\n",
    "    \"B-LANG\": \"language\",\n",
    "    \"B-FRAME\": \"framework\",\n",
    "    \"B-LIB\": \"library\",\n",
    "    \"B-TOOL\": \"tool\"\n",
    "}\n",
    "\n",
    "df[\"category\"] = df[\"ner_label\"].map(category_mapping)\n",
    "\n",
    "# language → framework → library → tool 순서로 정렬\n",
    "category_order = [\"language\", \"framework\", \"library\", \"tool\"]\n",
    "df_sorted = df[df[\"category\"].notna()].sort_values(by=\"category\", key=lambda x: x.map({cat: i for i, cat in enumerate(category_order)}))\n",
    "\n",
    "# seq 번호 부여\n",
    "df_sorted.insert(0, \"seq\", range(len(df_sorted)))\n",
    "\n",
    "# 필요한 컬럼 선택\n",
    "df_final = df_sorted[[\"seq\", \"category\", \"name\", \"ner_label\"]]\n",
    "\n",
    "# 저장\n",
    "output_path = \"/content/final_mapped_ner_labels_technicalTags.csv\"\n",
    "df_final.to_csv(output_path, index=False, encoding=\"utf-8-sig\")\n",
    "print(f\"✅ 원본 ner 라벨 태그에 맞게 변환 작업: {output_path}\")\n"
   ]
  },
  {
   "cell_type": "code",
   "execution_count": null,
   "metadata": {
    "colab": {
     "base_uri": "https://localhost:8080/"
    },
    "executionInfo": {
     "elapsed": 321,
     "status": "ok",
     "timestamp": 1739494142916,
     "user": {
      "displayName": "GAYOON CHOI",
      "userId": "14384576936901363882"
     },
     "user_tz": -540
    },
    "id": "eVPh8Yqk7gip",
    "outputId": "afdc5b03-5c41-4a1c-accf-8fe0e80a21af"
   },
   "outputs": [
    {
     "name": "stdout",
     "output_type": "stream",
     "text": [
      "🔹 NER 태그별 개수:\n",
      "ner_label\n",
      "B-TOOL     371\n",
      "B-FRAME    171\n",
      "B-LANG      72\n",
      "B-LIB       72\n",
      "Name: count, dtype: int64\n"
     ]
    }
   ],
   "source": [
    "import pandas as pd\n",
    "\n",
    "# 파일 경로\n",
    "file_path = \"/content/final_mapped_ner_labels_technicalTags.csv\"\n",
    "\n",
    "# CSV 파일 로드\n",
    "df = pd.read_csv(file_path, encoding=\"utf-8-sig\")\n",
    "\n",
    "# NER 태그별 개수 세기\n",
    "ner_counts = df[\"ner_label\"].value_counts()\n",
    "\n",
    "# 결과 출력\n",
    "print(\"🔹 NER 태그별 개수:\")\n",
    "print(ner_counts)\n"
   ]
  },
  {
   "cell_type": "code",
   "execution_count": null,
   "metadata": {
    "colab": {
     "base_uri": "https://localhost:8080/"
    },
    "executionInfo": {
     "elapsed": 344,
     "status": "ok",
     "timestamp": 1739494360783,
     "user": {
      "displayName": "GAYOON CHOI",
      "userId": "14384576936901363882"
     },
     "user_tz": -540
    },
    "id": "XxhDG30E8T7B",
    "outputId": "532c7ee1-a013-41ef-a76f-ff9696bcfeda"
   },
   "outputs": [
    {
     "name": "stdout",
     "output_type": "stream",
     "text": [
      "✅ 원본과 새로운 데이터의 NER 태그 개수 차이:\n",
      "           original_count  new_count  difference\n",
      "ner_label                                       \n",
      "B-FRAME                54        171         117\n",
      "B-LANG                 35         72          37\n",
      "B-LIB                  48         72          24\n",
      "B-TOOL                141        371         230\n"
     ]
    }
   ],
   "source": [
    "import pandas as pd\n",
    "\n",
    "# 파일 경로\n",
    "original_file = \"/content/technical_element_labeled.csv\"\n",
    "new_file = \"/content/final_mapped_ner_labels_technicalTags.csv\"\n",
    "\n",
    "# CSV 파일 로드\n",
    "df_original = pd.read_csv(original_file, encoding=\"utf-8-sig\")\n",
    "df_new = pd.read_csv(new_file, encoding=\"utf-8-sig\")\n",
    "\n",
    "# 원본 데이터 NER 태그 개수 계산\n",
    "original_counts = df_original[\"ner_label\"].value_counts().sort_index()\n",
    "\n",
    "# 새로운 데이터 NER 태그 개수 계산\n",
    "new_counts = df_new[\"ner_label\"].value_counts().sort_index()\n",
    "\n",
    "# 두 개의 데이터프레임을 비교하여 개수 차이 확인\n",
    "comparison_df = pd.DataFrame({\"original_count\": original_counts, \"new_count\": new_counts}).fillna(0)\n",
    "comparison_df[\"difference\"] = comparison_df[\"new_count\"] - comparison_df[\"original_count\"]\n",
    "\n",
    "# 차이점 확인\n",
    "print(\"✅ 원본과 새로운 데이터의 NER 태그 개수 차이:\")\n",
    "print(comparison_df)\n"
   ]
  },
  {
   "cell_type": "code",
   "execution_count": null,
   "metadata": {
    "colab": {
     "base_uri": "https://localhost:8080/"
    },
    "executionInfo": {
     "elapsed": 648,
     "status": "ok",
     "timestamp": 1739494662775,
     "user": {
      "displayName": "GAYOON CHOI",
      "userId": "14384576936901363882"
     },
     "user_tz": -540
    },
    "id": "Q7ryegid9c0Q",
    "outputId": "ad55dd97-4c5c-4af4-c701-076dd0b6cb7c"
   },
   "outputs": [
    {
     "name": "stdout",
     "output_type": "stream",
     "text": [
      "✅ 원본에 없고 새로운 데이터에 추가된 기술 개수: 549 개\n",
      "🔹 새롭게 추가된 기술 목록:\n",
      "     seq  category                       name ner_label\n",
      "1      1  language                  하드웨어 아키텍처    B-LANG\n",
      "3      3  language                objective-c    B-LANG\n",
      "4      4  language                        mac    B-LANG\n",
      "5      5  language            shell scripting    B-LANG\n",
      "6      6  language                 embedded c    B-LANG\n",
      "..   ...       ...                        ...       ...\n",
      "681  681      tool                   통계 자료 분석    B-TOOL\n",
      "682  682      tool                     데이터 분석    B-TOOL\n",
      "683  683      tool  google container registry    B-TOOL\n",
      "684  684      tool                      figma    B-TOOL\n",
      "685  685      tool         google tag manager    B-TOOL\n",
      "\n",
      "[577 rows x 4 columns]\n"
     ]
    }
   ],
   "source": [
    "import pandas as pd\n",
    "\n",
    "# 파일 경로\n",
    "original_file = \"/content/technical_element_labeled.csv\"\n",
    "new_file = \"/content/final_mapped_ner_labels_technicalTags.csv\"\n",
    "\n",
    "# CSV 파일 로드\n",
    "df_original = pd.read_csv(original_file, encoding=\"utf-8-sig\")\n",
    "df_new = pd.read_csv(new_file, encoding=\"utf-8-sig\")\n",
    "\n",
    "# 원본과 새로운 데이터의 'name' 컬럼에서 차이점 찾기\n",
    "original_names = set(df_original[\"name\"].str.lower().str.strip())  # 소문자 변환 및 공백 제거\n",
    "new_names = set(df_new[\"name\"].str.lower().str.strip())\n",
    "\n",
    "# 새로운 데이터에만 존재하는 기술명 찾기\n",
    "new_only_names = new_names - original_names\n",
    "\n",
    "# 새로운 기술들만 필터링\n",
    "new_technologies_df = df_new[df_new[\"name\"].str.lower().str.strip().isin(new_only_names)]\n",
    "\n",
    "# 결과 출력\n",
    "print(f\"✅ 원본에 없고 새로운 데이터에 추가된 기술 개수: {len(new_only_names)} 개\")\n",
    "print(\"🔹 새롭게 추가된 기술 목록:\")\n",
    "print(new_technologies_df)\n"
   ]
  },
  {
   "cell_type": "markdown",
   "metadata": {
    "id": "_rfV9y-KCDN4"
   },
   "source": [
    "# 1-2. 원본에는 없고, 새롭게 추가된 기술 (ner 태그) : technical_element_labeled 형식에 맞게 컬럼 변환 완료(seq, category, name, ner_label 순)"
   ]
  },
  {
   "cell_type": "code",
   "execution_count": null,
   "metadata": {
    "colab": {
     "base_uri": "https://localhost:8080/"
    },
    "executionInfo": {
     "elapsed": 358,
     "status": "ok",
     "timestamp": 1739495070401,
     "user": {
      "displayName": "GAYOON CHOI",
      "userId": "14384576936901363882"
     },
     "user_tz": -540
    },
    "id": "8yfGH6kF-YNh",
    "outputId": "1eec0b35-9d47-43e0-c9c8-cff323947705"
   },
   "outputs": [
    {
     "name": "stdout",
     "output_type": "stream",
     "text": [
      "✅ 새롭게 추가된 기술 개수: 549 개\n",
      "✅ CSV 파일 저장 완료: /content/newly_added_technical_element_labeled.csv\n"
     ]
    }
   ],
   "source": [
    "import pandas as pd\n",
    "\n",
    "# 파일 경로\n",
    "original_file = \"/content/technical_element_labeled.csv\"\n",
    "new_file = \"/content/final_mapped_ner_labels_technicalTags.csv\"\n",
    "\n",
    "# CSV 파일 로드\n",
    "df_original = pd.read_csv(original_file, encoding=\"utf-8-sig\")\n",
    "df_new = pd.read_csv(new_file, encoding=\"utf-8-sig\")\n",
    "\n",
    "# 원본과 새로운 데이터의 'name' 컬럼에서 차이점 찾기\n",
    "original_names = set(df_original[\"name\"].str.lower().str.strip())  # 소문자 변환 및 공백 제거\n",
    "new_names = set(df_new[\"name\"].str.lower().str.strip())\n",
    "\n",
    "# 새로운 데이터에만 존재하는 기술명 찾기\n",
    "new_only_names = new_names - original_names\n",
    "\n",
    "# 새로운 기술들만 필터링\n",
    "new_technologies_df = df_new[df_new[\"name\"].str.lower().str.strip().isin(new_only_names)]\n",
    "\n",
    "# 결과를 CSV 파일로 저장\n",
    "output_file = \"/content/newly_added_technical_element_labeled.csv\"\n",
    "new_technologies_df.to_csv(output_file, index=False, encoding=\"utf-8-sig\")\n",
    "\n",
    "print(f\"✅ 새롭게 추가된 기술 개수: {len(new_only_names)} 개\")\n",
    "print(f\"✅ CSV 파일 저장 완료: {output_file}\")\n"
   ]
  },
  {
   "cell_type": "code",
   "execution_count": null,
   "metadata": {
    "colab": {
     "base_uri": "https://localhost:8080/"
    },
    "executionInfo": {
     "elapsed": 315,
     "status": "ok",
     "timestamp": 1739495212214,
     "user": {
      "displayName": "GAYOON CHOI",
      "userId": "14384576936901363882"
     },
     "user_tz": -540
    },
    "id": "v49Du-b3_e8H",
    "outputId": "8d6a2827-d239-4329-b92e-7657efa32e08"
   },
   "outputs": [
    {
     "name": "stdout",
     "output_type": "stream",
     "text": [
      "🔹 새롭게 추가된 기술들의 NER 태그별 개수:\n",
      "ner_label\n",
      "B-TOOL     322\n",
      "B-FRAME    150\n",
      "B-LIB       57\n",
      "B-LANG      48\n",
      "Name: count, dtype: int64\n"
     ]
    }
   ],
   "source": [
    "import pandas as pd\n",
    "\n",
    "# 새롭게 추가된 기술 목록 CSV 파일 로드\n",
    "new_technologies_file = \"/content/newly_added_technical_element_labeled.csv\"\n",
    "df_new_tech = pd.read_csv(new_technologies_file, encoding=\"utf-8-sig\")\n",
    "\n",
    "# NER 태그별 개수 카운트\n",
    "ner_tag_counts = df_new_tech[\"ner_label\"].value_counts()\n",
    "\n",
    "# 결과 출력\n",
    "print(\"🔹 새롭게 추가된 기술들의 NER 태그별 개수:\")\n",
    "print(ner_tag_counts)\n"
   ]
  },
  {
   "cell_type": "code",
   "execution_count": null,
   "metadata": {
    "id": "6hU6-buTAgVo"
   },
   "outputs": [],
   "source": [
    "# 원본 개수는 아래와 같다\n",
    "ner_label\n",
    "B-TOOL     361\n",
    "B-FRAME    147\n",
    "B-LIB      114\n",
    "B-LANG      99\n",
    "Name: total_count, dtype: int64"
   ]
  },
  {
   "cell_type": "markdown",
   "metadata": {
    "id": "bFlUnr9pCwuP"
   },
   "source": [
    "# 1-3. 원본 ner 라벨 태그에서 synonym 칼럼 제거하고, 실제 학습 진행 후 자동 분류 확인 예정"
   ]
  },
  {
   "cell_type": "code",
   "execution_count": null,
   "metadata": {
    "id": "mRYzvVtAC9Xm"
   },
   "outputs": [],
   "source": [
    "직접 csv 파일 열어서 synonym 칼럼을 마우스 우클릭 > 컬럼 삭제 해버리면 csv 파일 자체가 열이 밀려버린다."
   ]
  },
  {
   "cell_type": "code",
   "execution_count": null,
   "metadata": {
    "colab": {
     "base_uri": "https://localhost:8080/"
    },
    "executionInfo": {
     "elapsed": 496,
     "status": "ok",
     "timestamp": 1739496112070,
     "user": {
      "displayName": "GAYOON CHOI",
      "userId": "14384576936901363882"
     },
     "user_tz": -540
    },
    "id": "6I-s8MwuC2Re",
    "outputId": "cc63cb36-bd24-4c57-b82c-2ecd5118e180"
   },
   "outputs": [
    {
     "name": "stdout",
     "output_type": "stream",
     "text": [
      "✅ 'synonym' 칼럼 제거 완료! 저장 경로: /content/technical_element_labeled2.csv\n"
     ]
    }
   ],
   "source": [
    "import pandas as pd\n",
    "\n",
    "# 파일 경로 설정\n",
    "input_file = \"/content/technical_element_labeled.csv\"\n",
    "output_file = \"/content/technical_element_labeled2.csv\"\n",
    "\n",
    "# CSV 파일 로드\n",
    "df = pd.read_csv(input_file, encoding=\"utf-8-sig\")\n",
    "\n",
    "# synonym 칼럼 삭제\n",
    "df.drop(columns=[\"synonym\"], inplace=True, errors='ignore')\n",
    "\n",
    "# 결과를 새로운 CSV 파일로 저장\n",
    "df.to_csv(output_file, index=False, encoding=\"utf-8-sig\")\n",
    "\n",
    "print(f\"✅ 'synonym' 칼럼 제거 완료! 저장 경로: {output_file}\")\n"
   ]
  },
  {
   "cell_type": "markdown",
   "metadata": {
    "id": "4yIXsk7bGNod"
   },
   "source": [
    "# 1-4. morpheme_eng 칼럼에서 작업 테스트 진행하기"
   ]
  },
  {
   "cell_type": "code",
   "execution_count": null,
   "metadata": {
    "id": "Fx3swdqdGQ3V"
   },
   "outputs": [],
   "source": [
    "# 이찬님 작업 코드\n",
    "# 2025-01-24-12_categorized.csv 파일\n"
   ]
  },
  {
   "cell_type": "markdown",
   "metadata": {
    "id": "aMDkyVsjM42R"
   },
   "source": [
    "# 1-4-1. ner 태그 개수 증강 전략"
   ]
  },
  {
   "cell_type": "code",
   "execution_count": null,
   "metadata": {
    "colab": {
     "base_uri": "https://localhost:8080/"
    },
    "executionInfo": {
     "elapsed": 1829,
     "status": "ok",
     "timestamp": 1739498738625,
     "user": {
      "displayName": "GAYOON CHOI",
      "userId": "14384576936901363882"
     },
     "user_tz": -540
    },
    "id": "T-GBROsuM4dq",
    "outputId": "fce530da-39c8-4851-8bb2-3d4f012f3132"
   },
   "outputs": [
    {
     "name": "stdout",
     "output_type": "stream",
     "text": [
      "🔹 원본 데이터 NER 태그별 개수:\n",
      " ner_label\n",
      "B-TOOL     141\n",
      "B-FRAME     54\n",
      "B-LIB       48\n",
      "B-LANG      35\n",
      "Name: count, dtype: int64\n",
      "✅ 균형 조정 후 NER 태그별 개수:\n",
      " ner_label\n",
      "B-TOOL     463\n",
      "B-FRAME    291\n",
      "B-LIB      198\n",
      "B-LANG     189\n",
      "Name: count, dtype: int64\n",
      "✅ 균형 잡힌 데이터 저장 완료! 저장 경로: /content/balanced_ner_dataset.csv\n"
     ]
    }
   ],
   "source": [
    "import pandas as pd\n",
    "\n",
    "# 파일 경로\n",
    "original_file = \"/content/technical_element_labeled2.csv\"  # 원본 데이터\n",
    "new_data_file = \"/content/newly_added_technical_element_labeled.csv\"  # 새로 추가된 기술 데이터\n",
    "balanced_output_file = \"/content/balanced_ner_dataset.csv\"  # 최종 균형 잡힌 NER 데이터\n",
    "\n",
    "# CSV 파일 로드\n",
    "df_original = pd.read_csv(original_file, encoding=\"utf-8-sig\")\n",
    "df_new = pd.read_csv(new_data_file, encoding=\"utf-8-sig\")\n",
    "\n",
    "# NER 태그별 개수 확인 (원본 데이터)\n",
    "tag_counts = df_original[\"ner_label\"].value_counts()\n",
    "print(\"🔹 원본 데이터 NER 태그별 개수:\\n\", tag_counts)\n",
    "\n",
    "# 🚀 데이터 증강 (태그 불균형 해결)\n",
    "target_count = tag_counts.max()  # 가장 많은 태그 개수를 기준으로 맞춤\n",
    "balanced_df = df_original.copy()\n",
    "\n",
    "# 태그별로 부족한 개수만큼 복제하여 균형 맞추기\n",
    "for tag, count in tag_counts.items():\n",
    "    if count < target_count:\n",
    "        needed_samples = target_count - count  # 부족한 개수 계산\n",
    "        sampled_data = df_original[df_original[\"ner_label\"] == tag].sample(n=needed_samples, replace=True, random_state=42)\n",
    "        balanced_df = pd.concat([balanced_df, sampled_data], ignore_index=True)\n",
    "\n",
    "# 🔹 새로운 기술 데이터 추가\n",
    "balanced_df = pd.concat([balanced_df, df_new], ignore_index=True)\n",
    "\n",
    "# ✅ 균형 잡힌 NER 데이터 개수 확인\n",
    "balanced_tag_counts = balanced_df[\"ner_label\"].value_counts()\n",
    "print(\"✅ 균형 조정 후 NER 태그별 개수:\\n\", balanced_tag_counts)\n",
    "\n",
    "# 📌 균형 잡힌 데이터 저장\n",
    "balanced_df.to_csv(balanced_output_file, index=False, encoding=\"utf-8-sig\")\n",
    "print(f\"✅ 균형 잡힌 데이터 저장 완료! 저장 경로: {balanced_output_file}\")\n"
   ]
  },
  {
   "cell_type": "markdown",
   "metadata": {
    "id": "v6tpHGwHNl24"
   },
   "source": [
    "![image.png](data:image/png;base64,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)"
   ]
  },
  {
   "cell_type": "code",
   "execution_count": 5,
   "metadata": {
    "executionInfo": {
     "elapsed": 1000,
     "status": "ok",
     "timestamp": 1739751384050,
     "user": {
      "displayName": "GAYOON CHOI",
      "userId": "14384576936901363882"
     },
     "user_tz": -540
    },
    "id": "oE2v9LNFObPR"
   },
   "outputs": [],
   "source": [
    "import pandas as pd\n",
    "import torch\n",
    "from transformers import BertTokenizer, BertForTokenClassification, Trainer, TrainingArguments\n",
    "from datasets import Dataset\n",
    "from seqeval.metrics import classification_report"
   ]
  },
  {
   "cell_type": "code",
   "execution_count": 6,
   "metadata": {
    "colab": {
     "base_uri": "https://localhost:8080/",
     "height": 281,
     "referenced_widgets": [
      "7c16455ac1924f80ae3e3f48215f8cc0",
      "84fafc1424d24dbabb66cee9479f2f33",
      "0a4155b7a8ca41d7a11c9505cdc872e6",
      "a2871ad0da34499e9ed2bf141501c2c7",
      "a24c7830e36142719e059bdddbbb6261",
      "26ba69ba5175429eab5c52a01e3eef5e",
      "e18d1e815df24ef0b8e47e3722e45e09",
      "b04adab3c5af4b108fc5a1d0b7f9fbe3",
      "78807ddd5c9e4b8baea8d0fd436658cb",
      "24208cdf90154abca05fc081432d10a7",
      "60437dd466684910b0cf16f2d80cd1d9",
      "dea02536ee2e42a7a6c66dfec126ea28",
      "ea20477e8eb641fa96afd53bd5429f06",
      "e2c3bf4792224abf87ae9fda6037863f",
      "350f27e46a1c44be94d7da8c3f7ee22c",
      "3970a0087b304fe79c735b6af7229161",
      "ec17664b6c9046c98417bc2e5f644ea4",
      "536f534b1ebe4aaf9e6146b1e9fadd64",
      "00342bba924745e099e24e1eec8620d0",
      "6859cd20fa9c44378cb9dfdd9facc312",
      "e71112bdd64b483f87318c5b0ccdf7fb",
      "a27c187588d7496e9f3d6a4ee966e55a",
      "79d14431bf9746d19ad79725be1c631d",
      "fe73394821454caf8687e8ada0ca6a05",
      "ceff5dffc26f4952b344d8d81f95f709",
      "de395d477d514d3ba613a7a925e53cca",
      "05fcdae1b4f94758975bbfb6c1b1f8b5",
      "ce48fce8d1ce4057bf6da37c89128998",
      "47c4df7367c74c78936eeb0f34b530eb",
      "4f4a06a96504479db9b169b784395f31",
      "489b09b2ed974d988635ca38c8f7a5f4",
      "c42c4e92edf0441ea3373420b11ec5e1",
      "bd240b52c6df4f49a771218ab3dade0d",
      "55d829181e1c4fc1ba497f71937ee7f1",
      "b9c71c8a060b4bbb966c80ea7192d139",
      "be10cb2dce28443784f794392000e1c2",
      "2ecd23e30b804989915858d730dc85e2",
      "2a78602a51634b14b0e18827df5bc9e1",
      "be3190e4a00b484ebfc4dcdc98ab679c",
      "94a5234dfc0d4998865d5e27e6456af7",
      "720d185a22c44cbb9206ac902f720939",
      "d55784d5ba384b7697b18d41b44b9f92",
      "b919b20864ef47359030cb9a1b97a12c",
      "9f294c98046a43e1895b1b467bff1136",
      "1c98acf0338a41d3a27ac99ec54f4662",
      "297b1e03f5f8487daf151067cec980cc",
      "65887a31e6e04862a70d0604dce41311",
      "d23f154058ac45eaac4cbf6b4e86b71c",
      "86e2dd640ceb4fa0ae6cd1734a66b323",
      "195abd645ea64553b8f6526fb1e01a7d",
      "10a4a762453a43a89ca0d1eff9ed63c9",
      "51f1e4c4e0ef4b34b2e1b196d21de8dd",
      "97c51e13be34444c905b04d87830a416",
      "92c4deb477fd4f5dba001ef1ad8eb6de",
      "90fd622c3b2c48af996eec5f0b8315b9"
     ]
    },
    "executionInfo": {
     "elapsed": 10697,
     "status": "ok",
     "timestamp": 1739751414886,
     "user": {
      "displayName": "GAYOON CHOI",
      "userId": "14384576936901363882"
     },
     "user_tz": -540
    },
    "id": "UeZ1ISKmNoJx",
    "outputId": "5a98b024-6432-4733-828d-f977b5079598"
   },
   "outputs": [
    {
     "name": "stderr",
     "output_type": "stream",
     "text": [
      "/usr/local/lib/python3.11/dist-packages/huggingface_hub/utils/_auth.py:94: UserWarning: \n",
      "The secret `HF_TOKEN` does not exist in your Colab secrets.\n",
      "To authenticate with the Hugging Face Hub, create a token in your settings tab (https://huggingface.co/settings/tokens), set it as secret in your Google Colab and restart your session.\n",
      "You will be able to reuse this secret in all of your notebooks.\n",
      "Please note that authentication is recommended but still optional to access public models or datasets.\n",
      "  warnings.warn(\n"
     ]
    },
    {
     "data": {
      "application/vnd.jupyter.widget-view+json": {
       "model_id": "7c16455ac1924f80ae3e3f48215f8cc0",
       "version_major": 2,
       "version_minor": 0
      },
      "text/plain": [
       "tokenizer_config.json:   0%|          | 0.00/49.0 [00:00<?, ?B/s]"
      ]
     },
     "metadata": {},
     "output_type": "display_data"
    },
    {
     "data": {
      "application/vnd.jupyter.widget-view+json": {
       "model_id": "dea02536ee2e42a7a6c66dfec126ea28",
       "version_major": 2,
       "version_minor": 0
      },
      "text/plain": [
       "vocab.txt:   0%|          | 0.00/996k [00:00<?, ?B/s]"
      ]
     },
     "metadata": {},
     "output_type": "display_data"
    },
    {
     "data": {
      "application/vnd.jupyter.widget-view+json": {
       "model_id": "79d14431bf9746d19ad79725be1c631d",
       "version_major": 2,
       "version_minor": 0
      },
      "text/plain": [
       "tokenizer.json:   0%|          | 0.00/1.96M [00:00<?, ?B/s]"
      ]
     },
     "metadata": {},
     "output_type": "display_data"
    },
    {
     "data": {
      "application/vnd.jupyter.widget-view+json": {
       "model_id": "55d829181e1c4fc1ba497f71937ee7f1",
       "version_major": 2,
       "version_minor": 0
      },
      "text/plain": [
       "config.json:   0%|          | 0.00/625 [00:00<?, ?B/s]"
      ]
     },
     "metadata": {},
     "output_type": "display_data"
    },
    {
     "data": {
      "application/vnd.jupyter.widget-view+json": {
       "model_id": "1c98acf0338a41d3a27ac99ec54f4662",
       "version_major": 2,
       "version_minor": 0
      },
      "text/plain": [
       "Map:   0%|          | 0/1141 [00:00<?, ? examples/s]"
      ]
     },
     "metadata": {},
     "output_type": "display_data"
    }
   ],
   "source": [
    "# 📌 파일 경로\n",
    "TRAIN_DATA = \"/content/balanced_ner_dataset.csv\"  # 균형 잡힌 학습 데이터\n",
    "MODEL_NAME = \"bert-base-multilingual-cased\"  # 다국어 BERT 모델\n",
    "\n",
    "# 🔹 데이터 로드\n",
    "df = pd.read_csv(TRAIN_DATA, encoding=\"utf-8-sig\")\n",
    "\n",
    "# 🔹 BERT 토크나이저 로드\n",
    "tokenizer = BertTokenizer.from_pretrained(MODEL_NAME)\n",
    "\n",
    "# 🔹 NER 태그 매핑\n",
    "ner_labels = [\"O\", \"B-LANG\", \"B-FRAME\", \"B-LIB\", \"B-TOOL\"]\n",
    "label_map = {label: idx for idx, label in enumerate(ner_labels)}\n",
    "\n",
    "# 🔹 데이터 전처리 함수 (토큰화 + NER 라벨 인코딩)\n",
    "def preprocess_data(examples):\n",
    "    tokens = examples[\"name\"].split()\n",
    "    labels = examples[\"ner_label\"].split()\n",
    "\n",
    "    inputs = tokenizer(\n",
    "        tokens,\n",
    "        is_split_into_words=True,\n",
    "        truncation=True,\n",
    "        padding=\"max_length\",\n",
    "        max_length=512\n",
    "    )\n",
    "\n",
    "    input_length = len(inputs[\"input_ids\"])\n",
    "\n",
    "    # ✅ labels의 길이를 input_ids와 동일하도록 설정\n",
    "    label_ids = [label_map.get(label, label_map[\"O\"]) for label in labels]\n",
    "    label_ids += [label_map[\"O\"]] * (input_length - len(label_ids))\n",
    "    label_ids = label_ids[:input_length]\n",
    "\n",
    "    inputs[\"labels\"] = label_ids\n",
    "\n",
    "    return inputs\n",
    "\n",
    "# 🔹 Hugging Face Dataset 변환\n",
    "dataset = Dataset.from_pandas(df)\n",
    "dataset = dataset.map(preprocess_data)\n",
    "\n",
    "# 🔹 훈련 & 평가 데이터 분할\n",
    "train_test_split = dataset.train_test_split(test_size=0.2)\n",
    "train_dataset, eval_dataset = train_test_split[\"train\"], train_test_split[\"test\"]\n"
   ]
  },
  {
   "cell_type": "code",
   "execution_count": 7,
   "metadata": {
    "colab": {
     "base_uri": "https://localhost:8080/"
    },
    "executionInfo": {
     "elapsed": 2104,
     "status": "ok",
     "timestamp": 1739751425274,
     "user": {
      "displayName": "GAYOON CHOI",
      "userId": "14384576936901363882"
     },
     "user_tz": -540
    },
    "id": "RqIpfMiDP9PR",
    "outputId": "d30e97c4-c3e1-42ef-e698-2d8b97d02949"
   },
   "outputs": [
    {
     "name": "stdout",
     "output_type": "stream",
     "text": [
      "✅ WordPiece 기반 NER 훈련 데이터 생성 완료! 파일 저장: /content/ner4_training_data.csv\n"
     ]
    }
   ],
   "source": [
    "import pandas as pd\n",
    "from transformers import BertTokenizer\n",
    "\n",
    "# 🔹 파일 경로 설정\n",
    "TRAIN_DATA_PATH = \"/content/balanced_ner_dataset.csv\"\n",
    "OUTPUT_TRAIN_PATH = \"/content/ner4_training_data.csv\"\n",
    "\n",
    "# 🔹 BERT 토크나이저 로드\n",
    "model_name = \"bert-base-multilingual-cased\"\n",
    "tokenizer = BertTokenizer.from_pretrained(model_name)\n",
    "\n",
    "# 🔹 데이터 로드\n",
    "df = pd.read_csv(TRAIN_DATA_PATH, encoding=\"utf-8-sig\")\n",
    "\n",
    "# 🔹 WordPiece 토큰화 및 NER 라벨 적용\n",
    "wordpiece_tokens_list = []\n",
    "ner_labels_list = []\n",
    "\n",
    "for _, row in df.iterrows():\n",
    "    words = [row[\"name\"].lower()]  # name 컬럼 (기본 단어)\n",
    "    #if pd.notna(row[\"synonym\"]):  # Synonym이 있으면 추가\n",
    "     #   words.extend([syn.strip().lower() for syn in row[\"synonym\"].split(\",\")])\n",
    "\n",
    "    for word in words:\n",
    "        tokens = tokenizer.tokenize(word)  # WordPiece 토큰화\n",
    "        ner_label = row[\"ner_label\"]  # 이미 부여된 NER 라벨\n",
    "\n",
    "        wordpiece_tokens_list.append(\" \".join(tokens))\n",
    "        ner_labels_list.append(\" \".join([ner_label] * len(tokens)))  # 모든 워드피스에 동일한 라벨 적용\n",
    "\n",
    "# 🔹 새로운 데이터프레임 생성\n",
    "train_df = pd.DataFrame({\n",
    "    \"wordpiece_tokens\": wordpiece_tokens_list,\n",
    "    \"ner_labels\": ner_labels_list\n",
    "})\n",
    "\n",
    "# 🔹 저장\n",
    "train_df.to_csv(OUTPUT_TRAIN_PATH, index=False, encoding=\"utf-8-sig\")\n",
    "\n",
    "\n",
    "print(f\"✅ WordPiece 기반 NER 훈련 데이터 생성 완료! 파일 저장: {OUTPUT_TRAIN_PATH}\")\n"
   ]
  },
  {
   "cell_type": "code",
   "execution_count": 8,
   "metadata": {
    "colab": {
     "base_uri": "https://localhost:8080/",
     "height": 49,
     "referenced_widgets": [
      "4b337765e2774206bf0a7740bef884de",
      "1898dd1edee44592bccae8982cec679d",
      "b7d086d4996942daaa6edeaa68cab75c",
      "2b316eb6b00e4e359510b6be7b80bba4",
      "15a8c8ce2a82437b87143a144f27a976",
      "1b301f958ca74b698b19ba037d52fc44",
      "d04f757d72264dc189eee202a24d521b",
      "bba5a8a4901c4942a2def494e1e09a7e",
      "1392adefe5c446ad90ba84b1c0ce3da7",
      "ea4b373bca2746e2b7158b738502770a",
      "b5862431e0e64106b52f4d91ec3b40b3"
     ]
    },
    "executionInfo": {
     "elapsed": 2566,
     "status": "ok",
     "timestamp": 1739751433854,
     "user": {
      "displayName": "GAYOON CHOI",
      "userId": "14384576936901363882"
     },
     "user_tz": -540
    },
    "id": "z-SkOZ9pQJrQ",
    "outputId": "9b1df5de-8639-4ebc-c2da-4cee4064cae5"
   },
   "outputs": [
    {
     "data": {
      "application/vnd.jupyter.widget-view+json": {
       "model_id": "4b337765e2774206bf0a7740bef884de",
       "version_major": 2,
       "version_minor": 0
      },
      "text/plain": [
       "Map:   0%|          | 0/1141 [00:00<?, ? examples/s]"
      ]
     },
     "metadata": {},
     "output_type": "display_data"
    }
   ],
   "source": [
    "import torch\n",
    "from datasets import Dataset\n",
    "\n",
    "# 🔹 NER 태그 정의\n",
    "ner_labels = [\"O\", \"B-LANG\", \"B-FRAME\", \"B-LIB\", \"B-TOOL\"]\n",
    "label_map = {label: idx for idx, label in enumerate(ner_labels)}\n",
    "\n",
    "# 🔹 데이터 전처리 함수\n",
    "def preprocess_data(examples):\n",
    "    tokens = examples[\"wordpiece_tokens\"].split()\n",
    "    labels = examples[\"ner_labels\"].split()\n",
    "\n",
    "    # ✅ 토큰화를 실행하고 padding & truncation 적용\n",
    "    inputs = tokenizer(\n",
    "        tokens,\n",
    "        is_split_into_words=True,\n",
    "        truncation=True,\n",
    "        padding=\"max_length\",\n",
    "        max_length=512\n",
    "    )\n",
    "\n",
    "    # ✅ 실제 토큰 길이 가져오기\n",
    "    input_length = len(inputs[\"input_ids\"])\n",
    "\n",
    "    # ✅ labels의 길이를 input_ids와 동일하도록 설정\n",
    "    label_ids = [label_map.get(label, label_map[\"O\"]) for label in labels]\n",
    "    label_ids += [label_map[\"O\"]] * (input_length - len(label_ids))\n",
    "    label_ids = label_ids[:input_length]\n",
    "\n",
    "    inputs[\"labels\"] = label_ids\n",
    "    return inputs\n",
    "\n",
    "# 🔹 Dataset 변환 및 전처리\n",
    "dataset = Dataset.from_pandas(train_df)\n",
    "dataset = dataset.map(preprocess_data)\n",
    "\n",
    "# 🔹 훈련 & 평가 데이터 분할\n",
    "train_test_split = dataset.train_test_split(test_size=0.2)\n",
    "train_dataset, eval_dataset = train_test_split[\"train\"], train_test_split[\"test\"]\n"
   ]
  },
  {
   "cell_type": "code",
   "execution_count": 9,
   "metadata": {
    "colab": {
     "base_uri": "https://localhost:8080/",
     "height": 584,
     "referenced_widgets": [
      "67ba8709f05448ea9cb500b61b8c507b",
      "9761cda1bb014bc89d0410385aa3844c",
      "126718a44ccf42d9a9ca3f39ec307bf7",
      "0af91d92dbf14e018cce3950c56d193c",
      "feeb172c0950472aaafed5cefb5bec4f",
      "93184038c68e41f19a0c9356b29ff5ce",
      "339ea2746a2b43b5a13c5bef4375c613",
      "205e921c2440462a9ccc7bccfc7b29b4",
      "4f05a60ff16f4140ba7b4fd614ea2135",
      "690cc79579f74004b5f25b90ac25198d",
      "a92022754f494aa8a2b4f81c24dc9cba"
     ]
    },
    "executionInfo": {
     "elapsed": 515405,
     "status": "ok",
     "timestamp": 1739751958841,
     "user": {
      "displayName": "GAYOON CHOI",
      "userId": "14384576936901363882"
     },
     "user_tz": -540
    },
    "id": "hQUryVNxQPNY",
    "outputId": "1e1efb2a-7da2-4501-8869-8153ec1f56a8"
   },
   "outputs": [
    {
     "name": "stderr",
     "output_type": "stream",
     "text": [
      "/usr/local/lib/python3.11/dist-packages/transformers/training_args.py:1575: FutureWarning: `evaluation_strategy` is deprecated and will be removed in version 4.46 of 🤗 Transformers. Use `eval_strategy` instead\n",
      "  warnings.warn(\n"
     ]
    },
    {
     "data": {
      "application/vnd.jupyter.widget-view+json": {
       "model_id": "67ba8709f05448ea9cb500b61b8c507b",
       "version_major": 2,
       "version_minor": 0
      },
      "text/plain": [
       "model.safetensors:   0%|          | 0.00/714M [00:00<?, ?B/s]"
      ]
     },
     "metadata": {},
     "output_type": "display_data"
    },
    {
     "name": "stderr",
     "output_type": "stream",
     "text": [
      "Some weights of BertForTokenClassification were not initialized from the model checkpoint at bert-base-multilingual-cased and are newly initialized: ['classifier.bias', 'classifier.weight']\n",
      "You should probably TRAIN this model on a down-stream task to be able to use it for predictions and inference.\n",
      "<ipython-input-9-08e615e7f6a8>:21: FutureWarning: `tokenizer` is deprecated and will be removed in version 5.0.0 for `Trainer.__init__`. Use `processing_class` instead.\n",
      "  trainer = Trainer(\n",
      "\u001b[34m\u001b[1mwandb\u001b[0m: \u001b[33mWARNING\u001b[0m The `run_name` is currently set to the same value as `TrainingArguments.output_dir`. If this was not intended, please specify a different run name by setting the `TrainingArguments.run_name` parameter.\n"
     ]
    },
    {
     "data": {
      "application/javascript": "\n        window._wandbApiKey = new Promise((resolve, reject) => {\n            function loadScript(url) {\n            return new Promise(function(resolve, reject) {\n                let newScript = document.createElement(\"script\");\n                newScript.onerror = reject;\n                newScript.onload = resolve;\n                document.body.appendChild(newScript);\n                newScript.src = url;\n            });\n            }\n            loadScript(\"https://cdn.jsdelivr.net/npm/postmate/build/postmate.min.js\").then(() => {\n            const iframe = document.createElement('iframe')\n            iframe.style.cssText = \"width:0;height:0;border:none\"\n            document.body.appendChild(iframe)\n            const handshake = new Postmate({\n                container: iframe,\n                url: 'https://wandb.ai/authorize'\n            });\n            const timeout = setTimeout(() => reject(\"Couldn't auto authenticate\"), 5000)\n            handshake.then(function(child) {\n                child.on('authorize', data => {\n                    clearTimeout(timeout)\n                    resolve(data)\n                });\n            });\n            })\n        });\n    ",
      "text/plain": [
       "<IPython.core.display.Javascript object>"
      ]
     },
     "metadata": {},
     "output_type": "display_data"
    },
    {
     "name": "stderr",
     "output_type": "stream",
     "text": [
      "\u001b[34m\u001b[1mwandb\u001b[0m: Logging into wandb.ai. (Learn how to deploy a W&B server locally: https://wandb.me/wandb-server)\n",
      "\u001b[34m\u001b[1mwandb\u001b[0m: You can find your API key in your browser here: https://wandb.ai/authorize\n",
      "wandb: Paste an API key from your profile and hit enter:"
     ]
    },
    {
     "name": "stdout",
     "output_type": "stream",
     "text": [
      " ··········\n"
     ]
    },
    {
     "name": "stderr",
     "output_type": "stream",
     "text": [
      "\u001b[34m\u001b[1mwandb\u001b[0m: \u001b[33mWARNING\u001b[0m If you're specifying your api key in code, ensure this code is not shared publicly.\n",
      "\u001b[34m\u001b[1mwandb\u001b[0m: \u001b[33mWARNING\u001b[0m Consider setting the WANDB_API_KEY environment variable, or running `wandb login` from the command line.\n",
      "\u001b[34m\u001b[1mwandb\u001b[0m: Appending key for api.wandb.ai to your netrc file: /root/.netrc\n",
      "\u001b[34m\u001b[1mwandb\u001b[0m: Currently logged in as: \u001b[33mcgygy8989\u001b[0m (\u001b[33mcgygy8989-\u001b[0m) to \u001b[32mhttps://api.wandb.ai\u001b[0m. Use \u001b[1m`wandb login --relogin`\u001b[0m to force relogin\n",
      "\u001b[34m\u001b[1mwandb\u001b[0m: Using wandb-core as the SDK backend.  Please refer to https://wandb.me/wandb-core for more information.\n"
     ]
    },
    {
     "data": {
      "text/html": [
       "Tracking run with wandb version 0.19.6"
      ],
      "text/plain": [
       "<IPython.core.display.HTML object>"
      ]
     },
     "metadata": {},
     "output_type": "display_data"
    },
    {
     "data": {
      "text/html": [
       "Run data is saved locally in <code>/content/wandb/run-20250217_001751-qna4ueng</code>"
      ],
      "text/plain": [
       "<IPython.core.display.HTML object>"
      ]
     },
     "metadata": {},
     "output_type": "display_data"
    },
    {
     "data": {
      "text/html": [
       "Syncing run <strong><a href='https://wandb.ai/cgygy8989-/huggingface/runs/qna4ueng' target=\"_blank\">./ner4_model</a></strong> to <a href='https://wandb.ai/cgygy8989-/huggingface' target=\"_blank\">Weights & Biases</a> (<a href='https://wandb.me/developer-guide' target=\"_blank\">docs</a>)<br>"
      ],
      "text/plain": [
       "<IPython.core.display.HTML object>"
      ]
     },
     "metadata": {},
     "output_type": "display_data"
    },
    {
     "data": {
      "text/html": [
       " View project at <a href='https://wandb.ai/cgygy8989-/huggingface' target=\"_blank\">https://wandb.ai/cgygy8989-/huggingface</a>"
      ],
      "text/plain": [
       "<IPython.core.display.HTML object>"
      ]
     },
     "metadata": {},
     "output_type": "display_data"
    },
    {
     "data": {
      "text/html": [
       " View run at <a href='https://wandb.ai/cgygy8989-/huggingface/runs/qna4ueng' target=\"_blank\">https://wandb.ai/cgygy8989-/huggingface/runs/qna4ueng</a>"
      ],
      "text/plain": [
       "<IPython.core.display.HTML object>"
      ]
     },
     "metadata": {},
     "output_type": "display_data"
    },
    {
     "data": {
      "text/html": [
       "\n",
       "    <div>\n",
       "      \n",
       "      <progress value='684' max='684' style='width:300px; height:20px; vertical-align: middle;'></progress>\n",
       "      [684/684 08:01, Epoch 3/3]\n",
       "    </div>\n",
       "    <table border=\"1\" class=\"dataframe\">\n",
       "  <thead>\n",
       " <tr style=\"text-align: left;\">\n",
       "      <th>Epoch</th>\n",
       "      <th>Training Loss</th>\n",
       "      <th>Validation Loss</th>\n",
       "    </tr>\n",
       "  </thead>\n",
       "  <tbody>\n",
       "    <tr>\n",
       "      <td>1</td>\n",
       "      <td>0.008700</td>\n",
       "      <td>0.008169</td>\n",
       "    </tr>\n",
       "    <tr>\n",
       "      <td>2</td>\n",
       "      <td>0.009600</td>\n",
       "      <td>0.007624</td>\n",
       "    </tr>\n",
       "    <tr>\n",
       "      <td>3</td>\n",
       "      <td>0.007600</td>\n",
       "      <td>0.007695</td>\n",
       "    </tr>\n",
       "  </tbody>\n",
       "</table><p>"
      ],
      "text/plain": [
       "<IPython.core.display.HTML object>"
      ]
     },
     "metadata": {},
     "output_type": "display_data"
    },
    {
     "data": {
      "text/plain": [
       "TrainOutput(global_step=684, training_loss=0.012260788940002171, metrics={'train_runtime': 507.0393, 'train_samples_per_second': 5.396, 'train_steps_per_second': 1.349, 'total_flos': 714927316746240.0, 'train_loss': 0.012260788940002171, 'epoch': 3.0})"
      ]
     },
     "execution_count": 9,
     "metadata": {},
     "output_type": "execute_result"
    }
   ],
   "source": [
    "from transformers import BertForTokenClassification, Trainer, TrainingArguments\n",
    "\n",
    "# 🔹 학습 파라미터 설정\n",
    "training_args = TrainingArguments(\n",
    "    output_dir=\"./ner4_model\",\n",
    "    evaluation_strategy=\"epoch\",\n",
    "    save_strategy=\"epoch\",\n",
    "    learning_rate=5e-5,\n",
    "    per_device_train_batch_size=4,\n",
    "    per_device_eval_batch_size=4,\n",
    "    num_train_epochs=3,\n",
    "    weight_decay=0.01,\n",
    "    logging_dir=\"./logs\",\n",
    "    logging_steps=10\n",
    ")\n",
    "\n",
    "# 🔹 BERT 모델 초기화 (NER 태그 개수 지정)\n",
    "model = BertForTokenClassification.from_pretrained(model_name, num_labels=len(ner_labels))\n",
    "\n",
    "# 🔹 Trainer 설정\n",
    "trainer = Trainer(\n",
    "    model=model,\n",
    "    args=training_args,\n",
    "    train_dataset=train_dataset,\n",
    "    eval_dataset=eval_dataset,\n",
    "    tokenizer=tokenizer\n",
    ")\n",
    "\n",
    "# 🔹 모델 학습 시작\n",
    "trainer.train()\n"
   ]
  },
  {
   "cell_type": "code",
   "execution_count": 10,
   "metadata": {
    "colab": {
     "base_uri": "https://localhost:8080/"
    },
    "executionInfo": {
     "elapsed": 9,
     "status": "ok",
     "timestamp": 1739751958842,
     "user": {
      "displayName": "GAYOON CHOI",
      "userId": "14384576936901363882"
     },
     "user_tz": -540
    },
    "id": "RpForsj3QTkw",
    "outputId": "a4d97b00-f61d-4951-82ca-43a7ed7b8b74"
   },
   "outputs": [
    {
     "data": {
      "text/plain": [
       "BertForTokenClassification(\n",
       "  (bert): BertModel(\n",
       "    (embeddings): BertEmbeddings(\n",
       "      (word_embeddings): Embedding(119547, 768, padding_idx=0)\n",
       "      (position_embeddings): Embedding(512, 768)\n",
       "      (token_type_embeddings): Embedding(2, 768)\n",
       "      (LayerNorm): LayerNorm((768,), eps=1e-12, elementwise_affine=True)\n",
       "      (dropout): Dropout(p=0.1, inplace=False)\n",
       "    )\n",
       "    (encoder): BertEncoder(\n",
       "      (layer): ModuleList(\n",
       "        (0-11): 12 x BertLayer(\n",
       "          (attention): BertAttention(\n",
       "            (self): BertSdpaSelfAttention(\n",
       "              (query): Linear(in_features=768, out_features=768, bias=True)\n",
       "              (key): Linear(in_features=768, out_features=768, bias=True)\n",
       "              (value): Linear(in_features=768, out_features=768, bias=True)\n",
       "              (dropout): Dropout(p=0.1, inplace=False)\n",
       "            )\n",
       "            (output): BertSelfOutput(\n",
       "              (dense): Linear(in_features=768, out_features=768, bias=True)\n",
       "              (LayerNorm): LayerNorm((768,), eps=1e-12, elementwise_affine=True)\n",
       "              (dropout): Dropout(p=0.1, inplace=False)\n",
       "            )\n",
       "          )\n",
       "          (intermediate): BertIntermediate(\n",
       "            (dense): Linear(in_features=768, out_features=3072, bias=True)\n",
       "            (intermediate_act_fn): GELUActivation()\n",
       "          )\n",
       "          (output): BertOutput(\n",
       "            (dense): Linear(in_features=3072, out_features=768, bias=True)\n",
       "            (LayerNorm): LayerNorm((768,), eps=1e-12, elementwise_affine=True)\n",
       "            (dropout): Dropout(p=0.1, inplace=False)\n",
       "          )\n",
       "        )\n",
       "      )\n",
       "    )\n",
       "  )\n",
       "  (dropout): Dropout(p=0.1, inplace=False)\n",
       "  (classifier): Linear(in_features=768, out_features=5, bias=True)\n",
       ")"
      ]
     },
     "execution_count": 10,
     "metadata": {},
     "output_type": "execute_result"
    }
   ],
   "source": [
    "import torch\n",
    "\n",
    "# 모델이 GPU에서 실행 중이면, GPU로 설정\n",
    "device = \"cuda\" if torch.cuda.is_available() else \"cpu\"\n",
    "model.to(device)"
   ]
  },
  {
   "cell_type": "code",
   "execution_count": 15,
   "metadata": {
    "colab": {
     "base_uri": "https://localhost:8080/"
    },
    "executionInfo": {
     "elapsed": 1000,
     "status": "ok",
     "timestamp": 1739752515460,
     "user": {
      "displayName": "GAYOON CHOI",
      "userId": "14384576936901363882"
     },
     "user_tz": -540
    },
    "id": "Q2VaGP0iVJuy",
    "outputId": "e50f919b-8a14-4240-8a7d-d54a1324d889"
   },
   "outputs": [
    {
     "name": "stdout",
     "output_type": "stream",
     "text": [
      "✅ 모델 디렉토리가 존재합니다.\n",
      "📂 저장된 파일 목록: ['checkpoint-456', 'checkpoint-228', 'checkpoint-684']\n"
     ]
    }
   ],
   "source": [
    "import os\n",
    "\n",
    "model_path = \"/content/ner4_model\"\n",
    "if os.path.exists(model_path):\n",
    "    print(\"✅ 모델 디렉토리가 존재합니다.\")\n",
    "    print(\"📂 저장된 파일 목록:\", os.listdir(model_path))\n",
    "else:\n",
    "    print(\"❌ 모델 디렉토리가 존재하지 않습니다. 다시 훈련 후 저장이 필요합니다.\")\n"
   ]
  },
  {
   "cell_type": "code",
   "execution_count": 16,
   "metadata": {
    "colab": {
     "base_uri": "https://localhost:8080/"
    },
    "executionInfo": {
     "elapsed": 4453,
     "status": "ok",
     "timestamp": 1739752544336,
     "user": {
      "displayName": "GAYOON CHOI",
      "userId": "14384576936901363882"
     },
     "user_tz": -540
    },
    "id": "HgioqL8AVP-6",
    "outputId": "a96eb6dd-502c-40c2-d806-a53712df7f5d"
   },
   "outputs": [
    {
     "name": "stdout",
     "output_type": "stream",
     "text": [
      "✅ 모델 저장 완료!\n"
     ]
    }
   ],
   "source": [
    "# ✅ 훈련된 모델 저장\n",
    "trainer.save_model(\"/content/ner4_model\")\n",
    "tokenizer.save_pretrained(\"/content/ner4_model\")\n",
    "\n",
    "print(\"✅ 모델 저장 완료!\")\n"
   ]
  },
  {
   "cell_type": "code",
   "execution_count": 18,
   "metadata": {
    "colab": {
     "base_uri": "https://localhost:8080/"
    },
    "executionInfo": {
     "elapsed": 220271,
     "status": "ok",
     "timestamp": 1739752804735,
     "user": {
      "displayName": "GAYOON CHOI",
      "userId": "14384576936901363882"
     },
     "user_tz": -540
    },
    "id": "kJGCWptiUn5a",
    "outputId": "941cc6e4-de80-4c18-8aa1-ee25ac11cf00"
   },
   "outputs": [
    {
     "name": "stdout",
     "output_type": "stream",
     "text": [
      "✅ 예측 완료 및 저장: /content/ner4_predicted_results.csv\n"
     ]
    }
   ],
   "source": [
    "import pandas as pd\n",
    "import torch\n",
    "import os\n",
    "from transformers import BertTokenizer, BertForTokenClassification\n",
    "from seqeval.metrics import classification_report\n",
    "\n",
    "# 📌 파일 경로\n",
    "TEST_DATA_PATH = \"/content/combined_morpheme.csv\"  # 예측할 테스트 데이터\n",
    "\n",
    "# 🔹 학습된 모델 로드\n",
    "MODEL_PATH = \"/content/ner4_model\"\n",
    "tokenizer = BertTokenizer.from_pretrained(MODEL_PATH)\n",
    "model = BertForTokenClassification.from_pretrained(MODEL_PATH)\n",
    "device = \"cuda\" if torch.cuda.is_available() else \"cpu\"\n",
    "model.to(device)\n",
    "\n",
    "# 🔹 NER 태그 정의\n",
    "ner_labels = [\"O\", \"B-LANG\", \"B-FRAME\", \"B-LIB\", \"B-TOOL\"]\n",
    "label_map = {i: label for i, label in enumerate(ner_labels)}\n",
    "\n",
    "# 🔹 테스트 데이터 로드\n",
    "df_test = pd.read_csv(TEST_DATA_PATH, encoding=\"utf-8-sig\")\n",
    "\n",
    "# ✅ 모델 예측 수행 함수\n",
    "def predict_ner(text):\n",
    "    tokens = tokenizer.tokenize(text)\n",
    "    inputs = tokenizer(tokens, is_split_into_words=True, return_tensors=\"pt\", truncation=True, padding=\"max_length\", max_length=512).to(device)\n",
    "\n",
    "    with torch.no_grad():\n",
    "        outputs = model(**inputs)\n",
    "\n",
    "    predictions = torch.argmax(outputs.logits, dim=2)\n",
    "    predicted_labels = [ner_labels[idx.item()] if idx.item() < len(ner_labels) else \"O\" for idx in predictions[0]]\n",
    "\n",
    "    return tokens, predicted_labels\n",
    "\n",
    "# ✅ 모든 데이터에 대해 예측 수행\n",
    "df_test[\"tokens\"], df_test[\"predicted_labels\"] = zip(*df_test[\"combined_morpheme\"].apply(predict_ner))\n",
    "\n",
    "# 🔹 평가 수행 (정답과 비교)\n",
    "if \"ner_label\" in df_test.columns:  # 정답이 포함된 경우\n",
    "    true_labels = df_test[\"ner_label\"].apply(lambda x: x.split())  # 실제 정답 라벨\n",
    "    pred_labels = df_test[\"predicted_labels\"].apply(lambda x: x)\n",
    "\n",
    "    # 🔥 평가 지표 출력\n",
    "    print(\"\\n🔹 NER 평가 결과:\\n\", classification_report(true_labels.tolist(), pred_labels.tolist(), digits=4))\n",
    "\n",
    "# ✅ 예측 결과 저장\n",
    "OUTPUT_FILE = \"/content/ner4_predicted_results.csv\"\n",
    "df_test.to_csv(OUTPUT_FILE, index=False, encoding=\"utf-8-sig\")\n",
    "print(f\"✅ 예측 완료 및 저장: {OUTPUT_FILE}\")\n"
   ]
  },
  {
   "cell_type": "code",
   "execution_count": null,
   "metadata": {
    "id": "9Pgipl8BWjZD"
   },
   "outputs": [],
   "source": [
    "# 이번에는 외래어만 추출한 것으로 테스트"
   ]
  },
  {
   "cell_type": "code",
   "execution_count": 20,
   "metadata": {
    "colab": {
     "base_uri": "https://localhost:8080/"
    },
    "executionInfo": {
     "elapsed": 170021,
     "status": "ok",
     "timestamp": 1739753100725,
     "user": {
      "displayName": "GAYOON CHOI",
      "userId": "14384576936901363882"
     },
     "user_tz": -540
    },
    "id": "IPmWVFK6Wlva",
    "outputId": "fd99143d-5a76-48fa-d409-0986cdd2db84"
   },
   "outputs": [
    {
     "name": "stdout",
     "output_type": "stream",
     "text": [
      "✅ 예측 완료 및 저장: /content/ner4_predicted_results.csv\n"
     ]
    }
   ],
   "source": [
    "import pandas as pd\n",
    "import torch\n",
    "import os\n",
    "from transformers import BertTokenizer, BertForTokenClassification\n",
    "from seqeval.metrics import classification_report\n",
    "\n",
    "# 📌 파일 경로\n",
    "TEST_DATA_PATH = \"/content/filtered_foreign_words.csv\"  # 예측할 테스트 데이터\n",
    "\n",
    "# 🔹 학습된 모델 로드\n",
    "MODEL_PATH = \"/content/ner4_model\"\n",
    "tokenizer = BertTokenizer.from_pretrained(MODEL_PATH)\n",
    "model = BertForTokenClassification.from_pretrained(MODEL_PATH)\n",
    "device = \"cuda\" if torch.cuda.is_available() else \"cpu\"\n",
    "model.to(device)\n",
    "\n",
    "# 🔹 NER 태그 정의\n",
    "ner_labels = [\"O\", \"B-LANG\", \"B-FRAME\", \"B-LIB\", \"B-TOOL\"]\n",
    "label_map = {i: label for i, label in enumerate(ner_labels)}\n",
    "\n",
    "# 🔹 테스트 데이터 로드\n",
    "df_test = pd.read_csv(TEST_DATA_PATH, encoding=\"utf-8-sig\")\n",
    "\n",
    "# ✅ 모델 예측 수행 함수\n",
    "def predict_ner(text):\n",
    "    tokens = tokenizer.tokenize(text)\n",
    "    inputs = tokenizer(tokens, is_split_into_words=True, return_tensors=\"pt\", truncation=True, padding=\"max_length\", max_length=512).to(device)\n",
    "\n",
    "    with torch.no_grad():\n",
    "        outputs = model(**inputs)\n",
    "\n",
    "    predictions = torch.argmax(outputs.logits, dim=2)\n",
    "    predicted_labels = [ner_labels[idx.item()] if idx.item() < len(ner_labels) else \"O\" for idx in predictions[0]]\n",
    "\n",
    "    return tokens, predicted_labels\n",
    "\n",
    "# ✅ 모든 데이터에 대해 예측 수행\n",
    "df_test[\"tokens\"], df_test[\"predicted_labels\"] = zip(*df_test[\"foreign_only\"].apply(predict_ner))\n",
    "\n",
    "# 🔹 평가 수행 (정답과 비교)\n",
    "if \"ner_label\" in df_test.columns:  # 정답이 포함된 경우\n",
    "    true_labels = df_test[\"ner_label\"].apply(lambda x: x.split())  # 실제 정답 라벨\n",
    "    pred_labels = df_test[\"predicted_labels\"].apply(lambda x: x)\n",
    "\n",
    "    # 🔥 평가 지표 출력\n",
    "    print(\"\\n🔹 NER 평가 결과:\\n\", classification_report(true_labels.tolist(), pred_labels.tolist(), digits=4))\n",
    "\n",
    "# ✅ 예측 결과 저장\n",
    "OUTPUT_FILE = \"/content/ner4-1_predicted_results.csv\"\n",
    "df_test.to_csv(OUTPUT_FILE, index=False, encoding=\"utf-8-sig\")\n",
    "print(f\"✅ 예측 완료 및 저장: {OUTPUT_FILE}\")\n"
   ]
  },
  {
   "cell_type": "markdown",
   "metadata": {
    "id": "2r6zwEooUpBz"
   },
   "source": [
    "# 아래 내용 무시하기 - 위 작업까지 고려(NER 태그 개수 균등 작업 완료)"
   ]
  },
  {
   "cell_type": "markdown",
   "metadata": {
    "id": "3bQJan7B5clE"
   },
   "source": [
    "# ner_training_data를 2개 만들기 (3개 학습, 나머지 1개 tool학습)"
   ]
  },
  {
   "cell_type": "code",
   "execution_count": null,
   "metadata": {
    "colab": {
     "base_uri": "https://localhost:8080/"
    },
    "id": "X2xC-2-05gm0",
    "outputId": "5717a03f-12c5-4e32-d5ec-7a7c0cb48f80"
   },
   "outputs": [
    {
     "name": "stdout",
     "output_type": "stream",
     "text": [
      "🔹 NER 라벨 개수 분포:\n",
      " ner_label\n",
      "B-TOOL     141\n",
      "B-FRAME     54\n",
      "B-LIB       48\n",
      "B-LANG      35\n",
      "Name: count, dtype: int64\n"
     ]
    }
   ],
   "source": [
    "import pandas as pd\n",
    "\n",
    "# CSV 파일 로드\n",
    "technical_df = pd.read_csv(\"/content/technical_element_labeled.csv\", encoding=\"utf-8-sig\")\n",
    "\n",
    "# 라벨 개수 확인 (불균형 문제 체크) - 일반 대표어 기준(name)\n",
    "print(\"🔹 NER 라벨 개수 분포:\\n\", technical_df[\"ner_label\"].value_counts())\n"
   ]
  },
  {
   "cell_type": "code",
   "execution_count": null,
   "metadata": {
    "id": "40ur4OvU5zx8"
   },
   "outputs": [],
   "source": [
    "# ner 학습 데이터 준비(3개) - tool 제외"
   ]
  },
  {
   "cell_type": "code",
   "execution_count": null,
   "metadata": {
    "colab": {
     "base_uri": "https://localhost:8080/"
    },
    "id": "xSNwnFcj52Zk",
    "outputId": "a064fcb8-607a-4246-9c92-acc0c0aeb3bd"
   },
   "outputs": [
    {
     "name": "stdout",
     "output_type": "stream",
     "text": [
      "✅ NER 학습 데이터 저장 완료: /content/ner_train_data1.csv\n"
     ]
    }
   ],
   "source": [
    "from transformers import BertTokenizer\n",
    "\n",
    "# BERT 토크나이저 로드\n",
    "tokenizer = BertTokenizer.from_pretrained(\"bert-base-multilingual-cased\")\n",
    "\n",
    "# 🔹 B-TOOL 제외한 데이터셋 필터링\n",
    "filtered_technical_df = technical_df[technical_df[\"ner_label\"].isin([\"B-LANG\", \"B-FRAME\", \"B-LIB\"])].copy()\n",
    "\n",
    "# 🔹 WordPiece 토크나이징 수행\n",
    "filtered_technical_df[\"wordpiece_tokens\"] = filtered_technical_df[\"name\"].apply(lambda x: \" \".join(tokenizer.tokenize(str(x))))\n",
    "\n",
    "# 🔹 CSV 저장 (NER 훈련용)\n",
    "filtered_technical_df.to_csv(\"/content/ner_train_data1.csv\", index=False, encoding=\"utf-8-sig\")\n",
    "print(\"✅ NER 학습 데이터 저장 완료: /content/ner_train_data1.csv\")\n"
   ]
  },
  {
   "cell_type": "code",
   "execution_count": null,
   "metadata": {
    "id": "UTejGfXZ6PDj"
   },
   "outputs": [],
   "source": [
    "# trainer로 학습 및 평가"
   ]
  },
  {
   "cell_type": "code",
   "execution_count": null,
   "metadata": {
    "colab": {
     "base_uri": "https://localhost:8080/",
     "height": 616,
     "referenced_widgets": [
      "67deb937590d477fa9ff2e799f5abd51",
      "44068b17c86e4dd3a70f475b32d40b14",
      "16c7b474a8ea4f70ba2b1dbf4b976c87",
      "04164f4d7114485293306491ceee7473",
      "959d37d1c1ad4caf9367c19fa9fc7eb3",
      "c3097438971e49498f1a8ceab4ad8482",
      "8f9554f2c4c247bab3b1b5fb061e04ce",
      "8a286e69acb9464291b390800cbd12c2",
      "bc75f66a8c5c4df089da0a78ac18a5fd",
      "0cc8094013614a6eaa197201fc11aba0",
      "caf8adbef5864bd591d28c9dfcb9f2bc",
      "4cb4ef0b99ac4ac7918b12990a6d384b",
      "ba17e2110f9e4f269a3830c3797ed0e9",
      "49808450700948bf87798614c452a650",
      "c96546e918d94005b202fb20d71cd7e7",
      "454c8e3b167f4a0f8eb11554248d9c92",
      "29c58ad91e2541a985c0340c9c7164f4",
      "dfd8791481464ced9e3c6848ec9c7000",
      "0906ea5298164af5948193e11bc1ef81",
      "e15d91998e724ccdbf0661a6ee8231d3",
      "0f18e1f82877403d83cd11b1a666f029",
      "7d3ccf739be342d59a68564fc894d5a7"
     ]
    },
    "id": "RUeFiuPS6Q1L",
    "outputId": "868f336a-51e8-41a4-eb77-01a9f6721902"
   },
   "outputs": [
    {
     "data": {
      "application/vnd.jupyter.widget-view+json": {
       "model_id": "67deb937590d477fa9ff2e799f5abd51",
       "version_major": 2,
       "version_minor": 0
      },
      "text/plain": [
       "Map:   0%|          | 0/137 [00:00<?, ? examples/s]"
      ]
     },
     "metadata": {},
     "output_type": "display_data"
    },
    {
     "data": {
      "application/vnd.jupyter.widget-view+json": {
       "model_id": "4cb4ef0b99ac4ac7918b12990a6d384b",
       "version_major": 2,
       "version_minor": 0
      },
      "text/plain": [
       "model.safetensors:   0%|          | 0.00/714M [00:00<?, ?B/s]"
      ]
     },
     "metadata": {},
     "output_type": "display_data"
    },
    {
     "name": "stderr",
     "output_type": "stream",
     "text": [
      "Some weights of BertForTokenClassification were not initialized from the model checkpoint at bert-base-multilingual-cased and are newly initialized: ['classifier.bias', 'classifier.weight']\n",
      "You should probably TRAIN this model on a down-stream task to be able to use it for predictions and inference.\n",
      "/usr/local/lib/python3.11/dist-packages/transformers/training_args.py:1575: FutureWarning: `evaluation_strategy` is deprecated and will be removed in version 4.46 of 🤗 Transformers. Use `eval_strategy` instead\n",
      "  warnings.warn(\n",
      "<ipython-input-14-a40a2b67f41d>:50: FutureWarning: `tokenizer` is deprecated and will be removed in version 5.0.0 for `Trainer.__init__`. Use `processing_class` instead.\n",
      "  trainer = Trainer(\n",
      "\u001b[34m\u001b[1mwandb\u001b[0m: \u001b[33mWARNING\u001b[0m The `run_name` is currently set to the same value as `TrainingArguments.output_dir`. If this was not intended, please specify a different run name by setting the `TrainingArguments.run_name` parameter.\n"
     ]
    },
    {
     "data": {
      "application/javascript": "\n        window._wandbApiKey = new Promise((resolve, reject) => {\n            function loadScript(url) {\n            return new Promise(function(resolve, reject) {\n                let newScript = document.createElement(\"script\");\n                newScript.onerror = reject;\n                newScript.onload = resolve;\n                document.body.appendChild(newScript);\n                newScript.src = url;\n            });\n            }\n            loadScript(\"https://cdn.jsdelivr.net/npm/postmate/build/postmate.min.js\").then(() => {\n            const iframe = document.createElement('iframe')\n            iframe.style.cssText = \"width:0;height:0;border:none\"\n            document.body.appendChild(iframe)\n            const handshake = new Postmate({\n                container: iframe,\n                url: 'https://wandb.ai/authorize'\n            });\n            const timeout = setTimeout(() => reject(\"Couldn't auto authenticate\"), 5000)\n            handshake.then(function(child) {\n                child.on('authorize', data => {\n                    clearTimeout(timeout)\n                    resolve(data)\n                });\n            });\n            })\n        });\n    ",
      "text/plain": [
       "<IPython.core.display.Javascript object>"
      ]
     },
     "metadata": {},
     "output_type": "display_data"
    },
    {
     "name": "stderr",
     "output_type": "stream",
     "text": [
      "\u001b[34m\u001b[1mwandb\u001b[0m: Logging into wandb.ai. (Learn how to deploy a W&B server locally: https://wandb.me/wandb-server)\n",
      "\u001b[34m\u001b[1mwandb\u001b[0m: You can find your API key in your browser here: https://wandb.ai/authorize\n",
      "wandb: Paste an API key from your profile and hit enter:"
     ]
    },
    {
     "name": "stdout",
     "output_type": "stream",
     "text": [
      " ··········\n"
     ]
    },
    {
     "name": "stderr",
     "output_type": "stream",
     "text": [
      "\u001b[34m\u001b[1mwandb\u001b[0m: \u001b[33mWARNING\u001b[0m If you're specifying your api key in code, ensure this code is not shared publicly.\n",
      "\u001b[34m\u001b[1mwandb\u001b[0m: \u001b[33mWARNING\u001b[0m Consider setting the WANDB_API_KEY environment variable, or running `wandb login` from the command line.\n",
      "\u001b[34m\u001b[1mwandb\u001b[0m: Appending key for api.wandb.ai to your netrc file: /root/.netrc\n",
      "\u001b[34m\u001b[1mwandb\u001b[0m: Currently logged in as: \u001b[33mcgygy8989\u001b[0m (\u001b[33mcgygy8989-\u001b[0m) to \u001b[32mhttps://api.wandb.ai\u001b[0m. Use \u001b[1m`wandb login --relogin`\u001b[0m to force relogin\n",
      "\u001b[34m\u001b[1mwandb\u001b[0m: Using wandb-core as the SDK backend.  Please refer to https://wandb.me/wandb-core for more information.\n"
     ]
    },
    {
     "data": {
      "text/html": [
       "Tracking run with wandb version 0.19.6"
      ],
      "text/plain": [
       "<IPython.core.display.HTML object>"
      ]
     },
     "metadata": {},
     "output_type": "display_data"
    },
    {
     "data": {
      "text/html": [
       "Run data is saved locally in <code>/content/wandb/run-20250213_060739-ypmsadw2</code>"
      ],
      "text/plain": [
       "<IPython.core.display.HTML object>"
      ]
     },
     "metadata": {},
     "output_type": "display_data"
    },
    {
     "data": {
      "text/html": [
       "Syncing run <strong><a href='https://wandb.ai/cgygy8989-/huggingface/runs/ypmsadw2' target=\"_blank\">./ner1_model</a></strong> to <a href='https://wandb.ai/cgygy8989-/huggingface' target=\"_blank\">Weights & Biases</a> (<a href='https://wandb.me/developer-guide' target=\"_blank\">docs</a>)<br>"
      ],
      "text/plain": [
       "<IPython.core.display.HTML object>"
      ]
     },
     "metadata": {},
     "output_type": "display_data"
    },
    {
     "data": {
      "text/html": [
       " View project at <a href='https://wandb.ai/cgygy8989-/huggingface' target=\"_blank\">https://wandb.ai/cgygy8989-/huggingface</a>"
      ],
      "text/plain": [
       "<IPython.core.display.HTML object>"
      ]
     },
     "metadata": {},
     "output_type": "display_data"
    },
    {
     "data": {
      "text/html": [
       " View run at <a href='https://wandb.ai/cgygy8989-/huggingface/runs/ypmsadw2' target=\"_blank\">https://wandb.ai/cgygy8989-/huggingface/runs/ypmsadw2</a>"
      ],
      "text/plain": [
       "<IPython.core.display.HTML object>"
      ]
     },
     "metadata": {},
     "output_type": "display_data"
    },
    {
     "data": {
      "text/html": [
       "\n",
       "    <div>\n",
       "      \n",
       "      <progress value='84' max='84' style='width:300px; height:20px; vertical-align: middle;'></progress>\n",
       "      [84/84 01:34, Epoch 3/3]\n",
       "    </div>\n",
       "    <table border=\"1\" class=\"dataframe\">\n",
       "  <thead>\n",
       " <tr style=\"text-align: left;\">\n",
       "      <th>Epoch</th>\n",
       "      <th>Training Loss</th>\n",
       "      <th>Validation Loss</th>\n",
       "    </tr>\n",
       "  </thead>\n",
       "  <tbody>\n",
       "    <tr>\n",
       "      <td>1</td>\n",
       "      <td>No log</td>\n",
       "      <td>0.005922</td>\n",
       "    </tr>\n",
       "    <tr>\n",
       "      <td>2</td>\n",
       "      <td>No log</td>\n",
       "      <td>0.003373</td>\n",
       "    </tr>\n",
       "    <tr>\n",
       "      <td>3</td>\n",
       "      <td>No log</td>\n",
       "      <td>0.002979</td>\n",
       "    </tr>\n",
       "  </tbody>\n",
       "</table><p>"
      ],
      "text/plain": [
       "<IPython.core.display.HTML object>"
      ]
     },
     "metadata": {},
     "output_type": "display_data"
    },
    {
     "name": "stdout",
     "output_type": "stream",
     "text": [
      "✅ 모델 저장 완료\n"
     ]
    }
   ],
   "source": [
    "import torch\n",
    "from transformers import BertForTokenClassification, Trainer, TrainingArguments\n",
    "from datasets import Dataset\n",
    "from seqeval.metrics import classification_report\n",
    "\n",
    "# 🔹 NER 태그 정의 (B-TOOL 제외)\n",
    "ner_labels = [\"O\", \"B-LANG\", \"B-FRAME\", \"B-LIB\"]\n",
    "label_map = {label: idx for idx, label in enumerate(ner_labels)}\n",
    "\n",
    "# 🔹 데이터 로드\n",
    "df = pd.read_csv(\"/content/ner_train_data1.csv\", encoding=\"utf-8-sig\")\n",
    "\n",
    "# 🔹 데이터 전처리 함수\n",
    "def preprocess_data(examples):\n",
    "    tokens = examples[\"wordpiece_tokens\"].split()\n",
    "    labels = examples[\"ner_label\"].split()\n",
    "\n",
    "    inputs = tokenizer(tokens, is_split_into_words=True, truncation=True, padding=\"max_length\", max_length=512)\n",
    "    label_ids = [label_map.get(label, label_map[\"O\"]) for label in labels]\n",
    "    label_ids += [label_map[\"O\"]] * (512 - len(label_ids))\n",
    "    label_ids = label_ids[:512]  # 최대 길이 조정\n",
    "    inputs[\"labels\"] = label_ids\n",
    "    return inputs\n",
    "\n",
    "# 🔹 Hugging Face Dataset 변환\n",
    "dataset = Dataset.from_pandas(df)\n",
    "dataset = dataset.map(preprocess_data)\n",
    "\n",
    "# 🔹 훈련 & 평가 데이터 분할\n",
    "train_test_split = dataset.train_test_split(test_size=0.2)\n",
    "train_dataset, eval_dataset = train_test_split[\"train\"], train_test_split[\"test\"]\n",
    "\n",
    "# 🔹 BERT 모델 초기화\n",
    "model = BertForTokenClassification.from_pretrained(\"bert-base-multilingual-cased\", num_labels=len(ner_labels))\n",
    "\n",
    "# 🔹 TrainingArguments 설정\n",
    "training_args = TrainingArguments(\n",
    "    output_dir=\"./ner1_model\",\n",
    "    evaluation_strategy=\"epoch\",\n",
    "    save_strategy=\"epoch\",\n",
    "    learning_rate=5e-5,\n",
    "    per_device_train_batch_size=4,\n",
    "    per_device_eval_batch_size=4,\n",
    "    num_train_epochs=3,\n",
    "    weight_decay=0.01,\n",
    "    logging_dir=\"./logs\",\n",
    ")\n",
    "\n",
    "# 🔹 Trainer 생성\n",
    "trainer = Trainer(\n",
    "    model=model,\n",
    "    args=training_args,\n",
    "    train_dataset=train_dataset,\n",
    "    eval_dataset=eval_dataset,\n",
    "    tokenizer=tokenizer\n",
    ")\n",
    "\n",
    "# 🔹 학습 시작\n",
    "trainer.train()\n",
    "\n",
    "# 🔹 모델 저장\n",
    "model.save_pretrained(\"/content/ner1_model\")\n",
    "tokenizer.save_pretrained(\"/content/ner1_model\")\n",
    "print(\"✅ 모델 저장 완료\")\n"
   ]
  },
  {
   "cell_type": "code",
   "execution_count": null,
   "metadata": {
    "id": "hDkX16xV7Z4D"
   },
   "outputs": [],
   "source": [
    "# 모델이 O 태그로 인식한 것 중 B-TOOL이 맞는 경우 후처리 적용"
   ]
  },
  {
   "cell_type": "code",
   "execution_count": 11,
   "metadata": {
    "colab": {
     "base_uri": "https://localhost:8080/"
    },
    "executionInfo": {
     "elapsed": 1028,
     "status": "ok",
     "timestamp": 1739752000792,
     "user": {
      "displayName": "GAYOON CHOI",
      "userId": "14384576936901363882"
     },
     "user_tz": -540
    },
    "id": "ANS-sWqZ7hOL",
    "outputId": "d9ee3491-2430-4aa0-dbbd-65827dd29331"
   },
   "outputs": [
    {
     "data": {
      "text/plain": [
       "BertForTokenClassification(\n",
       "  (bert): BertModel(\n",
       "    (embeddings): BertEmbeddings(\n",
       "      (word_embeddings): Embedding(119547, 768, padding_idx=0)\n",
       "      (position_embeddings): Embedding(512, 768)\n",
       "      (token_type_embeddings): Embedding(2, 768)\n",
       "      (LayerNorm): LayerNorm((768,), eps=1e-12, elementwise_affine=True)\n",
       "      (dropout): Dropout(p=0.1, inplace=False)\n",
       "    )\n",
       "    (encoder): BertEncoder(\n",
       "      (layer): ModuleList(\n",
       "        (0-11): 12 x BertLayer(\n",
       "          (attention): BertAttention(\n",
       "            (self): BertSdpaSelfAttention(\n",
       "              (query): Linear(in_features=768, out_features=768, bias=True)\n",
       "              (key): Linear(in_features=768, out_features=768, bias=True)\n",
       "              (value): Linear(in_features=768, out_features=768, bias=True)\n",
       "              (dropout): Dropout(p=0.1, inplace=False)\n",
       "            )\n",
       "            (output): BertSelfOutput(\n",
       "              (dense): Linear(in_features=768, out_features=768, bias=True)\n",
       "              (LayerNorm): LayerNorm((768,), eps=1e-12, elementwise_affine=True)\n",
       "              (dropout): Dropout(p=0.1, inplace=False)\n",
       "            )\n",
       "          )\n",
       "          (intermediate): BertIntermediate(\n",
       "            (dense): Linear(in_features=768, out_features=3072, bias=True)\n",
       "            (intermediate_act_fn): GELUActivation()\n",
       "          )\n",
       "          (output): BertOutput(\n",
       "            (dense): Linear(in_features=3072, out_features=768, bias=True)\n",
       "            (LayerNorm): LayerNorm((768,), eps=1e-12, elementwise_affine=True)\n",
       "            (dropout): Dropout(p=0.1, inplace=False)\n",
       "          )\n",
       "        )\n",
       "      )\n",
       "    )\n",
       "  )\n",
       "  (dropout): Dropout(p=0.1, inplace=False)\n",
       "  (classifier): Linear(in_features=768, out_features=5, bias=True)\n",
       ")"
      ]
     },
     "execution_count": 11,
     "metadata": {},
     "output_type": "execute_result"
    }
   ],
   "source": [
    "import torch\n",
    "\n",
    "# 모델이 GPU에서 실행 중이면, GPU로 설정\n",
    "device = \"cuda\" if torch.cuda.is_available() else \"cpu\"\n",
    "model.to(device)"
   ]
  },
  {
   "cell_type": "code",
   "execution_count": 12,
   "metadata": {
    "colab": {
     "base_uri": "https://localhost:8080/",
     "height": 228
    },
    "executionInfo": {
     "elapsed": 921,
     "status": "error",
     "timestamp": 1739752011862,
     "user": {
      "displayName": "GAYOON CHOI",
      "userId": "14384576936901363882"
     },
     "user_tz": -540
    },
    "id": "eFaPeYRf75Bz",
    "outputId": "c4fe4c11-d859-4124-ccff-ec519836e9b1"
   },
   "outputs": [
    {
     "name": "stdout",
     "output_type": "stream",
     "text": [
      "✅ 모델이 cuda에서 실행됩니다.\n"
     ]
    },
    {
     "ename": "NameError",
     "evalue": "name 'foreign_df' is not defined",
     "output_type": "error",
     "traceback": [
      "\u001b[0;31m---------------------------------------------------------------------------\u001b[0m",
      "\u001b[0;31mNameError\u001b[0m                                 Traceback (most recent call last)",
      "\u001b[0;32m<ipython-input-12-78b64811f446>\u001b[0m in \u001b[0;36m<cell line: 0>\u001b[0;34m()\u001b[0m\n\u001b[1;32m     27\u001b[0m \u001b[0;34m\u001b[0m\u001b[0m\n\u001b[1;32m     28\u001b[0m \u001b[0;31m# 🔹 모든 외래어 데이터에 대해 NER 예측 수행\u001b[0m\u001b[0;34m\u001b[0m\u001b[0;34m\u001b[0m\u001b[0m\n\u001b[0;32m---> 29\u001b[0;31m \u001b[0mforeign_df\u001b[0m\u001b[0;34m[\u001b[0m\u001b[0;34m\"tokens\"\u001b[0m\u001b[0;34m]\u001b[0m\u001b[0;34m,\u001b[0m \u001b[0mforeign_df\u001b[0m\u001b[0;34m[\u001b[0m\u001b[0;34m\"predicted_labels\"\u001b[0m\u001b[0;34m]\u001b[0m \u001b[0;34m=\u001b[0m \u001b[0mzip\u001b[0m\u001b[0;34m(\u001b[0m\u001b[0;34m*\u001b[0m\u001b[0mforeign_df\u001b[0m\u001b[0;34m[\u001b[0m\u001b[0;34m\"foreign_only\"\u001b[0m\u001b[0;34m]\u001b[0m\u001b[0;34m.\u001b[0m\u001b[0mapply\u001b[0m\u001b[0;34m(\u001b[0m\u001b[0mpredict_ner\u001b[0m\u001b[0;34m)\u001b[0m\u001b[0;34m)\u001b[0m\u001b[0;34m\u001b[0m\u001b[0;34m\u001b[0m\u001b[0m\n\u001b[0m\u001b[1;32m     30\u001b[0m \u001b[0;34m\u001b[0m\u001b[0m\n\u001b[1;32m     31\u001b[0m \u001b[0;31m# 🔹 O 태그 중 실제 tool과 일치하는 경우 B-TOOL로 변경\u001b[0m\u001b[0;34m\u001b[0m\u001b[0;34m\u001b[0m\u001b[0m\n",
      "\u001b[0;31mNameError\u001b[0m: name 'foreign_df' is not defined"
     ]
    }
   ],
   "source": [
    "import torch\n",
    "\n",
    "# 🔹 예측 수행 함수\n",
    "def predict_ner(text):\n",
    "    tokens = tokenizer.tokenize(text)\n",
    "\n",
    "    # 모델과 같은 디바이스 설정\n",
    "    device = model.device\n",
    "\n",
    "    # 입력 데이터 생성 및 디바이스 이동\n",
    "    inputs = tokenizer(tokens, is_split_into_words=True, return_tensors=\"pt\",\n",
    "                       truncation=True, padding=\"max_length\", max_length=512)\n",
    "    inputs = {k: v.to(device) for k, v in inputs.items()}  # ✅ 입력 데이터를 모델과 동일한 디바이스로 이동\n",
    "\n",
    "    with torch.no_grad():\n",
    "        outputs = model(**inputs)  # 모델 예측\n",
    "\n",
    "    predictions = torch.argmax(outputs.logits, dim=2)\n",
    "    predicted_labels = [ner_labels[idx.item()] if idx.item() < len(ner_labels) else \"O\" for idx in predictions[0]]\n",
    "\n",
    "    return tokens, predicted_labels\n",
    "\n",
    "# 🔹 모델을 올바른 디바이스로 설정 (GPU 사용 가능하면 GPU, 아니면 CPU)\n",
    "device = \"cuda\" if torch.cuda.is_available() else \"cpu\"\n",
    "model.to(device)  # ✅ 모델을 GPU 또는 CPU로 이동\n",
    "print(f\"✅ 모델이 {device}에서 실행됩니다.\")\n",
    "\n",
    "# 🔹 모든 외래어 데이터에 대해 NER 예측 수행\n",
    "foreign_df[\"tokens\"], foreign_df[\"predicted_labels\"] = zip(*foreign_df[\"foreign_only\"].apply(predict_ner))\n",
    "\n",
    "# 🔹 O 태그 중 실제 tool과 일치하는 경우 B-TOOL로 변경\n",
    "def apply_tool_tag(row):\n",
    "    if row[\"predicted_labels\"] == \"O\" and row[\"foreign_only\"].lower() in list(technical_df[technical_df[\"ner_label\"] == \"B-TOOL\"][\"name\"]):\n",
    "        return \"B-TOOL\"\n",
    "    return row[\"predicted_labels\"]\n",
    "\n",
    "foreign_df[\"final_predicted_labels\"] = foreign_df.apply(apply_tool_tag, axis=1)\n",
    "\n",
    "# 🔹 예측 결과 저장\n",
    "foreign_df.to_csv(\"/content/predicted_ner_results.csv\", index=False, encoding=\"utf-8-sig\")\n",
    "print(\"✅ 예측 결과 저장 완료\")\n"
   ]
  },
  {
   "cell_type": "code",
   "execution_count": null,
   "metadata": {
    "id": "8k-MBSGB8pyi"
   },
   "outputs": [],
   "source": [
    "# 전부 o 태그로 인식하여 평가 수행할 필요 x"
   ]
  },
  {
   "cell_type": "code",
   "execution_count": null,
   "metadata": {
    "id": "nEYHEKJx7fRq"
   },
   "outputs": [],
   "source": [
    "from seqeval.metrics import classification_report\n",
    "\n",
    "# 🔹 모델 예측 데이터 로드\n",
    "predicted_df = pd.read_csv(\"/content/predicted_ner_results.csv\", encoding=\"utf-8-sig\")\n",
    "\n",
    "# 🔹 평가 수행\n",
    "report = classification_report(predicted_df[\"ner_label\"].tolist(), predicted_df[\"final_predicted_labels\"].tolist(), digits=4)\n",
    "print(\"🔹 NER 평가 결과:\\n\", report)\n"
   ]
  },
  {
   "cell_type": "markdown",
   "metadata": {
    "id": "t0wFYQjw9YgK"
   },
   "source": [
    "# 2. 2차시도 - 데이터 불균형 문제 (ner_test2.ipynb 결과, 전부 b-tool로 인식)\n"
   ]
  },
  {
   "cell_type": "code",
   "execution_count": null,
   "metadata": {
    "id": "grwic3bP9exj"
   },
   "outputs": [],
   "source": [
    "# 데이터 증식 해보기 - technicaltags 칼럼 추가해서 4개의 기술 스택에 분류해보기\n",
    "# /content/merged_df_2025-01-17-16.csv 파일의 technicalTags 칼럼\n",
    "\n",
    "# 데이터 증식을 위한 매핑 작업\n",
    "technicalTags 컬럼을 기반으로, 언어(Language), 라이브러리(Library), 프레임워크(Framework), 툴(Tool) 태그로 매핑하는 작업을 수행하겠습니다."
   ]
  },
  {
   "cell_type": "code",
   "execution_count": null,
   "metadata": {
    "id": "dv1frD0kD9Om"
   },
   "outputs": [],
   "source": [
    "# 데이터 증식 작업 (merged.csv 파일의 technicalTags 칼럼 값을 ner라벨 값에 맞게 매핑)\n",
    "# 참고 technicalTags 칼럼 값이므로 outside 태그가 존재 불가\n",
    "\n",
    "import pandas as pd\n",
    "\n",
    "# 파일 경로\n",
    "merged_file_path = \"/content/merged_df_2025-01-17-16.csv\"\n",
    "technical_element_file_path = \"/content/technical_element_labeled.csv\"\n",
    "\n",
    "try:\n",
    "    # 데이터 불러오기\n",
    "    merged_df = pd.read_csv(merged_file_path, encoding=\"utf-8-sig\")\n",
    "    technical_element_df = pd.read_csv(technical_element_file_path, encoding=\"utf-8-sig\")\n",
    "\n",
    "    # NER 라벨 매핑 정보\n",
    "    ner_mapping = {\n",
    "        \"language\": \"B-LANG\",\n",
    "        \"framework\": \"B-FRAME\",\n",
    "        \"library\": \"B-LIB\",\n",
    "        \"tool\": \"B-TOOL\"\n",
    "    }\n",
    "\n",
    "    # 기존 기술 요소 매핑 딕셔너리 생성\n",
    "    tech_dict = {}\n",
    "    for _, row in technical_element_df.iterrows():\n",
    "        category = row[\"category\"]  # language, library, framework, tool\n",
    "        label = ner_mapping.get(category, \"O\")  # NER 태그 매핑 (없으면 O)\n",
    "\n",
    "        # name과 synonym을 매핑\n",
    "        tech_dict[row[\"name\"].lower()] = label\n",
    "        if pd.notna(row[\"synonym\"]):\n",
    "            for synonym in row[\"synonym\"].split(\",\"):\n",
    "                tech_dict[synonym.strip().lower()] = label\n",
    "\n",
    "    # technicalTags 컬럼의 값을 쉼표(,) 기준으로 분리\n",
    "    def map_technical_tags(tags):\n",
    "        if pd.isna(tags):\n",
    "            return []\n",
    "        tag_list = [tag.strip().lower() for tag in tags.split(\",\")]  # 태그를 소문자로 변환 및 리스트화\n",
    "        return [(tag, tech_dict.get(tag, \"O\")) for tag in tag_list]  # 매핑된 태그 반환\n",
    "\n",
    "    # technicalTags 컬럼 매핑 수행\n",
    "    merged_df[\"mapped_technicalTags\"] = merged_df[\"technicalTags\"].apply(map_technical_tags)\n",
    "\n",
    "    # 데이터 확인\n",
    "    mapped_tags_df = merged_df[[\"technicalTags\", \"mapped_technicalTags\"]].explode(\"mapped_technicalTags\").dropna()\n",
    "\n",
    "    # 매핑된 데이터프레임 저장\n",
    "    output_mapped_tags_path = \"/content/mapped_technicalTags.csv\"\n",
    "    mapped_tags_df.to_csv(output_mapped_tags_path, index=False, encoding=\"utf-8-sig\")\n",
    "\n",
    "except FileNotFoundError:\n",
    "    print(\"🔴 필요한 파일이 없습니다. CSV 파일을 다시 업로드해주세요.\")\n"
   ]
  },
  {
   "cell_type": "code",
   "execution_count": null,
   "metadata": {
    "colab": {
     "base_uri": "https://localhost:8080/"
    },
    "id": "pMPFgljIF1KE",
    "outputId": "08b601de-852e-4752-c909-bfe9b8de05e0"
   },
   "outputs": [
    {
     "name": "stdout",
     "output_type": "stream",
     "text": [
      "ner_label\n",
      "O          3822\n",
      "B-LANG     3160\n",
      "B-TOOL     2699\n",
      "B-LIB       766\n",
      "B-FRAME     645\n",
      "Name: count, dtype: int64\n"
     ]
    }
   ],
   "source": [
    "import pandas as pd\n",
    "\n",
    "# 파일 로드\n",
    "file_path = \"/content/mapped_technicalTags.csv\"  # 실제 파일 경로 확인 필요\n",
    "df = pd.read_csv(file_path, encoding=\"utf-8-sig\")\n",
    "\n",
    "# 튜플 형태 데이터를 분리하여 새로운 컬럼 생성\n",
    "df[['tag', 'ner_label']] = df['mapped_technicalTags'].str.extract(r\"\\('(.+)', '(.+)'\\)\")\n",
    "\n",
    "# 각 NER 태그 개수 확인\n",
    "ner_label_counts = df[\"ner_label\"].value_counts()\n",
    "\n",
    "# 결과 출력\n",
    "print(ner_label_counts)\n"
   ]
  },
  {
   "cell_type": "code",
   "execution_count": null,
   "metadata": {
    "id": "ckwpqz11H0oz"
   },
   "outputs": [],
   "source": [
    "# outside 태그가 존재하는 것이 말도 안 되므로\n",
    "# gpt api 사용하기\n",
    "# 'O'라고 되어있는 것들만 따로 추출하는 코드 작성 후 해당 파일에서만 ner 태그 분류 작업()\n",
    "B-LANG\n",
    "B-TOOL\n",
    "B-LIB\n",
    "B-FRAME\n"
   ]
  },
  {
   "cell_type": "code",
   "execution_count": null,
   "metadata": {
    "id": "Uoa9WzO7JUO8"
   },
   "outputs": [],
   "source": [
    "import pandas as pd\n",
    "\n",
    "# 파일 로드\n",
    "file_path = \"/content/mapped_technicalTags.csv\"\n",
    "df = pd.read_csv(file_path, encoding=\"utf-8-sig\")\n",
    "\n",
    "# 'O' 태그만 필터링\n",
    "o_tagged_df = df[df['mapped_technicalTags'].str.contains(\"'O'\")]\n",
    "\n",
    "# 필터링된 데이터 저장\n",
    "o_tagged_file_path = \"/content/o_tagged_technicalTags.csv\"\n",
    "o_tagged_df.to_csv(o_tagged_file_path, index=False, encoding=\"utf-8-sig\")\n",
    "\n"
   ]
  },
  {
   "cell_type": "markdown",
   "metadata": {
    "id": "olDxGroMKmXZ"
   },
   "source": [
    "technicalTags 칼럼, outside 태그를 ner 태그에 맞게 자동 분류 요청(gpt4 api 사용 - 200원 차감)"
   ]
  },
  {
   "cell_type": "code",
   "execution_count": null,
   "metadata": {
    "id": "d62aoACNMhkg"
   },
   "outputs": [],
   "source": [
    "# ✅ OpenAI API 키 설정 (본인 키 입력 필요)\n"
   ]
  },
  {
   "cell_type": "code",
   "execution_count": null,
   "metadata": {
    "id": "fZcagIaANBEY"
   },
   "outputs": [],
   "source": [
    "# 우선 gpt3-5 turbo부터 사용"
   ]
  },
  {
   "cell_type": "code",
   "execution_count": null,
   "metadata": {
    "colab": {
     "base_uri": "https://localhost:8080/"
    },
    "id": "vyrkYNSEMgbp",
    "outputId": "d551a3c1-4c8e-4b60-eb06-b4615798521e"
   },
   "outputs": [
    {
     "name": "stdout",
     "output_type": "stream",
     "text": [
      "✅ GPT API를 사용하여 NER 태그 업데이트 완료! 저장 경로: /content/updated_o_tagged_technicalTags.csv\n"
     ]
    }
   ],
   "source": [
    "import pandas as pd\n",
    "import openai\n",
    "import ast\n",
    "import time\n",
    "\n",
    "# ✅ OpenAI API 키 설정 (본인 키 입력 필요)\n",
    "\n",
    "# ✅ 파일 로드\n",
    "file_path = \"/content/o_tagged_technicalTags.csv\"\n",
    "df = pd.read_csv(file_path)\n",
    "\n",
    "# ✅ 'O' 태그만 추출\n",
    "o_tag_df = df[df[\"mapped_technicalTags\"].str.contains(\"'O'\")].copy()\n",
    "\n",
    "# ✅ GPT API 요청 함수\n",
    "def get_ner_tag(technical_tag):\n",
    "    prompt = f\"\"\"\n",
    "    다음 IT 기술 용어 '{technical_tag}'에 대해 적절한 Named Entity Recognition (NER) 태그를 부여하세요.\n",
    "    가능한 태그는 다음과 같습니다:\n",
    "    - B-LANG (프로그래밍 언어)\n",
    "    - B-TOOL (개발 도구, 플랫폼, 데이터베이스 등)\n",
    "    - B-LIB (라이브러리)\n",
    "    - B-FRAME (프레임워크)\n",
    "\n",
    "    정확한 태그를 하나만 반환하세요. 설명 없이 태그만 출력하세요.\n",
    "    \"\"\"\n",
    "\n",
    "    try:\n",
    "        response = openai.chat.completions.create(\n",
    "            model=\"gpt-3.5-turbo\",\n",
    "            messages=[{\"role\": \"system\", \"content\": \"당신은 IT 용어를 분류하는 전문가입니다.\"},\n",
    "                      {\"role\": \"user\", \"content\": prompt}],\n",
    "            max_tokens=10,\n",
    "            temperature=0.0\n",
    "        )\n",
    "        return response.choices[0].message.content.strip()\n",
    "\n",
    "    except Exception as e:\n",
    "        print(f\"❌ GPT 요청 실패: {e}\")\n",
    "        return \"O\"\n",
    "\n",
    "# ✅ 'O' 태그 항목 GPT API로 분류\n",
    "updated_tags = []\n",
    "for index, row in o_tag_df.iterrows():\n",
    "    tag_tuple = ast.literal_eval(row[\"mapped_technicalTags\"])  # 문자열을 튜플로 변환\n",
    "    tech_tag = tag_tuple[0]  # 기술명 추출\n",
    "    predicted_ner = get_ner_tag(tech_tag)  # GPT-4 API 호출\n",
    "\n",
    "    updated_tuple = (tech_tag, predicted_ner)  # 새로운 NER 태그 적용\n",
    "    updated_tags.append(updated_tuple)\n",
    "\n",
    "    time.sleep(0.5)  # API 호출 제한 방지를 위해 0.5초 대기\n",
    "\n",
    "# ✅ 데이터프레임 업데이트\n",
    "df.loc[df[\"mapped_technicalTags\"].str.contains(\"'O'\"), \"mapped_technicalTags\"] = [str(tag) for tag in updated_tags]\n",
    "\n",
    "# ✅ 결과 저장\n",
    "output_path = \"/content/updated_o_tagged_technicalTags.csv\"\n",
    "df.to_csv(output_path, index=False, encoding=\"utf-8-sig\")\n",
    "\n",
    "print(f\"✅ GPT API를 사용하여 NER 태그 업데이트 완료! 저장 경로: {output_path}\")\n"
   ]
  },
  {
   "cell_type": "code",
   "execution_count": null,
   "metadata": {
    "id": "vrtNZJyJSh--"
   },
   "outputs": [],
   "source": [
    "#$ 이영배 멘토님 피드백\n",
    "# 예시 코드 대로 한 번 해봐라\n",
    "# is_split_into_words=True 값을 주면, 입력 데이터 자체를 이미 분할이 완료된 상태로 주기 때문에 더 이상 분할하지 않는다.\n"
   ]
  },
  {
   "cell_type": "code",
   "execution_count": null,
   "metadata": {
    "colab": {
     "base_uri": "https://localhost:8080/"
    },
    "id": "l0DQKMR8ekj9",
    "outputId": "b42dd5cc-ea28-4a0e-c343-2089c052bacc"
   },
   "outputs": [
    {
     "name": "stdout",
     "output_type": "stream",
     "text": [
      "ner_label\n",
      "B-TOOL             1654\n",
      "B-FRAME            1624\n",
      "B-LANG              322\n",
      "B-LIB               196\n",
      "O-TECH                5\n",
      "O-TECH (기술            5\n",
      "O-TERM                5\n",
      "B-BLOCKCHAIN          4\n",
      "O\\n---\\nB-TOOL        1\n",
      "O-PLAIN               1\n",
      "O 보안 B-LIB            1\n",
      "O (기술 용어가             1\n",
      "B-DISORDER            1\n",
      "O\\n    - B-TOOL       1\n",
      "O-TOOL                1\n",
      "Name: count, dtype: int64\n"
     ]
    }
   ],
   "source": [
    "import pandas as pd\n",
    "\n",
    "# 파일 로드\n",
    "file_path = \"/content/updated_o_tagged_technicalTags.csv\"  # 실제 파일 경로 확인 필요\n",
    "df = pd.read_csv(file_path, encoding=\"utf-8-sig\")\n",
    "\n",
    "# 튜플 형태 데이터를 분리하여 새로운 컬럼 생성\n",
    "df[['tag', 'ner_label']] = df['mapped_technicalTags'].str.extract(r\"\\('(.+)', '(.+)'\\)\")\n",
    "\n",
    "# 각 NER 태그 개수 확인\n",
    "ner_label_counts = df[\"ner_label\"].value_counts()\n",
    "\n",
    "# 결과 출력\n",
    "print(ner_label_counts)\n"
   ]
  },
  {
   "cell_type": "markdown",
   "metadata": {
    "id": "TFhXkraUil3a"
   },
   "source": [
    "TechnicalTags의 ner 답안 파일 완성"
   ]
  },
  {
   "cell_type": "code",
   "execution_count": null,
   "metadata": {
    "colab": {
     "base_uri": "https://localhost:8080/"
    },
    "id": "zlmVuzOOimrZ",
    "outputId": "c93de312-b876-41c9-ba7d-9a6e22beacc5"
   },
   "outputs": [
    {
     "name": "stdout",
     "output_type": "stream",
     "text": [
      "✅ 기존 'O' 태그 제거 및 새로운 NER 태그 적용 완료! 저장 경로: /content/final_mapped_technicalTags.csv\n"
     ]
    }
   ],
   "source": [
    "import pandas as pd\n",
    "import ast\n",
    "\n",
    "# ✅ 원본 파일 & 수정된 파일 경로\n",
    "original_file = \"/content/mapped_technicalTags.csv\"\n",
    "updated_o_tagged_file = \"/content/updated_o_tagged_technicalTags.csv\"\n",
    "\n",
    "# ✅ 파일 로드\n",
    "original_df = pd.read_csv(original_file)\n",
    "updated_o_df = pd.read_csv(updated_o_tagged_file)\n",
    "\n",
    "# ✅ 'O' 태그가 포함된 행 제거\n",
    "filtered_original_df = original_df[~original_df[\"mapped_technicalTags\"].str.contains(\"'O'\")].copy()\n",
    "\n",
    "# ✅ 수정된 'O' 태그 데이터를 추가\n",
    "merged_df = pd.concat([filtered_original_df, updated_o_df], ignore_index=True)\n",
    "\n",
    "# ✅ 결과 저장\n",
    "output_path = \"/content/final_mapped_technicalTags.csv\"\n",
    "merged_df.to_csv(output_path, index=False, encoding=\"utf-8-sig\")\n",
    "\n",
    "print(f\"✅ 기존 'O' 태그 제거 및 새로운 NER 태그 적용 완료! 저장 경로: {output_path}\")\n"
   ]
  }
 ],
 "metadata": {
  "accelerator": "GPU",
  "colab": {
   "gpuType": "T4",
   "provenance": []
  },
  "kernelspec": {
   "display_name": "Python 3",
   "name": "python3"
  },
  "language_info": {
   "name": "python"
  },
  "widgets": {
   "application/vnd.jupyter.widget-state+json": {
    "00342bba924745e099e24e1eec8620d0": {
     "model_module": "@jupyter-widgets/base",
     "model_module_version": "1.2.0",
     "model_name": "LayoutModel",
     "state": {
      "_model_module": "@jupyter-widgets/base",
      "_model_module_version": "1.2.0",
      "_model_name": "LayoutModel",
      "_view_count": null,
      "_view_module": "@jupyter-widgets/base",
      "_view_module_version": "1.2.0",
      "_view_name": "LayoutView",
      "align_content": null,
      "align_items": null,
      "align_self": null,
      "border": null,
      "bottom": null,
      "display": null,
      "flex": null,
      "flex_flow": null,
      "grid_area": null,
      "grid_auto_columns": null,
      "grid_auto_flow": null,
      "grid_auto_rows": null,
      "grid_column": null,
      "grid_gap": null,
      "grid_row": null,
      "grid_template_areas": null,
      "grid_template_columns": null,
      "grid_template_rows": null,
      "height": null,
      "justify_content": null,
      "justify_items": null,
      "left": null,
      "margin": null,
      "max_height": null,
      "max_width": null,
      "min_height": null,
      "min_width": null,
      "object_fit": null,
      "object_position": null,
      "order": null,
      "overflow": null,
      "overflow_x": null,
      "overflow_y": null,
      "padding": null,
      "right": null,
      "top": null,
      "visibility": null,
      "width": null
     }
    },
    "04164f4d7114485293306491ceee7473": {
     "model_module": "@jupyter-widgets/controls",
     "model_module_version": "1.5.0",
     "model_name": "HTMLModel",
     "state": {
      "_dom_classes": [],
      "_model_module": "@jupyter-widgets/controls",
      "_model_module_version": "1.5.0",
      "_model_name": "HTMLModel",
      "_view_count": null,
      "_view_module": "@jupyter-widgets/controls",
      "_view_module_version": "1.5.0",
      "_view_name": "HTMLView",
      "description": "",
      "description_tooltip": null,
      "layout": "IPY_MODEL_0cc8094013614a6eaa197201fc11aba0",
      "placeholder": "​",
      "style": "IPY_MODEL_caf8adbef5864bd591d28c9dfcb9f2bc",
      "value": " 137/137 [00:00&lt;00:00, 696.03 examples/s]"
     }
    },
    "05fcdae1b4f94758975bbfb6c1b1f8b5": {
     "model_module": "@jupyter-widgets/base",
     "model_module_version": "1.2.0",
     "model_name": "LayoutModel",
     "state": {
      "_model_module": "@jupyter-widgets/base",
      "_model_module_version": "1.2.0",
      "_model_name": "LayoutModel",
      "_view_count": null,
      "_view_module": "@jupyter-widgets/base",
      "_view_module_version": "1.2.0",
      "_view_name": "LayoutView",
      "align_content": null,
      "align_items": null,
      "align_self": null,
      "border": null,
      "bottom": null,
      "display": null,
      "flex": null,
      "flex_flow": null,
      "grid_area": null,
      "grid_auto_columns": null,
      "grid_auto_flow": null,
      "grid_auto_rows": null,
      "grid_column": null,
      "grid_gap": null,
      "grid_row": null,
      "grid_template_areas": null,
      "grid_template_columns": null,
      "grid_template_rows": null,
      "height": null,
      "justify_content": null,
      "justify_items": null,
      "left": null,
      "margin": null,
      "max_height": null,
      "max_width": null,
      "min_height": null,
      "min_width": null,
      "object_fit": null,
      "object_position": null,
      "order": null,
      "overflow": null,
      "overflow_x": null,
      "overflow_y": null,
      "padding": null,
      "right": null,
      "top": null,
      "visibility": null,
      "width": null
     }
    },
    "0906ea5298164af5948193e11bc1ef81": {
     "model_module": "@jupyter-widgets/base",
     "model_module_version": "1.2.0",
     "model_name": "LayoutModel",
     "state": {
      "_model_module": "@jupyter-widgets/base",
      "_model_module_version": "1.2.0",
      "_model_name": "LayoutModel",
      "_view_count": null,
      "_view_module": "@jupyter-widgets/base",
      "_view_module_version": "1.2.0",
      "_view_name": "LayoutView",
      "align_content": null,
      "align_items": null,
      "align_self": null,
      "border": null,
      "bottom": null,
      "display": null,
      "flex": null,
      "flex_flow": null,
      "grid_area": null,
      "grid_auto_columns": null,
      "grid_auto_flow": null,
      "grid_auto_rows": null,
      "grid_column": null,
      "grid_gap": null,
      "grid_row": null,
      "grid_template_areas": null,
      "grid_template_columns": null,
      "grid_template_rows": null,
      "height": null,
      "justify_content": null,
      "justify_items": null,
      "left": null,
      "margin": null,
      "max_height": null,
      "max_width": null,
      "min_height": null,
      "min_width": null,
      "object_fit": null,
      "object_position": null,
      "order": null,
      "overflow": null,
      "overflow_x": null,
      "overflow_y": null,
      "padding": null,
      "right": null,
      "top": null,
      "visibility": null,
      "width": null
     }
    },
    "0a4155b7a8ca41d7a11c9505cdc872e6": {
     "model_module": "@jupyter-widgets/controls",
     "model_module_version": "1.5.0",
     "model_name": "FloatProgressModel",
     "state": {
      "_dom_classes": [],
      "_model_module": "@jupyter-widgets/controls",
      "_model_module_version": "1.5.0",
      "_model_name": "FloatProgressModel",
      "_view_count": null,
      "_view_module": "@jupyter-widgets/controls",
      "_view_module_version": "1.5.0",
      "_view_name": "ProgressView",
      "bar_style": "success",
      "description": "",
      "description_tooltip": null,
      "layout": "IPY_MODEL_b04adab3c5af4b108fc5a1d0b7f9fbe3",
      "max": 49,
      "min": 0,
      "orientation": "horizontal",
      "style": "IPY_MODEL_78807ddd5c9e4b8baea8d0fd436658cb",
      "value": 49
     }
    },
    "0af91d92dbf14e018cce3950c56d193c": {
     "model_module": "@jupyter-widgets/controls",
     "model_module_version": "1.5.0",
     "model_name": "HTMLModel",
     "state": {
      "_dom_classes": [],
      "_model_module": "@jupyter-widgets/controls",
      "_model_module_version": "1.5.0",
      "_model_name": "HTMLModel",
      "_view_count": null,
      "_view_module": "@jupyter-widgets/controls",
      "_view_module_version": "1.5.0",
      "_view_name": "HTMLView",
      "description": "",
      "description_tooltip": null,
      "layout": "IPY_MODEL_690cc79579f74004b5f25b90ac25198d",
      "placeholder": "​",
      "style": "IPY_MODEL_a92022754f494aa8a2b4f81c24dc9cba",
      "value": " 714M/714M [00:02&lt;00:00, 244MB/s]"
     }
    },
    "0cc8094013614a6eaa197201fc11aba0": {
     "model_module": "@jupyter-widgets/base",
     "model_module_version": "1.2.0",
     "model_name": "LayoutModel",
     "state": {
      "_model_module": "@jupyter-widgets/base",
      "_model_module_version": "1.2.0",
      "_model_name": "LayoutModel",
      "_view_count": null,
      "_view_module": "@jupyter-widgets/base",
      "_view_module_version": "1.2.0",
      "_view_name": "LayoutView",
      "align_content": null,
      "align_items": null,
      "align_self": null,
      "border": null,
      "bottom": null,
      "display": null,
      "flex": null,
      "flex_flow": null,
      "grid_area": null,
      "grid_auto_columns": null,
      "grid_auto_flow": null,
      "grid_auto_rows": null,
      "grid_column": null,
      "grid_gap": null,
      "grid_row": null,
      "grid_template_areas": null,
      "grid_template_columns": null,
      "grid_template_rows": null,
      "height": null,
      "justify_content": null,
      "justify_items": null,
      "left": null,
      "margin": null,
      "max_height": null,
      "max_width": null,
      "min_height": null,
      "min_width": null,
      "object_fit": null,
      "object_position": null,
      "order": null,
      "overflow": null,
      "overflow_x": null,
      "overflow_y": null,
      "padding": null,
      "right": null,
      "top": null,
      "visibility": null,
      "width": null
     }
    },
    "0f18e1f82877403d83cd11b1a666f029": {
     "model_module": "@jupyter-widgets/base",
     "model_module_version": "1.2.0",
     "model_name": "LayoutModel",
     "state": {
      "_model_module": "@jupyter-widgets/base",
      "_model_module_version": "1.2.0",
      "_model_name": "LayoutModel",
      "_view_count": null,
      "_view_module": "@jupyter-widgets/base",
      "_view_module_version": "1.2.0",
      "_view_name": "LayoutView",
      "align_content": null,
      "align_items": null,
      "align_self": null,
      "border": null,
      "bottom": null,
      "display": null,
      "flex": null,
      "flex_flow": null,
      "grid_area": null,
      "grid_auto_columns": null,
      "grid_auto_flow": null,
      "grid_auto_rows": null,
      "grid_column": null,
      "grid_gap": null,
      "grid_row": null,
      "grid_template_areas": null,
      "grid_template_columns": null,
      "grid_template_rows": null,
      "height": null,
      "justify_content": null,
      "justify_items": null,
      "left": null,
      "margin": null,
      "max_height": null,
      "max_width": null,
      "min_height": null,
      "min_width": null,
      "object_fit": null,
      "object_position": null,
      "order": null,
      "overflow": null,
      "overflow_x": null,
      "overflow_y": null,
      "padding": null,
      "right": null,
      "top": null,
      "visibility": null,
      "width": null
     }
    },
    "10a4a762453a43a89ca0d1eff9ed63c9": {
     "model_module": "@jupyter-widgets/controls",
     "model_module_version": "1.5.0",
     "model_name": "DescriptionStyleModel",
     "state": {
      "_model_module": "@jupyter-widgets/controls",
      "_model_module_version": "1.5.0",
      "_model_name": "DescriptionStyleModel",
      "_view_count": null,
      "_view_module": "@jupyter-widgets/base",
      "_view_module_version": "1.2.0",
      "_view_name": "StyleView",
      "description_width": ""
     }
    },
    "126718a44ccf42d9a9ca3f39ec307bf7": {
     "model_module": "@jupyter-widgets/controls",
     "model_module_version": "1.5.0",
     "model_name": "FloatProgressModel",
     "state": {
      "_dom_classes": [],
      "_model_module": "@jupyter-widgets/controls",
      "_model_module_version": "1.5.0",
      "_model_name": "FloatProgressModel",
      "_view_count": null,
      "_view_module": "@jupyter-widgets/controls",
      "_view_module_version": "1.5.0",
      "_view_name": "ProgressView",
      "bar_style": "success",
      "description": "",
      "description_tooltip": null,
      "layout": "IPY_MODEL_205e921c2440462a9ccc7bccfc7b29b4",
      "max": 714290682,
      "min": 0,
      "orientation": "horizontal",
      "style": "IPY_MODEL_4f05a60ff16f4140ba7b4fd614ea2135",
      "value": 714290682
     }
    },
    "1392adefe5c446ad90ba84b1c0ce3da7": {
     "model_module": "@jupyter-widgets/controls",
     "model_module_version": "1.5.0",
     "model_name": "ProgressStyleModel",
     "state": {
      "_model_module": "@jupyter-widgets/controls",
      "_model_module_version": "1.5.0",
      "_model_name": "ProgressStyleModel",
      "_view_count": null,
      "_view_module": "@jupyter-widgets/base",
      "_view_module_version": "1.2.0",
      "_view_name": "StyleView",
      "bar_color": null,
      "description_width": ""
     }
    },
    "15a8c8ce2a82437b87143a144f27a976": {
     "model_module": "@jupyter-widgets/base",
     "model_module_version": "1.2.0",
     "model_name": "LayoutModel",
     "state": {
      "_model_module": "@jupyter-widgets/base",
      "_model_module_version": "1.2.0",
      "_model_name": "LayoutModel",
      "_view_count": null,
      "_view_module": "@jupyter-widgets/base",
      "_view_module_version": "1.2.0",
      "_view_name": "LayoutView",
      "align_content": null,
      "align_items": null,
      "align_self": null,
      "border": null,
      "bottom": null,
      "display": null,
      "flex": null,
      "flex_flow": null,
      "grid_area": null,
      "grid_auto_columns": null,
      "grid_auto_flow": null,
      "grid_auto_rows": null,
      "grid_column": null,
      "grid_gap": null,
      "grid_row": null,
      "grid_template_areas": null,
      "grid_template_columns": null,
      "grid_template_rows": null,
      "height": null,
      "justify_content": null,
      "justify_items": null,
      "left": null,
      "margin": null,
      "max_height": null,
      "max_width": null,
      "min_height": null,
      "min_width": null,
      "object_fit": null,
      "object_position": null,
      "order": null,
      "overflow": null,
      "overflow_x": null,
      "overflow_y": null,
      "padding": null,
      "right": null,
      "top": null,
      "visibility": null,
      "width": null
     }
    },
    "16c7b474a8ea4f70ba2b1dbf4b976c87": {
     "model_module": "@jupyter-widgets/controls",
     "model_module_version": "1.5.0",
     "model_name": "FloatProgressModel",
     "state": {
      "_dom_classes": [],
      "_model_module": "@jupyter-widgets/controls",
      "_model_module_version": "1.5.0",
      "_model_name": "FloatProgressModel",
      "_view_count": null,
      "_view_module": "@jupyter-widgets/controls",
      "_view_module_version": "1.5.0",
      "_view_name": "ProgressView",
      "bar_style": "success",
      "description": "",
      "description_tooltip": null,
      "layout": "IPY_MODEL_8a286e69acb9464291b390800cbd12c2",
      "max": 137,
      "min": 0,
      "orientation": "horizontal",
      "style": "IPY_MODEL_bc75f66a8c5c4df089da0a78ac18a5fd",
      "value": 137
     }
    },
    "1898dd1edee44592bccae8982cec679d": {
     "model_module": "@jupyter-widgets/controls",
     "model_module_version": "1.5.0",
     "model_name": "HTMLModel",
     "state": {
      "_dom_classes": [],
      "_model_module": "@jupyter-widgets/controls",
      "_model_module_version": "1.5.0",
      "_model_name": "HTMLModel",
      "_view_count": null,
      "_view_module": "@jupyter-widgets/controls",
      "_view_module_version": "1.5.0",
      "_view_name": "HTMLView",
      "description": "",
      "description_tooltip": null,
      "layout": "IPY_MODEL_1b301f958ca74b698b19ba037d52fc44",
      "placeholder": "​",
      "style": "IPY_MODEL_d04f757d72264dc189eee202a24d521b",
      "value": "Map: 100%"
     }
    },
    "195abd645ea64553b8f6526fb1e01a7d": {
     "model_module": "@jupyter-widgets/base",
     "model_module_version": "1.2.0",
     "model_name": "LayoutModel",
     "state": {
      "_model_module": "@jupyter-widgets/base",
      "_model_module_version": "1.2.0",
      "_model_name": "LayoutModel",
      "_view_count": null,
      "_view_module": "@jupyter-widgets/base",
      "_view_module_version": "1.2.0",
      "_view_name": "LayoutView",
      "align_content": null,
      "align_items": null,
      "align_self": null,
      "border": null,
      "bottom": null,
      "display": null,
      "flex": null,
      "flex_flow": null,
      "grid_area": null,
      "grid_auto_columns": null,
      "grid_auto_flow": null,
      "grid_auto_rows": null,
      "grid_column": null,
      "grid_gap": null,
      "grid_row": null,
      "grid_template_areas": null,
      "grid_template_columns": null,
      "grid_template_rows": null,
      "height": null,
      "justify_content": null,
      "justify_items": null,
      "left": null,
      "margin": null,
      "max_height": null,
      "max_width": null,
      "min_height": null,
      "min_width": null,
      "object_fit": null,
      "object_position": null,
      "order": null,
      "overflow": null,
      "overflow_x": null,
      "overflow_y": null,
      "padding": null,
      "right": null,
      "top": null,
      "visibility": null,
      "width": null
     }
    },
    "1b301f958ca74b698b19ba037d52fc44": {
     "model_module": "@jupyter-widgets/base",
     "model_module_version": "1.2.0",
     "model_name": "LayoutModel",
     "state": {
      "_model_module": "@jupyter-widgets/base",
      "_model_module_version": "1.2.0",
      "_model_name": "LayoutModel",
      "_view_count": null,
      "_view_module": "@jupyter-widgets/base",
      "_view_module_version": "1.2.0",
      "_view_name": "LayoutView",
      "align_content": null,
      "align_items": null,
      "align_self": null,
      "border": null,
      "bottom": null,
      "display": null,
      "flex": null,
      "flex_flow": null,
      "grid_area": null,
      "grid_auto_columns": null,
      "grid_auto_flow": null,
      "grid_auto_rows": null,
      "grid_column": null,
      "grid_gap": null,
      "grid_row": null,
      "grid_template_areas": null,
      "grid_template_columns": null,
      "grid_template_rows": null,
      "height": null,
      "justify_content": null,
      "justify_items": null,
      "left": null,
      "margin": null,
      "max_height": null,
      "max_width": null,
      "min_height": null,
      "min_width": null,
      "object_fit": null,
      "object_position": null,
      "order": null,
      "overflow": null,
      "overflow_x": null,
      "overflow_y": null,
      "padding": null,
      "right": null,
      "top": null,
      "visibility": null,
      "width": null
     }
    },
    "1c98acf0338a41d3a27ac99ec54f4662": {
     "model_module": "@jupyter-widgets/controls",
     "model_module_version": "1.5.0",
     "model_name": "HBoxModel",
     "state": {
      "_dom_classes": [],
      "_model_module": "@jupyter-widgets/controls",
      "_model_module_version": "1.5.0",
      "_model_name": "HBoxModel",
      "_view_count": null,
      "_view_module": "@jupyter-widgets/controls",
      "_view_module_version": "1.5.0",
      "_view_name": "HBoxView",
      "box_style": "",
      "children": [
       "IPY_MODEL_297b1e03f5f8487daf151067cec980cc",
       "IPY_MODEL_65887a31e6e04862a70d0604dce41311",
       "IPY_MODEL_d23f154058ac45eaac4cbf6b4e86b71c"
      ],
      "layout": "IPY_MODEL_86e2dd640ceb4fa0ae6cd1734a66b323"
     }
    },
    "205e921c2440462a9ccc7bccfc7b29b4": {
     "model_module": "@jupyter-widgets/base",
     "model_module_version": "1.2.0",
     "model_name": "LayoutModel",
     "state": {
      "_model_module": "@jupyter-widgets/base",
      "_model_module_version": "1.2.0",
      "_model_name": "LayoutModel",
      "_view_count": null,
      "_view_module": "@jupyter-widgets/base",
      "_view_module_version": "1.2.0",
      "_view_name": "LayoutView",
      "align_content": null,
      "align_items": null,
      "align_self": null,
      "border": null,
      "bottom": null,
      "display": null,
      "flex": null,
      "flex_flow": null,
      "grid_area": null,
      "grid_auto_columns": null,
      "grid_auto_flow": null,
      "grid_auto_rows": null,
      "grid_column": null,
      "grid_gap": null,
      "grid_row": null,
      "grid_template_areas": null,
      "grid_template_columns": null,
      "grid_template_rows": null,
      "height": null,
      "justify_content": null,
      "justify_items": null,
      "left": null,
      "margin": null,
      "max_height": null,
      "max_width": null,
      "min_height": null,
      "min_width": null,
      "object_fit": null,
      "object_position": null,
      "order": null,
      "overflow": null,
      "overflow_x": null,
      "overflow_y": null,
      "padding": null,
      "right": null,
      "top": null,
      "visibility": null,
      "width": null
     }
    },
    "24208cdf90154abca05fc081432d10a7": {
     "model_module": "@jupyter-widgets/base",
     "model_module_version": "1.2.0",
     "model_name": "LayoutModel",
     "state": {
      "_model_module": "@jupyter-widgets/base",
      "_model_module_version": "1.2.0",
      "_model_name": "LayoutModel",
      "_view_count": null,
      "_view_module": "@jupyter-widgets/base",
      "_view_module_version": "1.2.0",
      "_view_name": "LayoutView",
      "align_content": null,
      "align_items": null,
      "align_self": null,
      "border": null,
      "bottom": null,
      "display": null,
      "flex": null,
      "flex_flow": null,
      "grid_area": null,
      "grid_auto_columns": null,
      "grid_auto_flow": null,
      "grid_auto_rows": null,
      "grid_column": null,
      "grid_gap": null,
      "grid_row": null,
      "grid_template_areas": null,
      "grid_template_columns": null,
      "grid_template_rows": null,
      "height": null,
      "justify_content": null,
      "justify_items": null,
      "left": null,
      "margin": null,
      "max_height": null,
      "max_width": null,
      "min_height": null,
      "min_width": null,
      "object_fit": null,
      "object_position": null,
      "order": null,
      "overflow": null,
      "overflow_x": null,
      "overflow_y": null,
      "padding": null,
      "right": null,
      "top": null,
      "visibility": null,
      "width": null
     }
    },
    "26ba69ba5175429eab5c52a01e3eef5e": {
     "model_module": "@jupyter-widgets/base",
     "model_module_version": "1.2.0",
     "model_name": "LayoutModel",
     "state": {
      "_model_module": "@jupyter-widgets/base",
      "_model_module_version": "1.2.0",
      "_model_name": "LayoutModel",
      "_view_count": null,
      "_view_module": "@jupyter-widgets/base",
      "_view_module_version": "1.2.0",
      "_view_name": "LayoutView",
      "align_content": null,
      "align_items": null,
      "align_self": null,
      "border": null,
      "bottom": null,
      "display": null,
      "flex": null,
      "flex_flow": null,
      "grid_area": null,
      "grid_auto_columns": null,
      "grid_auto_flow": null,
      "grid_auto_rows": null,
      "grid_column": null,
      "grid_gap": null,
      "grid_row": null,
      "grid_template_areas": null,
      "grid_template_columns": null,
      "grid_template_rows": null,
      "height": null,
      "justify_content": null,
      "justify_items": null,
      "left": null,
      "margin": null,
      "max_height": null,
      "max_width": null,
      "min_height": null,
      "min_width": null,
      "object_fit": null,
      "object_position": null,
      "order": null,
      "overflow": null,
      "overflow_x": null,
      "overflow_y": null,
      "padding": null,
      "right": null,
      "top": null,
      "visibility": null,
      "width": null
     }
    },
    "297b1e03f5f8487daf151067cec980cc": {
     "model_module": "@jupyter-widgets/controls",
     "model_module_version": "1.5.0",
     "model_name": "HTMLModel",
     "state": {
      "_dom_classes": [],
      "_model_module": "@jupyter-widgets/controls",
      "_model_module_version": "1.5.0",
      "_model_name": "HTMLModel",
      "_view_count": null,
      "_view_module": "@jupyter-widgets/controls",
      "_view_module_version": "1.5.0",
      "_view_name": "HTMLView",
      "description": "",
      "description_tooltip": null,
      "layout": "IPY_MODEL_195abd645ea64553b8f6526fb1e01a7d",
      "placeholder": "​",
      "style": "IPY_MODEL_10a4a762453a43a89ca0d1eff9ed63c9",
      "value": "Map: 100%"
     }
    },
    "29c58ad91e2541a985c0340c9c7164f4": {
     "model_module": "@jupyter-widgets/base",
     "model_module_version": "1.2.0",
     "model_name": "LayoutModel",
     "state": {
      "_model_module": "@jupyter-widgets/base",
      "_model_module_version": "1.2.0",
      "_model_name": "LayoutModel",
      "_view_count": null,
      "_view_module": "@jupyter-widgets/base",
      "_view_module_version": "1.2.0",
      "_view_name": "LayoutView",
      "align_content": null,
      "align_items": null,
      "align_self": null,
      "border": null,
      "bottom": null,
      "display": null,
      "flex": null,
      "flex_flow": null,
      "grid_area": null,
      "grid_auto_columns": null,
      "grid_auto_flow": null,
      "grid_auto_rows": null,
      "grid_column": null,
      "grid_gap": null,
      "grid_row": null,
      "grid_template_areas": null,
      "grid_template_columns": null,
      "grid_template_rows": null,
      "height": null,
      "justify_content": null,
      "justify_items": null,
      "left": null,
      "margin": null,
      "max_height": null,
      "max_width": null,
      "min_height": null,
      "min_width": null,
      "object_fit": null,
      "object_position": null,
      "order": null,
      "overflow": null,
      "overflow_x": null,
      "overflow_y": null,
      "padding": null,
      "right": null,
      "top": null,
      "visibility": null,
      "width": null
     }
    },
    "2a78602a51634b14b0e18827df5bc9e1": {
     "model_module": "@jupyter-widgets/base",
     "model_module_version": "1.2.0",
     "model_name": "LayoutModel",
     "state": {
      "_model_module": "@jupyter-widgets/base",
      "_model_module_version": "1.2.0",
      "_model_name": "LayoutModel",
      "_view_count": null,
      "_view_module": "@jupyter-widgets/base",
      "_view_module_version": "1.2.0",
      "_view_name": "LayoutView",
      "align_content": null,
      "align_items": null,
      "align_self": null,
      "border": null,
      "bottom": null,
      "display": null,
      "flex": null,
      "flex_flow": null,
      "grid_area": null,
      "grid_auto_columns": null,
      "grid_auto_flow": null,
      "grid_auto_rows": null,
      "grid_column": null,
      "grid_gap": null,
      "grid_row": null,
      "grid_template_areas": null,
      "grid_template_columns": null,
      "grid_template_rows": null,
      "height": null,
      "justify_content": null,
      "justify_items": null,
      "left": null,
      "margin": null,
      "max_height": null,
      "max_width": null,
      "min_height": null,
      "min_width": null,
      "object_fit": null,
      "object_position": null,
      "order": null,
      "overflow": null,
      "overflow_x": null,
      "overflow_y": null,
      "padding": null,
      "right": null,
      "top": null,
      "visibility": null,
      "width": null
     }
    },
    "2b316eb6b00e4e359510b6be7b80bba4": {
     "model_module": "@jupyter-widgets/controls",
     "model_module_version": "1.5.0",
     "model_name": "HTMLModel",
     "state": {
      "_dom_classes": [],
      "_model_module": "@jupyter-widgets/controls",
      "_model_module_version": "1.5.0",
      "_model_name": "HTMLModel",
      "_view_count": null,
      "_view_module": "@jupyter-widgets/controls",
      "_view_module_version": "1.5.0",
      "_view_name": "HTMLView",
      "description": "",
      "description_tooltip": null,
      "layout": "IPY_MODEL_ea4b373bca2746e2b7158b738502770a",
      "placeholder": "​",
      "style": "IPY_MODEL_b5862431e0e64106b52f4d91ec3b40b3",
      "value": " 1141/1141 [00:01&lt;00:00, 765.96 examples/s]"
     }
    },
    "2ecd23e30b804989915858d730dc85e2": {
     "model_module": "@jupyter-widgets/controls",
     "model_module_version": "1.5.0",
     "model_name": "HTMLModel",
     "state": {
      "_dom_classes": [],
      "_model_module": "@jupyter-widgets/controls",
      "_model_module_version": "1.5.0",
      "_model_name": "HTMLModel",
      "_view_count": null,
      "_view_module": "@jupyter-widgets/controls",
      "_view_module_version": "1.5.0",
      "_view_name": "HTMLView",
      "description": "",
      "description_tooltip": null,
      "layout": "IPY_MODEL_b919b20864ef47359030cb9a1b97a12c",
      "placeholder": "​",
      "style": "IPY_MODEL_9f294c98046a43e1895b1b467bff1136",
      "value": " 625/625 [00:00&lt;00:00, 11.5kB/s]"
     }
    },
    "339ea2746a2b43b5a13c5bef4375c613": {
     "model_module": "@jupyter-widgets/controls",
     "model_module_version": "1.5.0",
     "model_name": "DescriptionStyleModel",
     "state": {
      "_model_module": "@jupyter-widgets/controls",
      "_model_module_version": "1.5.0",
      "_model_name": "DescriptionStyleModel",
      "_view_count": null,
      "_view_module": "@jupyter-widgets/base",
      "_view_module_version": "1.2.0",
      "_view_name": "StyleView",
      "description_width": ""
     }
    },
    "350f27e46a1c44be94d7da8c3f7ee22c": {
     "model_module": "@jupyter-widgets/controls",
     "model_module_version": "1.5.0",
     "model_name": "HTMLModel",
     "state": {
      "_dom_classes": [],
      "_model_module": "@jupyter-widgets/controls",
      "_model_module_version": "1.5.0",
      "_model_name": "HTMLModel",
      "_view_count": null,
      "_view_module": "@jupyter-widgets/controls",
      "_view_module_version": "1.5.0",
      "_view_name": "HTMLView",
      "description": "",
      "description_tooltip": null,
      "layout": "IPY_MODEL_e71112bdd64b483f87318c5b0ccdf7fb",
      "placeholder": "​",
      "style": "IPY_MODEL_a27c187588d7496e9f3d6a4ee966e55a",
      "value": " 996k/996k [00:00&lt;00:00, 14.6MB/s]"
     }
    },
    "3970a0087b304fe79c735b6af7229161": {
     "model_module": "@jupyter-widgets/base",
     "model_module_version": "1.2.0",
     "model_name": "LayoutModel",
     "state": {
      "_model_module": "@jupyter-widgets/base",
      "_model_module_version": "1.2.0",
      "_model_name": "LayoutModel",
      "_view_count": null,
      "_view_module": "@jupyter-widgets/base",
      "_view_module_version": "1.2.0",
      "_view_name": "LayoutView",
      "align_content": null,
      "align_items": null,
      "align_self": null,
      "border": null,
      "bottom": null,
      "display": null,
      "flex": null,
      "flex_flow": null,
      "grid_area": null,
      "grid_auto_columns": null,
      "grid_auto_flow": null,
      "grid_auto_rows": null,
      "grid_column": null,
      "grid_gap": null,
      "grid_row": null,
      "grid_template_areas": null,
      "grid_template_columns": null,
      "grid_template_rows": null,
      "height": null,
      "justify_content": null,
      "justify_items": null,
      "left": null,
      "margin": null,
      "max_height": null,
      "max_width": null,
      "min_height": null,
      "min_width": null,
      "object_fit": null,
      "object_position": null,
      "order": null,
      "overflow": null,
      "overflow_x": null,
      "overflow_y": null,
      "padding": null,
      "right": null,
      "top": null,
      "visibility": null,
      "width": null
     }
    },
    "44068b17c86e4dd3a70f475b32d40b14": {
     "model_module": "@jupyter-widgets/controls",
     "model_module_version": "1.5.0",
     "model_name": "HTMLModel",
     "state": {
      "_dom_classes": [],
      "_model_module": "@jupyter-widgets/controls",
      "_model_module_version": "1.5.0",
      "_model_name": "HTMLModel",
      "_view_count": null,
      "_view_module": "@jupyter-widgets/controls",
      "_view_module_version": "1.5.0",
      "_view_name": "HTMLView",
      "description": "",
      "description_tooltip": null,
      "layout": "IPY_MODEL_c3097438971e49498f1a8ceab4ad8482",
      "placeholder": "​",
      "style": "IPY_MODEL_8f9554f2c4c247bab3b1b5fb061e04ce",
      "value": "Map: 100%"
     }
    },
    "454c8e3b167f4a0f8eb11554248d9c92": {
     "model_module": "@jupyter-widgets/base",
     "model_module_version": "1.2.0",
     "model_name": "LayoutModel",
     "state": {
      "_model_module": "@jupyter-widgets/base",
      "_model_module_version": "1.2.0",
      "_model_name": "LayoutModel",
      "_view_count": null,
      "_view_module": "@jupyter-widgets/base",
      "_view_module_version": "1.2.0",
      "_view_name": "LayoutView",
      "align_content": null,
      "align_items": null,
      "align_self": null,
      "border": null,
      "bottom": null,
      "display": null,
      "flex": null,
      "flex_flow": null,
      "grid_area": null,
      "grid_auto_columns": null,
      "grid_auto_flow": null,
      "grid_auto_rows": null,
      "grid_column": null,
      "grid_gap": null,
      "grid_row": null,
      "grid_template_areas": null,
      "grid_template_columns": null,
      "grid_template_rows": null,
      "height": null,
      "justify_content": null,
      "justify_items": null,
      "left": null,
      "margin": null,
      "max_height": null,
      "max_width": null,
      "min_height": null,
      "min_width": null,
      "object_fit": null,
      "object_position": null,
      "order": null,
      "overflow": null,
      "overflow_x": null,
      "overflow_y": null,
      "padding": null,
      "right": null,
      "top": null,
      "visibility": null,
      "width": null
     }
    },
    "47c4df7367c74c78936eeb0f34b530eb": {
     "model_module": "@jupyter-widgets/controls",
     "model_module_version": "1.5.0",
     "model_name": "DescriptionStyleModel",
     "state": {
      "_model_module": "@jupyter-widgets/controls",
      "_model_module_version": "1.5.0",
      "_model_name": "DescriptionStyleModel",
      "_view_count": null,
      "_view_module": "@jupyter-widgets/base",
      "_view_module_version": "1.2.0",
      "_view_name": "StyleView",
      "description_width": ""
     }
    },
    "489b09b2ed974d988635ca38c8f7a5f4": {
     "model_module": "@jupyter-widgets/controls",
     "model_module_version": "1.5.0",
     "model_name": "ProgressStyleModel",
     "state": {
      "_model_module": "@jupyter-widgets/controls",
      "_model_module_version": "1.5.0",
      "_model_name": "ProgressStyleModel",
      "_view_count": null,
      "_view_module": "@jupyter-widgets/base",
      "_view_module_version": "1.2.0",
      "_view_name": "StyleView",
      "bar_color": null,
      "description_width": ""
     }
    },
    "49808450700948bf87798614c452a650": {
     "model_module": "@jupyter-widgets/controls",
     "model_module_version": "1.5.0",
     "model_name": "FloatProgressModel",
     "state": {
      "_dom_classes": [],
      "_model_module": "@jupyter-widgets/controls",
      "_model_module_version": "1.5.0",
      "_model_name": "FloatProgressModel",
      "_view_count": null,
      "_view_module": "@jupyter-widgets/controls",
      "_view_module_version": "1.5.0",
      "_view_name": "ProgressView",
      "bar_style": "success",
      "description": "",
      "description_tooltip": null,
      "layout": "IPY_MODEL_0906ea5298164af5948193e11bc1ef81",
      "max": 714290682,
      "min": 0,
      "orientation": "horizontal",
      "style": "IPY_MODEL_e15d91998e724ccdbf0661a6ee8231d3",
      "value": 714290682
     }
    },
    "4b337765e2774206bf0a7740bef884de": {
     "model_module": "@jupyter-widgets/controls",
     "model_module_version": "1.5.0",
     "model_name": "HBoxModel",
     "state": {
      "_dom_classes": [],
      "_model_module": "@jupyter-widgets/controls",
      "_model_module_version": "1.5.0",
      "_model_name": "HBoxModel",
      "_view_count": null,
      "_view_module": "@jupyter-widgets/controls",
      "_view_module_version": "1.5.0",
      "_view_name": "HBoxView",
      "box_style": "",
      "children": [
       "IPY_MODEL_1898dd1edee44592bccae8982cec679d",
       "IPY_MODEL_b7d086d4996942daaa6edeaa68cab75c",
       "IPY_MODEL_2b316eb6b00e4e359510b6be7b80bba4"
      ],
      "layout": "IPY_MODEL_15a8c8ce2a82437b87143a144f27a976"
     }
    },
    "4cb4ef0b99ac4ac7918b12990a6d384b": {
     "model_module": "@jupyter-widgets/controls",
     "model_module_version": "1.5.0",
     "model_name": "HBoxModel",
     "state": {
      "_dom_classes": [],
      "_model_module": "@jupyter-widgets/controls",
      "_model_module_version": "1.5.0",
      "_model_name": "HBoxModel",
      "_view_count": null,
      "_view_module": "@jupyter-widgets/controls",
      "_view_module_version": "1.5.0",
      "_view_name": "HBoxView",
      "box_style": "",
      "children": [
       "IPY_MODEL_ba17e2110f9e4f269a3830c3797ed0e9",
       "IPY_MODEL_49808450700948bf87798614c452a650",
       "IPY_MODEL_c96546e918d94005b202fb20d71cd7e7"
      ],
      "layout": "IPY_MODEL_454c8e3b167f4a0f8eb11554248d9c92"
     }
    },
    "4f05a60ff16f4140ba7b4fd614ea2135": {
     "model_module": "@jupyter-widgets/controls",
     "model_module_version": "1.5.0",
     "model_name": "ProgressStyleModel",
     "state": {
      "_model_module": "@jupyter-widgets/controls",
      "_model_module_version": "1.5.0",
      "_model_name": "ProgressStyleModel",
      "_view_count": null,
      "_view_module": "@jupyter-widgets/base",
      "_view_module_version": "1.2.0",
      "_view_name": "StyleView",
      "bar_color": null,
      "description_width": ""
     }
    },
    "4f4a06a96504479db9b169b784395f31": {
     "model_module": "@jupyter-widgets/base",
     "model_module_version": "1.2.0",
     "model_name": "LayoutModel",
     "state": {
      "_model_module": "@jupyter-widgets/base",
      "_model_module_version": "1.2.0",
      "_model_name": "LayoutModel",
      "_view_count": null,
      "_view_module": "@jupyter-widgets/base",
      "_view_module_version": "1.2.0",
      "_view_name": "LayoutView",
      "align_content": null,
      "align_items": null,
      "align_self": null,
      "border": null,
      "bottom": null,
      "display": null,
      "flex": null,
      "flex_flow": null,
      "grid_area": null,
      "grid_auto_columns": null,
      "grid_auto_flow": null,
      "grid_auto_rows": null,
      "grid_column": null,
      "grid_gap": null,
      "grid_row": null,
      "grid_template_areas": null,
      "grid_template_columns": null,
      "grid_template_rows": null,
      "height": null,
      "justify_content": null,
      "justify_items": null,
      "left": null,
      "margin": null,
      "max_height": null,
      "max_width": null,
      "min_height": null,
      "min_width": null,
      "object_fit": null,
      "object_position": null,
      "order": null,
      "overflow": null,
      "overflow_x": null,
      "overflow_y": null,
      "padding": null,
      "right": null,
      "top": null,
      "visibility": null,
      "width": null
     }
    },
    "51f1e4c4e0ef4b34b2e1b196d21de8dd": {
     "model_module": "@jupyter-widgets/base",
     "model_module_version": "1.2.0",
     "model_name": "LayoutModel",
     "state": {
      "_model_module": "@jupyter-widgets/base",
      "_model_module_version": "1.2.0",
      "_model_name": "LayoutModel",
      "_view_count": null,
      "_view_module": "@jupyter-widgets/base",
      "_view_module_version": "1.2.0",
      "_view_name": "LayoutView",
      "align_content": null,
      "align_items": null,
      "align_self": null,
      "border": null,
      "bottom": null,
      "display": null,
      "flex": null,
      "flex_flow": null,
      "grid_area": null,
      "grid_auto_columns": null,
      "grid_auto_flow": null,
      "grid_auto_rows": null,
      "grid_column": null,
      "grid_gap": null,
      "grid_row": null,
      "grid_template_areas": null,
      "grid_template_columns": null,
      "grid_template_rows": null,
      "height": null,
      "justify_content": null,
      "justify_items": null,
      "left": null,
      "margin": null,
      "max_height": null,
      "max_width": null,
      "min_height": null,
      "min_width": null,
      "object_fit": null,
      "object_position": null,
      "order": null,
      "overflow": null,
      "overflow_x": null,
      "overflow_y": null,
      "padding": null,
      "right": null,
      "top": null,
      "visibility": null,
      "width": null
     }
    },
    "536f534b1ebe4aaf9e6146b1e9fadd64": {
     "model_module": "@jupyter-widgets/controls",
     "model_module_version": "1.5.0",
     "model_name": "DescriptionStyleModel",
     "state": {
      "_model_module": "@jupyter-widgets/controls",
      "_model_module_version": "1.5.0",
      "_model_name": "DescriptionStyleModel",
      "_view_count": null,
      "_view_module": "@jupyter-widgets/base",
      "_view_module_version": "1.2.0",
      "_view_name": "StyleView",
      "description_width": ""
     }
    },
    "55d829181e1c4fc1ba497f71937ee7f1": {
     "model_module": "@jupyter-widgets/controls",
     "model_module_version": "1.5.0",
     "model_name": "HBoxModel",
     "state": {
      "_dom_classes": [],
      "_model_module": "@jupyter-widgets/controls",
      "_model_module_version": "1.5.0",
      "_model_name": "HBoxModel",
      "_view_count": null,
      "_view_module": "@jupyter-widgets/controls",
      "_view_module_version": "1.5.0",
      "_view_name": "HBoxView",
      "box_style": "",
      "children": [
       "IPY_MODEL_b9c71c8a060b4bbb966c80ea7192d139",
       "IPY_MODEL_be10cb2dce28443784f794392000e1c2",
       "IPY_MODEL_2ecd23e30b804989915858d730dc85e2"
      ],
      "layout": "IPY_MODEL_2a78602a51634b14b0e18827df5bc9e1"
     }
    },
    "60437dd466684910b0cf16f2d80cd1d9": {
     "model_module": "@jupyter-widgets/controls",
     "model_module_version": "1.5.0",
     "model_name": "DescriptionStyleModel",
     "state": {
      "_model_module": "@jupyter-widgets/controls",
      "_model_module_version": "1.5.0",
      "_model_name": "DescriptionStyleModel",
      "_view_count": null,
      "_view_module": "@jupyter-widgets/base",
      "_view_module_version": "1.2.0",
      "_view_name": "StyleView",
      "description_width": ""
     }
    },
    "65887a31e6e04862a70d0604dce41311": {
     "model_module": "@jupyter-widgets/controls",
     "model_module_version": "1.5.0",
     "model_name": "FloatProgressModel",
     "state": {
      "_dom_classes": [],
      "_model_module": "@jupyter-widgets/controls",
      "_model_module_version": "1.5.0",
      "_model_name": "FloatProgressModel",
      "_view_count": null,
      "_view_module": "@jupyter-widgets/controls",
      "_view_module_version": "1.5.0",
      "_view_name": "ProgressView",
      "bar_style": "success",
      "description": "",
      "description_tooltip": null,
      "layout": "IPY_MODEL_51f1e4c4e0ef4b34b2e1b196d21de8dd",
      "max": 1141,
      "min": 0,
      "orientation": "horizontal",
      "style": "IPY_MODEL_97c51e13be34444c905b04d87830a416",
      "value": 1141
     }
    },
    "67ba8709f05448ea9cb500b61b8c507b": {
     "model_module": "@jupyter-widgets/controls",
     "model_module_version": "1.5.0",
     "model_name": "HBoxModel",
     "state": {
      "_dom_classes": [],
      "_model_module": "@jupyter-widgets/controls",
      "_model_module_version": "1.5.0",
      "_model_name": "HBoxModel",
      "_view_count": null,
      "_view_module": "@jupyter-widgets/controls",
      "_view_module_version": "1.5.0",
      "_view_name": "HBoxView",
      "box_style": "",
      "children": [
       "IPY_MODEL_9761cda1bb014bc89d0410385aa3844c",
       "IPY_MODEL_126718a44ccf42d9a9ca3f39ec307bf7",
       "IPY_MODEL_0af91d92dbf14e018cce3950c56d193c"
      ],
      "layout": "IPY_MODEL_feeb172c0950472aaafed5cefb5bec4f"
     }
    },
    "67deb937590d477fa9ff2e799f5abd51": {
     "model_module": "@jupyter-widgets/controls",
     "model_module_version": "1.5.0",
     "model_name": "HBoxModel",
     "state": {
      "_dom_classes": [],
      "_model_module": "@jupyter-widgets/controls",
      "_model_module_version": "1.5.0",
      "_model_name": "HBoxModel",
      "_view_count": null,
      "_view_module": "@jupyter-widgets/controls",
      "_view_module_version": "1.5.0",
      "_view_name": "HBoxView",
      "box_style": "",
      "children": [
       "IPY_MODEL_44068b17c86e4dd3a70f475b32d40b14",
       "IPY_MODEL_16c7b474a8ea4f70ba2b1dbf4b976c87",
       "IPY_MODEL_04164f4d7114485293306491ceee7473"
      ],
      "layout": "IPY_MODEL_959d37d1c1ad4caf9367c19fa9fc7eb3"
     }
    },
    "6859cd20fa9c44378cb9dfdd9facc312": {
     "model_module": "@jupyter-widgets/controls",
     "model_module_version": "1.5.0",
     "model_name": "ProgressStyleModel",
     "state": {
      "_model_module": "@jupyter-widgets/controls",
      "_model_module_version": "1.5.0",
      "_model_name": "ProgressStyleModel",
      "_view_count": null,
      "_view_module": "@jupyter-widgets/base",
      "_view_module_version": "1.2.0",
      "_view_name": "StyleView",
      "bar_color": null,
      "description_width": ""
     }
    },
    "690cc79579f74004b5f25b90ac25198d": {
     "model_module": "@jupyter-widgets/base",
     "model_module_version": "1.2.0",
     "model_name": "LayoutModel",
     "state": {
      "_model_module": "@jupyter-widgets/base",
      "_model_module_version": "1.2.0",
      "_model_name": "LayoutModel",
      "_view_count": null,
      "_view_module": "@jupyter-widgets/base",
      "_view_module_version": "1.2.0",
      "_view_name": "LayoutView",
      "align_content": null,
      "align_items": null,
      "align_self": null,
      "border": null,
      "bottom": null,
      "display": null,
      "flex": null,
      "flex_flow": null,
      "grid_area": null,
      "grid_auto_columns": null,
      "grid_auto_flow": null,
      "grid_auto_rows": null,
      "grid_column": null,
      "grid_gap": null,
      "grid_row": null,
      "grid_template_areas": null,
      "grid_template_columns": null,
      "grid_template_rows": null,
      "height": null,
      "justify_content": null,
      "justify_items": null,
      "left": null,
      "margin": null,
      "max_height": null,
      "max_width": null,
      "min_height": null,
      "min_width": null,
      "object_fit": null,
      "object_position": null,
      "order": null,
      "overflow": null,
      "overflow_x": null,
      "overflow_y": null,
      "padding": null,
      "right": null,
      "top": null,
      "visibility": null,
      "width": null
     }
    },
    "720d185a22c44cbb9206ac902f720939": {
     "model_module": "@jupyter-widgets/base",
     "model_module_version": "1.2.0",
     "model_name": "LayoutModel",
     "state": {
      "_model_module": "@jupyter-widgets/base",
      "_model_module_version": "1.2.0",
      "_model_name": "LayoutModel",
      "_view_count": null,
      "_view_module": "@jupyter-widgets/base",
      "_view_module_version": "1.2.0",
      "_view_name": "LayoutView",
      "align_content": null,
      "align_items": null,
      "align_self": null,
      "border": null,
      "bottom": null,
      "display": null,
      "flex": null,
      "flex_flow": null,
      "grid_area": null,
      "grid_auto_columns": null,
      "grid_auto_flow": null,
      "grid_auto_rows": null,
      "grid_column": null,
      "grid_gap": null,
      "grid_row": null,
      "grid_template_areas": null,
      "grid_template_columns": null,
      "grid_template_rows": null,
      "height": null,
      "justify_content": null,
      "justify_items": null,
      "left": null,
      "margin": null,
      "max_height": null,
      "max_width": null,
      "min_height": null,
      "min_width": null,
      "object_fit": null,
      "object_position": null,
      "order": null,
      "overflow": null,
      "overflow_x": null,
      "overflow_y": null,
      "padding": null,
      "right": null,
      "top": null,
      "visibility": null,
      "width": null
     }
    },
    "78807ddd5c9e4b8baea8d0fd436658cb": {
     "model_module": "@jupyter-widgets/controls",
     "model_module_version": "1.5.0",
     "model_name": "ProgressStyleModel",
     "state": {
      "_model_module": "@jupyter-widgets/controls",
      "_model_module_version": "1.5.0",
      "_model_name": "ProgressStyleModel",
      "_view_count": null,
      "_view_module": "@jupyter-widgets/base",
      "_view_module_version": "1.2.0",
      "_view_name": "StyleView",
      "bar_color": null,
      "description_width": ""
     }
    },
    "79d14431bf9746d19ad79725be1c631d": {
     "model_module": "@jupyter-widgets/controls",
     "model_module_version": "1.5.0",
     "model_name": "HBoxModel",
     "state": {
      "_dom_classes": [],
      "_model_module": "@jupyter-widgets/controls",
      "_model_module_version": "1.5.0",
      "_model_name": "HBoxModel",
      "_view_count": null,
      "_view_module": "@jupyter-widgets/controls",
      "_view_module_version": "1.5.0",
      "_view_name": "HBoxView",
      "box_style": "",
      "children": [
       "IPY_MODEL_fe73394821454caf8687e8ada0ca6a05",
       "IPY_MODEL_ceff5dffc26f4952b344d8d81f95f709",
       "IPY_MODEL_de395d477d514d3ba613a7a925e53cca"
      ],
      "layout": "IPY_MODEL_05fcdae1b4f94758975bbfb6c1b1f8b5"
     }
    },
    "7c16455ac1924f80ae3e3f48215f8cc0": {
     "model_module": "@jupyter-widgets/controls",
     "model_module_version": "1.5.0",
     "model_name": "HBoxModel",
     "state": {
      "_dom_classes": [],
      "_model_module": "@jupyter-widgets/controls",
      "_model_module_version": "1.5.0",
      "_model_name": "HBoxModel",
      "_view_count": null,
      "_view_module": "@jupyter-widgets/controls",
      "_view_module_version": "1.5.0",
      "_view_name": "HBoxView",
      "box_style": "",
      "children": [
       "IPY_MODEL_84fafc1424d24dbabb66cee9479f2f33",
       "IPY_MODEL_0a4155b7a8ca41d7a11c9505cdc872e6",
       "IPY_MODEL_a2871ad0da34499e9ed2bf141501c2c7"
      ],
      "layout": "IPY_MODEL_a24c7830e36142719e059bdddbbb6261"
     }
    },
    "7d3ccf739be342d59a68564fc894d5a7": {
     "model_module": "@jupyter-widgets/controls",
     "model_module_version": "1.5.0",
     "model_name": "DescriptionStyleModel",
     "state": {
      "_model_module": "@jupyter-widgets/controls",
      "_model_module_version": "1.5.0",
      "_model_name": "DescriptionStyleModel",
      "_view_count": null,
      "_view_module": "@jupyter-widgets/base",
      "_view_module_version": "1.2.0",
      "_view_name": "StyleView",
      "description_width": ""
     }
    },
    "84fafc1424d24dbabb66cee9479f2f33": {
     "model_module": "@jupyter-widgets/controls",
     "model_module_version": "1.5.0",
     "model_name": "HTMLModel",
     "state": {
      "_dom_classes": [],
      "_model_module": "@jupyter-widgets/controls",
      "_model_module_version": "1.5.0",
      "_model_name": "HTMLModel",
      "_view_count": null,
      "_view_module": "@jupyter-widgets/controls",
      "_view_module_version": "1.5.0",
      "_view_name": "HTMLView",
      "description": "",
      "description_tooltip": null,
      "layout": "IPY_MODEL_26ba69ba5175429eab5c52a01e3eef5e",
      "placeholder": "​",
      "style": "IPY_MODEL_e18d1e815df24ef0b8e47e3722e45e09",
      "value": "tokenizer_config.json: 100%"
     }
    },
    "86e2dd640ceb4fa0ae6cd1734a66b323": {
     "model_module": "@jupyter-widgets/base",
     "model_module_version": "1.2.0",
     "model_name": "LayoutModel",
     "state": {
      "_model_module": "@jupyter-widgets/base",
      "_model_module_version": "1.2.0",
      "_model_name": "LayoutModel",
      "_view_count": null,
      "_view_module": "@jupyter-widgets/base",
      "_view_module_version": "1.2.0",
      "_view_name": "LayoutView",
      "align_content": null,
      "align_items": null,
      "align_self": null,
      "border": null,
      "bottom": null,
      "display": null,
      "flex": null,
      "flex_flow": null,
      "grid_area": null,
      "grid_auto_columns": null,
      "grid_auto_flow": null,
      "grid_auto_rows": null,
      "grid_column": null,
      "grid_gap": null,
      "grid_row": null,
      "grid_template_areas": null,
      "grid_template_columns": null,
      "grid_template_rows": null,
      "height": null,
      "justify_content": null,
      "justify_items": null,
      "left": null,
      "margin": null,
      "max_height": null,
      "max_width": null,
      "min_height": null,
      "min_width": null,
      "object_fit": null,
      "object_position": null,
      "order": null,
      "overflow": null,
      "overflow_x": null,
      "overflow_y": null,
      "padding": null,
      "right": null,
      "top": null,
      "visibility": null,
      "width": null
     }
    },
    "8a286e69acb9464291b390800cbd12c2": {
     "model_module": "@jupyter-widgets/base",
     "model_module_version": "1.2.0",
     "model_name": "LayoutModel",
     "state": {
      "_model_module": "@jupyter-widgets/base",
      "_model_module_version": "1.2.0",
      "_model_name": "LayoutModel",
      "_view_count": null,
      "_view_module": "@jupyter-widgets/base",
      "_view_module_version": "1.2.0",
      "_view_name": "LayoutView",
      "align_content": null,
      "align_items": null,
      "align_self": null,
      "border": null,
      "bottom": null,
      "display": null,
      "flex": null,
      "flex_flow": null,
      "grid_area": null,
      "grid_auto_columns": null,
      "grid_auto_flow": null,
      "grid_auto_rows": null,
      "grid_column": null,
      "grid_gap": null,
      "grid_row": null,
      "grid_template_areas": null,
      "grid_template_columns": null,
      "grid_template_rows": null,
      "height": null,
      "justify_content": null,
      "justify_items": null,
      "left": null,
      "margin": null,
      "max_height": null,
      "max_width": null,
      "min_height": null,
      "min_width": null,
      "object_fit": null,
      "object_position": null,
      "order": null,
      "overflow": null,
      "overflow_x": null,
      "overflow_y": null,
      "padding": null,
      "right": null,
      "top": null,
      "visibility": null,
      "width": null
     }
    },
    "8f9554f2c4c247bab3b1b5fb061e04ce": {
     "model_module": "@jupyter-widgets/controls",
     "model_module_version": "1.5.0",
     "model_name": "DescriptionStyleModel",
     "state": {
      "_model_module": "@jupyter-widgets/controls",
      "_model_module_version": "1.5.0",
      "_model_name": "DescriptionStyleModel",
      "_view_count": null,
      "_view_module": "@jupyter-widgets/base",
      "_view_module_version": "1.2.0",
      "_view_name": "StyleView",
      "description_width": ""
     }
    },
    "90fd622c3b2c48af996eec5f0b8315b9": {
     "model_module": "@jupyter-widgets/controls",
     "model_module_version": "1.5.0",
     "model_name": "DescriptionStyleModel",
     "state": {
      "_model_module": "@jupyter-widgets/controls",
      "_model_module_version": "1.5.0",
      "_model_name": "DescriptionStyleModel",
      "_view_count": null,
      "_view_module": "@jupyter-widgets/base",
      "_view_module_version": "1.2.0",
      "_view_name": "StyleView",
      "description_width": ""
     }
    },
    "92c4deb477fd4f5dba001ef1ad8eb6de": {
     "model_module": "@jupyter-widgets/base",
     "model_module_version": "1.2.0",
     "model_name": "LayoutModel",
     "state": {
      "_model_module": "@jupyter-widgets/base",
      "_model_module_version": "1.2.0",
      "_model_name": "LayoutModel",
      "_view_count": null,
      "_view_module": "@jupyter-widgets/base",
      "_view_module_version": "1.2.0",
      "_view_name": "LayoutView",
      "align_content": null,
      "align_items": null,
      "align_self": null,
      "border": null,
      "bottom": null,
      "display": null,
      "flex": null,
      "flex_flow": null,
      "grid_area": null,
      "grid_auto_columns": null,
      "grid_auto_flow": null,
      "grid_auto_rows": null,
      "grid_column": null,
      "grid_gap": null,
      "grid_row": null,
      "grid_template_areas": null,
      "grid_template_columns": null,
      "grid_template_rows": null,
      "height": null,
      "justify_content": null,
      "justify_items": null,
      "left": null,
      "margin": null,
      "max_height": null,
      "max_width": null,
      "min_height": null,
      "min_width": null,
      "object_fit": null,
      "object_position": null,
      "order": null,
      "overflow": null,
      "overflow_x": null,
      "overflow_y": null,
      "padding": null,
      "right": null,
      "top": null,
      "visibility": null,
      "width": null
     }
    },
    "93184038c68e41f19a0c9356b29ff5ce": {
     "model_module": "@jupyter-widgets/base",
     "model_module_version": "1.2.0",
     "model_name": "LayoutModel",
     "state": {
      "_model_module": "@jupyter-widgets/base",
      "_model_module_version": "1.2.0",
      "_model_name": "LayoutModel",
      "_view_count": null,
      "_view_module": "@jupyter-widgets/base",
      "_view_module_version": "1.2.0",
      "_view_name": "LayoutView",
      "align_content": null,
      "align_items": null,
      "align_self": null,
      "border": null,
      "bottom": null,
      "display": null,
      "flex": null,
      "flex_flow": null,
      "grid_area": null,
      "grid_auto_columns": null,
      "grid_auto_flow": null,
      "grid_auto_rows": null,
      "grid_column": null,
      "grid_gap": null,
      "grid_row": null,
      "grid_template_areas": null,
      "grid_template_columns": null,
      "grid_template_rows": null,
      "height": null,
      "justify_content": null,
      "justify_items": null,
      "left": null,
      "margin": null,
      "max_height": null,
      "max_width": null,
      "min_height": null,
      "min_width": null,
      "object_fit": null,
      "object_position": null,
      "order": null,
      "overflow": null,
      "overflow_x": null,
      "overflow_y": null,
      "padding": null,
      "right": null,
      "top": null,
      "visibility": null,
      "width": null
     }
    },
    "94a5234dfc0d4998865d5e27e6456af7": {
     "model_module": "@jupyter-widgets/controls",
     "model_module_version": "1.5.0",
     "model_name": "DescriptionStyleModel",
     "state": {
      "_model_module": "@jupyter-widgets/controls",
      "_model_module_version": "1.5.0",
      "_model_name": "DescriptionStyleModel",
      "_view_count": null,
      "_view_module": "@jupyter-widgets/base",
      "_view_module_version": "1.2.0",
      "_view_name": "StyleView",
      "description_width": ""
     }
    },
    "959d37d1c1ad4caf9367c19fa9fc7eb3": {
     "model_module": "@jupyter-widgets/base",
     "model_module_version": "1.2.0",
     "model_name": "LayoutModel",
     "state": {
      "_model_module": "@jupyter-widgets/base",
      "_model_module_version": "1.2.0",
      "_model_name": "LayoutModel",
      "_view_count": null,
      "_view_module": "@jupyter-widgets/base",
      "_view_module_version": "1.2.0",
      "_view_name": "LayoutView",
      "align_content": null,
      "align_items": null,
      "align_self": null,
      "border": null,
      "bottom": null,
      "display": null,
      "flex": null,
      "flex_flow": null,
      "grid_area": null,
      "grid_auto_columns": null,
      "grid_auto_flow": null,
      "grid_auto_rows": null,
      "grid_column": null,
      "grid_gap": null,
      "grid_row": null,
      "grid_template_areas": null,
      "grid_template_columns": null,
      "grid_template_rows": null,
      "height": null,
      "justify_content": null,
      "justify_items": null,
      "left": null,
      "margin": null,
      "max_height": null,
      "max_width": null,
      "min_height": null,
      "min_width": null,
      "object_fit": null,
      "object_position": null,
      "order": null,
      "overflow": null,
      "overflow_x": null,
      "overflow_y": null,
      "padding": null,
      "right": null,
      "top": null,
      "visibility": null,
      "width": null
     }
    },
    "9761cda1bb014bc89d0410385aa3844c": {
     "model_module": "@jupyter-widgets/controls",
     "model_module_version": "1.5.0",
     "model_name": "HTMLModel",
     "state": {
      "_dom_classes": [],
      "_model_module": "@jupyter-widgets/controls",
      "_model_module_version": "1.5.0",
      "_model_name": "HTMLModel",
      "_view_count": null,
      "_view_module": "@jupyter-widgets/controls",
      "_view_module_version": "1.5.0",
      "_view_name": "HTMLView",
      "description": "",
      "description_tooltip": null,
      "layout": "IPY_MODEL_93184038c68e41f19a0c9356b29ff5ce",
      "placeholder": "​",
      "style": "IPY_MODEL_339ea2746a2b43b5a13c5bef4375c613",
      "value": "model.safetensors: 100%"
     }
    },
    "97c51e13be34444c905b04d87830a416": {
     "model_module": "@jupyter-widgets/controls",
     "model_module_version": "1.5.0",
     "model_name": "ProgressStyleModel",
     "state": {
      "_model_module": "@jupyter-widgets/controls",
      "_model_module_version": "1.5.0",
      "_model_name": "ProgressStyleModel",
      "_view_count": null,
      "_view_module": "@jupyter-widgets/base",
      "_view_module_version": "1.2.0",
      "_view_name": "StyleView",
      "bar_color": null,
      "description_width": ""
     }
    },
    "9f294c98046a43e1895b1b467bff1136": {
     "model_module": "@jupyter-widgets/controls",
     "model_module_version": "1.5.0",
     "model_name": "DescriptionStyleModel",
     "state": {
      "_model_module": "@jupyter-widgets/controls",
      "_model_module_version": "1.5.0",
      "_model_name": "DescriptionStyleModel",
      "_view_count": null,
      "_view_module": "@jupyter-widgets/base",
      "_view_module_version": "1.2.0",
      "_view_name": "StyleView",
      "description_width": ""
     }
    },
    "a24c7830e36142719e059bdddbbb6261": {
     "model_module": "@jupyter-widgets/base",
     "model_module_version": "1.2.0",
     "model_name": "LayoutModel",
     "state": {
      "_model_module": "@jupyter-widgets/base",
      "_model_module_version": "1.2.0",
      "_model_name": "LayoutModel",
      "_view_count": null,
      "_view_module": "@jupyter-widgets/base",
      "_view_module_version": "1.2.0",
      "_view_name": "LayoutView",
      "align_content": null,
      "align_items": null,
      "align_self": null,
      "border": null,
      "bottom": null,
      "display": null,
      "flex": null,
      "flex_flow": null,
      "grid_area": null,
      "grid_auto_columns": null,
      "grid_auto_flow": null,
      "grid_auto_rows": null,
      "grid_column": null,
      "grid_gap": null,
      "grid_row": null,
      "grid_template_areas": null,
      "grid_template_columns": null,
      "grid_template_rows": null,
      "height": null,
      "justify_content": null,
      "justify_items": null,
      "left": null,
      "margin": null,
      "max_height": null,
      "max_width": null,
      "min_height": null,
      "min_width": null,
      "object_fit": null,
      "object_position": null,
      "order": null,
      "overflow": null,
      "overflow_x": null,
      "overflow_y": null,
      "padding": null,
      "right": null,
      "top": null,
      "visibility": null,
      "width": null
     }
    },
    "a27c187588d7496e9f3d6a4ee966e55a": {
     "model_module": "@jupyter-widgets/controls",
     "model_module_version": "1.5.0",
     "model_name": "DescriptionStyleModel",
     "state": {
      "_model_module": "@jupyter-widgets/controls",
      "_model_module_version": "1.5.0",
      "_model_name": "DescriptionStyleModel",
      "_view_count": null,
      "_view_module": "@jupyter-widgets/base",
      "_view_module_version": "1.2.0",
      "_view_name": "StyleView",
      "description_width": ""
     }
    },
    "a2871ad0da34499e9ed2bf141501c2c7": {
     "model_module": "@jupyter-widgets/controls",
     "model_module_version": "1.5.0",
     "model_name": "HTMLModel",
     "state": {
      "_dom_classes": [],
      "_model_module": "@jupyter-widgets/controls",
      "_model_module_version": "1.5.0",
      "_model_name": "HTMLModel",
      "_view_count": null,
      "_view_module": "@jupyter-widgets/controls",
      "_view_module_version": "1.5.0",
      "_view_name": "HTMLView",
      "description": "",
      "description_tooltip": null,
      "layout": "IPY_MODEL_24208cdf90154abca05fc081432d10a7",
      "placeholder": "​",
      "style": "IPY_MODEL_60437dd466684910b0cf16f2d80cd1d9",
      "value": " 49.0/49.0 [00:00&lt;00:00, 989B/s]"
     }
    },
    "a92022754f494aa8a2b4f81c24dc9cba": {
     "model_module": "@jupyter-widgets/controls",
     "model_module_version": "1.5.0",
     "model_name": "DescriptionStyleModel",
     "state": {
      "_model_module": "@jupyter-widgets/controls",
      "_model_module_version": "1.5.0",
      "_model_name": "DescriptionStyleModel",
      "_view_count": null,
      "_view_module": "@jupyter-widgets/base",
      "_view_module_version": "1.2.0",
      "_view_name": "StyleView",
      "description_width": ""
     }
    },
    "b04adab3c5af4b108fc5a1d0b7f9fbe3": {
     "model_module": "@jupyter-widgets/base",
     "model_module_version": "1.2.0",
     "model_name": "LayoutModel",
     "state": {
      "_model_module": "@jupyter-widgets/base",
      "_model_module_version": "1.2.0",
      "_model_name": "LayoutModel",
      "_view_count": null,
      "_view_module": "@jupyter-widgets/base",
      "_view_module_version": "1.2.0",
      "_view_name": "LayoutView",
      "align_content": null,
      "align_items": null,
      "align_self": null,
      "border": null,
      "bottom": null,
      "display": null,
      "flex": null,
      "flex_flow": null,
      "grid_area": null,
      "grid_auto_columns": null,
      "grid_auto_flow": null,
      "grid_auto_rows": null,
      "grid_column": null,
      "grid_gap": null,
      "grid_row": null,
      "grid_template_areas": null,
      "grid_template_columns": null,
      "grid_template_rows": null,
      "height": null,
      "justify_content": null,
      "justify_items": null,
      "left": null,
      "margin": null,
      "max_height": null,
      "max_width": null,
      "min_height": null,
      "min_width": null,
      "object_fit": null,
      "object_position": null,
      "order": null,
      "overflow": null,
      "overflow_x": null,
      "overflow_y": null,
      "padding": null,
      "right": null,
      "top": null,
      "visibility": null,
      "width": null
     }
    },
    "b5862431e0e64106b52f4d91ec3b40b3": {
     "model_module": "@jupyter-widgets/controls",
     "model_module_version": "1.5.0",
     "model_name": "DescriptionStyleModel",
     "state": {
      "_model_module": "@jupyter-widgets/controls",
      "_model_module_version": "1.5.0",
      "_model_name": "DescriptionStyleModel",
      "_view_count": null,
      "_view_module": "@jupyter-widgets/base",
      "_view_module_version": "1.2.0",
      "_view_name": "StyleView",
      "description_width": ""
     }
    },
    "b7d086d4996942daaa6edeaa68cab75c": {
     "model_module": "@jupyter-widgets/controls",
     "model_module_version": "1.5.0",
     "model_name": "FloatProgressModel",
     "state": {
      "_dom_classes": [],
      "_model_module": "@jupyter-widgets/controls",
      "_model_module_version": "1.5.0",
      "_model_name": "FloatProgressModel",
      "_view_count": null,
      "_view_module": "@jupyter-widgets/controls",
      "_view_module_version": "1.5.0",
      "_view_name": "ProgressView",
      "bar_style": "success",
      "description": "",
      "description_tooltip": null,
      "layout": "IPY_MODEL_bba5a8a4901c4942a2def494e1e09a7e",
      "max": 1141,
      "min": 0,
      "orientation": "horizontal",
      "style": "IPY_MODEL_1392adefe5c446ad90ba84b1c0ce3da7",
      "value": 1141
     }
    },
    "b919b20864ef47359030cb9a1b97a12c": {
     "model_module": "@jupyter-widgets/base",
     "model_module_version": "1.2.0",
     "model_name": "LayoutModel",
     "state": {
      "_model_module": "@jupyter-widgets/base",
      "_model_module_version": "1.2.0",
      "_model_name": "LayoutModel",
      "_view_count": null,
      "_view_module": "@jupyter-widgets/base",
      "_view_module_version": "1.2.0",
      "_view_name": "LayoutView",
      "align_content": null,
      "align_items": null,
      "align_self": null,
      "border": null,
      "bottom": null,
      "display": null,
      "flex": null,
      "flex_flow": null,
      "grid_area": null,
      "grid_auto_columns": null,
      "grid_auto_flow": null,
      "grid_auto_rows": null,
      "grid_column": null,
      "grid_gap": null,
      "grid_row": null,
      "grid_template_areas": null,
      "grid_template_columns": null,
      "grid_template_rows": null,
      "height": null,
      "justify_content": null,
      "justify_items": null,
      "left": null,
      "margin": null,
      "max_height": null,
      "max_width": null,
      "min_height": null,
      "min_width": null,
      "object_fit": null,
      "object_position": null,
      "order": null,
      "overflow": null,
      "overflow_x": null,
      "overflow_y": null,
      "padding": null,
      "right": null,
      "top": null,
      "visibility": null,
      "width": null
     }
    },
    "b9c71c8a060b4bbb966c80ea7192d139": {
     "model_module": "@jupyter-widgets/controls",
     "model_module_version": "1.5.0",
     "model_name": "HTMLModel",
     "state": {
      "_dom_classes": [],
      "_model_module": "@jupyter-widgets/controls",
      "_model_module_version": "1.5.0",
      "_model_name": "HTMLModel",
      "_view_count": null,
      "_view_module": "@jupyter-widgets/controls",
      "_view_module_version": "1.5.0",
      "_view_name": "HTMLView",
      "description": "",
      "description_tooltip": null,
      "layout": "IPY_MODEL_be3190e4a00b484ebfc4dcdc98ab679c",
      "placeholder": "​",
      "style": "IPY_MODEL_94a5234dfc0d4998865d5e27e6456af7",
      "value": "config.json: 100%"
     }
    },
    "ba17e2110f9e4f269a3830c3797ed0e9": {
     "model_module": "@jupyter-widgets/controls",
     "model_module_version": "1.5.0",
     "model_name": "HTMLModel",
     "state": {
      "_dom_classes": [],
      "_model_module": "@jupyter-widgets/controls",
      "_model_module_version": "1.5.0",
      "_model_name": "HTMLModel",
      "_view_count": null,
      "_view_module": "@jupyter-widgets/controls",
      "_view_module_version": "1.5.0",
      "_view_name": "HTMLView",
      "description": "",
      "description_tooltip": null,
      "layout": "IPY_MODEL_29c58ad91e2541a985c0340c9c7164f4",
      "placeholder": "​",
      "style": "IPY_MODEL_dfd8791481464ced9e3c6848ec9c7000",
      "value": "model.safetensors: 100%"
     }
    },
    "bba5a8a4901c4942a2def494e1e09a7e": {
     "model_module": "@jupyter-widgets/base",
     "model_module_version": "1.2.0",
     "model_name": "LayoutModel",
     "state": {
      "_model_module": "@jupyter-widgets/base",
      "_model_module_version": "1.2.0",
      "_model_name": "LayoutModel",
      "_view_count": null,
      "_view_module": "@jupyter-widgets/base",
      "_view_module_version": "1.2.0",
      "_view_name": "LayoutView",
      "align_content": null,
      "align_items": null,
      "align_self": null,
      "border": null,
      "bottom": null,
      "display": null,
      "flex": null,
      "flex_flow": null,
      "grid_area": null,
      "grid_auto_columns": null,
      "grid_auto_flow": null,
      "grid_auto_rows": null,
      "grid_column": null,
      "grid_gap": null,
      "grid_row": null,
      "grid_template_areas": null,
      "grid_template_columns": null,
      "grid_template_rows": null,
      "height": null,
      "justify_content": null,
      "justify_items": null,
      "left": null,
      "margin": null,
      "max_height": null,
      "max_width": null,
      "min_height": null,
      "min_width": null,
      "object_fit": null,
      "object_position": null,
      "order": null,
      "overflow": null,
      "overflow_x": null,
      "overflow_y": null,
      "padding": null,
      "right": null,
      "top": null,
      "visibility": null,
      "width": null
     }
    },
    "bc75f66a8c5c4df089da0a78ac18a5fd": {
     "model_module": "@jupyter-widgets/controls",
     "model_module_version": "1.5.0",
     "model_name": "ProgressStyleModel",
     "state": {
      "_model_module": "@jupyter-widgets/controls",
      "_model_module_version": "1.5.0",
      "_model_name": "ProgressStyleModel",
      "_view_count": null,
      "_view_module": "@jupyter-widgets/base",
      "_view_module_version": "1.2.0",
      "_view_name": "StyleView",
      "bar_color": null,
      "description_width": ""
     }
    },
    "bd240b52c6df4f49a771218ab3dade0d": {
     "model_module": "@jupyter-widgets/controls",
     "model_module_version": "1.5.0",
     "model_name": "DescriptionStyleModel",
     "state": {
      "_model_module": "@jupyter-widgets/controls",
      "_model_module_version": "1.5.0",
      "_model_name": "DescriptionStyleModel",
      "_view_count": null,
      "_view_module": "@jupyter-widgets/base",
      "_view_module_version": "1.2.0",
      "_view_name": "StyleView",
      "description_width": ""
     }
    },
    "be10cb2dce28443784f794392000e1c2": {
     "model_module": "@jupyter-widgets/controls",
     "model_module_version": "1.5.0",
     "model_name": "FloatProgressModel",
     "state": {
      "_dom_classes": [],
      "_model_module": "@jupyter-widgets/controls",
      "_model_module_version": "1.5.0",
      "_model_name": "FloatProgressModel",
      "_view_count": null,
      "_view_module": "@jupyter-widgets/controls",
      "_view_module_version": "1.5.0",
      "_view_name": "ProgressView",
      "bar_style": "success",
      "description": "",
      "description_tooltip": null,
      "layout": "IPY_MODEL_720d185a22c44cbb9206ac902f720939",
      "max": 625,
      "min": 0,
      "orientation": "horizontal",
      "style": "IPY_MODEL_d55784d5ba384b7697b18d41b44b9f92",
      "value": 625
     }
    },
    "be3190e4a00b484ebfc4dcdc98ab679c": {
     "model_module": "@jupyter-widgets/base",
     "model_module_version": "1.2.0",
     "model_name": "LayoutModel",
     "state": {
      "_model_module": "@jupyter-widgets/base",
      "_model_module_version": "1.2.0",
      "_model_name": "LayoutModel",
      "_view_count": null,
      "_view_module": "@jupyter-widgets/base",
      "_view_module_version": "1.2.0",
      "_view_name": "LayoutView",
      "align_content": null,
      "align_items": null,
      "align_self": null,
      "border": null,
      "bottom": null,
      "display": null,
      "flex": null,
      "flex_flow": null,
      "grid_area": null,
      "grid_auto_columns": null,
      "grid_auto_flow": null,
      "grid_auto_rows": null,
      "grid_column": null,
      "grid_gap": null,
      "grid_row": null,
      "grid_template_areas": null,
      "grid_template_columns": null,
      "grid_template_rows": null,
      "height": null,
      "justify_content": null,
      "justify_items": null,
      "left": null,
      "margin": null,
      "max_height": null,
      "max_width": null,
      "min_height": null,
      "min_width": null,
      "object_fit": null,
      "object_position": null,
      "order": null,
      "overflow": null,
      "overflow_x": null,
      "overflow_y": null,
      "padding": null,
      "right": null,
      "top": null,
      "visibility": null,
      "width": null
     }
    },
    "c3097438971e49498f1a8ceab4ad8482": {
     "model_module": "@jupyter-widgets/base",
     "model_module_version": "1.2.0",
     "model_name": "LayoutModel",
     "state": {
      "_model_module": "@jupyter-widgets/base",
      "_model_module_version": "1.2.0",
      "_model_name": "LayoutModel",
      "_view_count": null,
      "_view_module": "@jupyter-widgets/base",
      "_view_module_version": "1.2.0",
      "_view_name": "LayoutView",
      "align_content": null,
      "align_items": null,
      "align_self": null,
      "border": null,
      "bottom": null,
      "display": null,
      "flex": null,
      "flex_flow": null,
      "grid_area": null,
      "grid_auto_columns": null,
      "grid_auto_flow": null,
      "grid_auto_rows": null,
      "grid_column": null,
      "grid_gap": null,
      "grid_row": null,
      "grid_template_areas": null,
      "grid_template_columns": null,
      "grid_template_rows": null,
      "height": null,
      "justify_content": null,
      "justify_items": null,
      "left": null,
      "margin": null,
      "max_height": null,
      "max_width": null,
      "min_height": null,
      "min_width": null,
      "object_fit": null,
      "object_position": null,
      "order": null,
      "overflow": null,
      "overflow_x": null,
      "overflow_y": null,
      "padding": null,
      "right": null,
      "top": null,
      "visibility": null,
      "width": null
     }
    },
    "c42c4e92edf0441ea3373420b11ec5e1": {
     "model_module": "@jupyter-widgets/base",
     "model_module_version": "1.2.0",
     "model_name": "LayoutModel",
     "state": {
      "_model_module": "@jupyter-widgets/base",
      "_model_module_version": "1.2.0",
      "_model_name": "LayoutModel",
      "_view_count": null,
      "_view_module": "@jupyter-widgets/base",
      "_view_module_version": "1.2.0",
      "_view_name": "LayoutView",
      "align_content": null,
      "align_items": null,
      "align_self": null,
      "border": null,
      "bottom": null,
      "display": null,
      "flex": null,
      "flex_flow": null,
      "grid_area": null,
      "grid_auto_columns": null,
      "grid_auto_flow": null,
      "grid_auto_rows": null,
      "grid_column": null,
      "grid_gap": null,
      "grid_row": null,
      "grid_template_areas": null,
      "grid_template_columns": null,
      "grid_template_rows": null,
      "height": null,
      "justify_content": null,
      "justify_items": null,
      "left": null,
      "margin": null,
      "max_height": null,
      "max_width": null,
      "min_height": null,
      "min_width": null,
      "object_fit": null,
      "object_position": null,
      "order": null,
      "overflow": null,
      "overflow_x": null,
      "overflow_y": null,
      "padding": null,
      "right": null,
      "top": null,
      "visibility": null,
      "width": null
     }
    },
    "c96546e918d94005b202fb20d71cd7e7": {
     "model_module": "@jupyter-widgets/controls",
     "model_module_version": "1.5.0",
     "model_name": "HTMLModel",
     "state": {
      "_dom_classes": [],
      "_model_module": "@jupyter-widgets/controls",
      "_model_module_version": "1.5.0",
      "_model_name": "HTMLModel",
      "_view_count": null,
      "_view_module": "@jupyter-widgets/controls",
      "_view_module_version": "1.5.0",
      "_view_name": "HTMLView",
      "description": "",
      "description_tooltip": null,
      "layout": "IPY_MODEL_0f18e1f82877403d83cd11b1a666f029",
      "placeholder": "​",
      "style": "IPY_MODEL_7d3ccf739be342d59a68564fc894d5a7",
      "value": " 714M/714M [00:12&lt;00:00, 57.0MB/s]"
     }
    },
    "caf8adbef5864bd591d28c9dfcb9f2bc": {
     "model_module": "@jupyter-widgets/controls",
     "model_module_version": "1.5.0",
     "model_name": "DescriptionStyleModel",
     "state": {
      "_model_module": "@jupyter-widgets/controls",
      "_model_module_version": "1.5.0",
      "_model_name": "DescriptionStyleModel",
      "_view_count": null,
      "_view_module": "@jupyter-widgets/base",
      "_view_module_version": "1.2.0",
      "_view_name": "StyleView",
      "description_width": ""
     }
    },
    "ce48fce8d1ce4057bf6da37c89128998": {
     "model_module": "@jupyter-widgets/base",
     "model_module_version": "1.2.0",
     "model_name": "LayoutModel",
     "state": {
      "_model_module": "@jupyter-widgets/base",
      "_model_module_version": "1.2.0",
      "_model_name": "LayoutModel",
      "_view_count": null,
      "_view_module": "@jupyter-widgets/base",
      "_view_module_version": "1.2.0",
      "_view_name": "LayoutView",
      "align_content": null,
      "align_items": null,
      "align_self": null,
      "border": null,
      "bottom": null,
      "display": null,
      "flex": null,
      "flex_flow": null,
      "grid_area": null,
      "grid_auto_columns": null,
      "grid_auto_flow": null,
      "grid_auto_rows": null,
      "grid_column": null,
      "grid_gap": null,
      "grid_row": null,
      "grid_template_areas": null,
      "grid_template_columns": null,
      "grid_template_rows": null,
      "height": null,
      "justify_content": null,
      "justify_items": null,
      "left": null,
      "margin": null,
      "max_height": null,
      "max_width": null,
      "min_height": null,
      "min_width": null,
      "object_fit": null,
      "object_position": null,
      "order": null,
      "overflow": null,
      "overflow_x": null,
      "overflow_y": null,
      "padding": null,
      "right": null,
      "top": null,
      "visibility": null,
      "width": null
     }
    },
    "ceff5dffc26f4952b344d8d81f95f709": {
     "model_module": "@jupyter-widgets/controls",
     "model_module_version": "1.5.0",
     "model_name": "FloatProgressModel",
     "state": {
      "_dom_classes": [],
      "_model_module": "@jupyter-widgets/controls",
      "_model_module_version": "1.5.0",
      "_model_name": "FloatProgressModel",
      "_view_count": null,
      "_view_module": "@jupyter-widgets/controls",
      "_view_module_version": "1.5.0",
      "_view_name": "ProgressView",
      "bar_style": "success",
      "description": "",
      "description_tooltip": null,
      "layout": "IPY_MODEL_4f4a06a96504479db9b169b784395f31",
      "max": 1961828,
      "min": 0,
      "orientation": "horizontal",
      "style": "IPY_MODEL_489b09b2ed974d988635ca38c8f7a5f4",
      "value": 1961828
     }
    },
    "d04f757d72264dc189eee202a24d521b": {
     "model_module": "@jupyter-widgets/controls",
     "model_module_version": "1.5.0",
     "model_name": "DescriptionStyleModel",
     "state": {
      "_model_module": "@jupyter-widgets/controls",
      "_model_module_version": "1.5.0",
      "_model_name": "DescriptionStyleModel",
      "_view_count": null,
      "_view_module": "@jupyter-widgets/base",
      "_view_module_version": "1.2.0",
      "_view_name": "StyleView",
      "description_width": ""
     }
    },
    "d23f154058ac45eaac4cbf6b4e86b71c": {
     "model_module": "@jupyter-widgets/controls",
     "model_module_version": "1.5.0",
     "model_name": "HTMLModel",
     "state": {
      "_dom_classes": [],
      "_model_module": "@jupyter-widgets/controls",
      "_model_module_version": "1.5.0",
      "_model_name": "HTMLModel",
      "_view_count": null,
      "_view_module": "@jupyter-widgets/controls",
      "_view_module_version": "1.5.0",
      "_view_name": "HTMLView",
      "description": "",
      "description_tooltip": null,
      "layout": "IPY_MODEL_92c4deb477fd4f5dba001ef1ad8eb6de",
      "placeholder": "​",
      "style": "IPY_MODEL_90fd622c3b2c48af996eec5f0b8315b9",
      "value": " 1141/1141 [00:01&lt;00:00, 716.18 examples/s]"
     }
    },
    "d55784d5ba384b7697b18d41b44b9f92": {
     "model_module": "@jupyter-widgets/controls",
     "model_module_version": "1.5.0",
     "model_name": "ProgressStyleModel",
     "state": {
      "_model_module": "@jupyter-widgets/controls",
      "_model_module_version": "1.5.0",
      "_model_name": "ProgressStyleModel",
      "_view_count": null,
      "_view_module": "@jupyter-widgets/base",
      "_view_module_version": "1.2.0",
      "_view_name": "StyleView",
      "bar_color": null,
      "description_width": ""
     }
    },
    "de395d477d514d3ba613a7a925e53cca": {
     "model_module": "@jupyter-widgets/controls",
     "model_module_version": "1.5.0",
     "model_name": "HTMLModel",
     "state": {
      "_dom_classes": [],
      "_model_module": "@jupyter-widgets/controls",
      "_model_module_version": "1.5.0",
      "_model_name": "HTMLModel",
      "_view_count": null,
      "_view_module": "@jupyter-widgets/controls",
      "_view_module_version": "1.5.0",
      "_view_name": "HTMLView",
      "description": "",
      "description_tooltip": null,
      "layout": "IPY_MODEL_c42c4e92edf0441ea3373420b11ec5e1",
      "placeholder": "​",
      "style": "IPY_MODEL_bd240b52c6df4f49a771218ab3dade0d",
      "value": " 1.96M/1.96M [00:00&lt;00:00, 25.7MB/s]"
     }
    },
    "dea02536ee2e42a7a6c66dfec126ea28": {
     "model_module": "@jupyter-widgets/controls",
     "model_module_version": "1.5.0",
     "model_name": "HBoxModel",
     "state": {
      "_dom_classes": [],
      "_model_module": "@jupyter-widgets/controls",
      "_model_module_version": "1.5.0",
      "_model_name": "HBoxModel",
      "_view_count": null,
      "_view_module": "@jupyter-widgets/controls",
      "_view_module_version": "1.5.0",
      "_view_name": "HBoxView",
      "box_style": "",
      "children": [
       "IPY_MODEL_ea20477e8eb641fa96afd53bd5429f06",
       "IPY_MODEL_e2c3bf4792224abf87ae9fda6037863f",
       "IPY_MODEL_350f27e46a1c44be94d7da8c3f7ee22c"
      ],
      "layout": "IPY_MODEL_3970a0087b304fe79c735b6af7229161"
     }
    },
    "dfd8791481464ced9e3c6848ec9c7000": {
     "model_module": "@jupyter-widgets/controls",
     "model_module_version": "1.5.0",
     "model_name": "DescriptionStyleModel",
     "state": {
      "_model_module": "@jupyter-widgets/controls",
      "_model_module_version": "1.5.0",
      "_model_name": "DescriptionStyleModel",
      "_view_count": null,
      "_view_module": "@jupyter-widgets/base",
      "_view_module_version": "1.2.0",
      "_view_name": "StyleView",
      "description_width": ""
     }
    },
    "e15d91998e724ccdbf0661a6ee8231d3": {
     "model_module": "@jupyter-widgets/controls",
     "model_module_version": "1.5.0",
     "model_name": "ProgressStyleModel",
     "state": {
      "_model_module": "@jupyter-widgets/controls",
      "_model_module_version": "1.5.0",
      "_model_name": "ProgressStyleModel",
      "_view_count": null,
      "_view_module": "@jupyter-widgets/base",
      "_view_module_version": "1.2.0",
      "_view_name": "StyleView",
      "bar_color": null,
      "description_width": ""
     }
    },
    "e18d1e815df24ef0b8e47e3722e45e09": {
     "model_module": "@jupyter-widgets/controls",
     "model_module_version": "1.5.0",
     "model_name": "DescriptionStyleModel",
     "state": {
      "_model_module": "@jupyter-widgets/controls",
      "_model_module_version": "1.5.0",
      "_model_name": "DescriptionStyleModel",
      "_view_count": null,
      "_view_module": "@jupyter-widgets/base",
      "_view_module_version": "1.2.0",
      "_view_name": "StyleView",
      "description_width": ""
     }
    },
    "e2c3bf4792224abf87ae9fda6037863f": {
     "model_module": "@jupyter-widgets/controls",
     "model_module_version": "1.5.0",
     "model_name": "FloatProgressModel",
     "state": {
      "_dom_classes": [],
      "_model_module": "@jupyter-widgets/controls",
      "_model_module_version": "1.5.0",
      "_model_name": "FloatProgressModel",
      "_view_count": null,
      "_view_module": "@jupyter-widgets/controls",
      "_view_module_version": "1.5.0",
      "_view_name": "ProgressView",
      "bar_style": "success",
      "description": "",
      "description_tooltip": null,
      "layout": "IPY_MODEL_00342bba924745e099e24e1eec8620d0",
      "max": 995526,
      "min": 0,
      "orientation": "horizontal",
      "style": "IPY_MODEL_6859cd20fa9c44378cb9dfdd9facc312",
      "value": 995526
     }
    },
    "e71112bdd64b483f87318c5b0ccdf7fb": {
     "model_module": "@jupyter-widgets/base",
     "model_module_version": "1.2.0",
     "model_name": "LayoutModel",
     "state": {
      "_model_module": "@jupyter-widgets/base",
      "_model_module_version": "1.2.0",
      "_model_name": "LayoutModel",
      "_view_count": null,
      "_view_module": "@jupyter-widgets/base",
      "_view_module_version": "1.2.0",
      "_view_name": "LayoutView",
      "align_content": null,
      "align_items": null,
      "align_self": null,
      "border": null,
      "bottom": null,
      "display": null,
      "flex": null,
      "flex_flow": null,
      "grid_area": null,
      "grid_auto_columns": null,
      "grid_auto_flow": null,
      "grid_auto_rows": null,
      "grid_column": null,
      "grid_gap": null,
      "grid_row": null,
      "grid_template_areas": null,
      "grid_template_columns": null,
      "grid_template_rows": null,
      "height": null,
      "justify_content": null,
      "justify_items": null,
      "left": null,
      "margin": null,
      "max_height": null,
      "max_width": null,
      "min_height": null,
      "min_width": null,
      "object_fit": null,
      "object_position": null,
      "order": null,
      "overflow": null,
      "overflow_x": null,
      "overflow_y": null,
      "padding": null,
      "right": null,
      "top": null,
      "visibility": null,
      "width": null
     }
    },
    "ea20477e8eb641fa96afd53bd5429f06": {
     "model_module": "@jupyter-widgets/controls",
     "model_module_version": "1.5.0",
     "model_name": "HTMLModel",
     "state": {
      "_dom_classes": [],
      "_model_module": "@jupyter-widgets/controls",
      "_model_module_version": "1.5.0",
      "_model_name": "HTMLModel",
      "_view_count": null,
      "_view_module": "@jupyter-widgets/controls",
      "_view_module_version": "1.5.0",
      "_view_name": "HTMLView",
      "description": "",
      "description_tooltip": null,
      "layout": "IPY_MODEL_ec17664b6c9046c98417bc2e5f644ea4",
      "placeholder": "​",
      "style": "IPY_MODEL_536f534b1ebe4aaf9e6146b1e9fadd64",
      "value": "vocab.txt: 100%"
     }
    },
    "ea4b373bca2746e2b7158b738502770a": {
     "model_module": "@jupyter-widgets/base",
     "model_module_version": "1.2.0",
     "model_name": "LayoutModel",
     "state": {
      "_model_module": "@jupyter-widgets/base",
      "_model_module_version": "1.2.0",
      "_model_name": "LayoutModel",
      "_view_count": null,
      "_view_module": "@jupyter-widgets/base",
      "_view_module_version": "1.2.0",
      "_view_name": "LayoutView",
      "align_content": null,
      "align_items": null,
      "align_self": null,
      "border": null,
      "bottom": null,
      "display": null,
      "flex": null,
      "flex_flow": null,
      "grid_area": null,
      "grid_auto_columns": null,
      "grid_auto_flow": null,
      "grid_auto_rows": null,
      "grid_column": null,
      "grid_gap": null,
      "grid_row": null,
      "grid_template_areas": null,
      "grid_template_columns": null,
      "grid_template_rows": null,
      "height": null,
      "justify_content": null,
      "justify_items": null,
      "left": null,
      "margin": null,
      "max_height": null,
      "max_width": null,
      "min_height": null,
      "min_width": null,
      "object_fit": null,
      "object_position": null,
      "order": null,
      "overflow": null,
      "overflow_x": null,
      "overflow_y": null,
      "padding": null,
      "right": null,
      "top": null,
      "visibility": null,
      "width": null
     }
    },
    "ec17664b6c9046c98417bc2e5f644ea4": {
     "model_module": "@jupyter-widgets/base",
     "model_module_version": "1.2.0",
     "model_name": "LayoutModel",
     "state": {
      "_model_module": "@jupyter-widgets/base",
      "_model_module_version": "1.2.0",
      "_model_name": "LayoutModel",
      "_view_count": null,
      "_view_module": "@jupyter-widgets/base",
      "_view_module_version": "1.2.0",
      "_view_name": "LayoutView",
      "align_content": null,
      "align_items": null,
      "align_self": null,
      "border": null,
      "bottom": null,
      "display": null,
      "flex": null,
      "flex_flow": null,
      "grid_area": null,
      "grid_auto_columns": null,
      "grid_auto_flow": null,
      "grid_auto_rows": null,
      "grid_column": null,
      "grid_gap": null,
      "grid_row": null,
      "grid_template_areas": null,
      "grid_template_columns": null,
      "grid_template_rows": null,
      "height": null,
      "justify_content": null,
      "justify_items": null,
      "left": null,
      "margin": null,
      "max_height": null,
      "max_width": null,
      "min_height": null,
      "min_width": null,
      "object_fit": null,
      "object_position": null,
      "order": null,
      "overflow": null,
      "overflow_x": null,
      "overflow_y": null,
      "padding": null,
      "right": null,
      "top": null,
      "visibility": null,
      "width": null
     }
    },
    "fe73394821454caf8687e8ada0ca6a05": {
     "model_module": "@jupyter-widgets/controls",
     "model_module_version": "1.5.0",
     "model_name": "HTMLModel",
     "state": {
      "_dom_classes": [],
      "_model_module": "@jupyter-widgets/controls",
      "_model_module_version": "1.5.0",
      "_model_name": "HTMLModel",
      "_view_count": null,
      "_view_module": "@jupyter-widgets/controls",
      "_view_module_version": "1.5.0",
      "_view_name": "HTMLView",
      "description": "",
      "description_tooltip": null,
      "layout": "IPY_MODEL_ce48fce8d1ce4057bf6da37c89128998",
      "placeholder": "​",
      "style": "IPY_MODEL_47c4df7367c74c78936eeb0f34b530eb",
      "value": "tokenizer.json: 100%"
     }
    },
    "feeb172c0950472aaafed5cefb5bec4f": {
     "model_module": "@jupyter-widgets/base",
     "model_module_version": "1.2.0",
     "model_name": "LayoutModel",
     "state": {
      "_model_module": "@jupyter-widgets/base",
      "_model_module_version": "1.2.0",
      "_model_name": "LayoutModel",
      "_view_count": null,
      "_view_module": "@jupyter-widgets/base",
      "_view_module_version": "1.2.0",
      "_view_name": "LayoutView",
      "align_content": null,
      "align_items": null,
      "align_self": null,
      "border": null,
      "bottom": null,
      "display": null,
      "flex": null,
      "flex_flow": null,
      "grid_area": null,
      "grid_auto_columns": null,
      "grid_auto_flow": null,
      "grid_auto_rows": null,
      "grid_column": null,
      "grid_gap": null,
      "grid_row": null,
      "grid_template_areas": null,
      "grid_template_columns": null,
      "grid_template_rows": null,
      "height": null,
      "justify_content": null,
      "justify_items": null,
      "left": null,
      "margin": null,
      "max_height": null,
      "max_width": null,
      "min_height": null,
      "min_width": null,
      "object_fit": null,
      "object_position": null,
      "order": null,
      "overflow": null,
      "overflow_x": null,
      "overflow_y": null,
      "padding": null,
      "right": null,
      "top": null,
      "visibility": null,
      "width": null
     }
    }
   }
  }
 },
 "nbformat": 4,
 "nbformat_minor": 0
}
