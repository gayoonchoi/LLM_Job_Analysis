{
 "cells": [
  {
   "cell_type": "code",
   "execution_count": 207,
   "metadata": {},
   "outputs": [],
   "source": [
    "from selenium import webdriver\n",
    "from selenium.webdriver.chrome.service import Service\n",
    "from selenium.webdriver.common.by import By\n",
    "import time\n",
    "from selenium.webdriver.support.ui import WebDriverWait\n",
    "from selenium.webdriver.chrome.options import Options\n",
    "from selenium.webdriver.support import expected_conditions as ec\n",
    "from selenium.webdriver.common.keys import Keys\n",
    "from bs4 import BeautifulSoup\n",
    "import pandas as pd\n",
    "import re\n",
    "import datetime\n",
    "import urllib.request\n",
    "import urllib\n",
    "import requests\n",
    "import json"
   ]
  },
  {
   "cell_type": "markdown",
   "metadata": {},
   "source": [
    "# url 리스트로 저장"
   ]
  },
  {
   "cell_type": "code",
   "execution_count": 279,
   "metadata": {},
   "outputs": [
    {
     "name": "stdout",
     "output_type": "stream",
     "text": [
      "종료\n"
     ]
    }
   ],
   "source": [
    "headers = {'User-Agent': 'Mozilla/5.0'}\n",
    "\n",
    "# 초기 세팅\n",
    "url_list = []\n",
    "wurl_list = []\n",
    "i=1\n",
    "previous_response = None\n",
    "\n",
    "while True:\n",
    "    # url 불러오기\n",
    "    url = f'https://career.programmers.co.kr/api/job_positions?order=recent&page={i}&job_category_ids[]=1&job_category_ids[]=4&job_category_ids[]=25&job_category_ids[]=2&job_category_ids[]=3&job_category_ids[]=5&job_category_ids[]=11&job_category_ids[]=12&job_category_ids[]=92&job_category_ids[]=7&job_category_ids[]=16&job_category_ids[]=20&job_category_ids[]=9&job_category_ids[]=18&job_category_ids[]=59&job_category_ids[]=22&job_category_ids[]=26&job_category_ids[]=27&job_category_ids[]=10&job_category_ids[]=13&job_category_ids[]=17&job_category_ids[]=6&job_category_ids[]=125&job_category_ids[]=126&job_category_ids[]=127&job_category_ids[]=128&job_category_ids[]=129&job_category_ids[]=130&job_category_ids[]=158'\n",
    "\n",
    "    res = requests.get(url,headers= headers)\n",
    "    res_list = json.loads(res.text)\n",
    "\n",
    "    # 이전 응답과 비교하여 정지 같으면 정지\n",
    "    if res_list == previous_response:\n",
    "        print(\"종료\")\n",
    "        break\n",
    "\n",
    "    # 현재 응답을 이전 응답으로 저장\n",
    "    previous_response = res_list\n",
    "\n",
    "    for j in range(len(res_list['jobPositions'])):\n",
    "        url_list.append('https://career.programmers.co.kr/'+res_list['jobPositions'][j]['url'])\n",
    "\n",
    "    for w in range(len(res_list['wantedJobPositions'])):\n",
    "        wurl_list.append(f\"https://www.wanted.co.kr/wd/{res_list['wantedJobPositions'][w]['id']}?client_id=o673kBbqnYF6QVD4jKyTKhRP\")\n",
    "\n",
    "    i += 1"
   ]
  },
  {
   "cell_type": "code",
   "execution_count": 280,
   "metadata": {},
   "outputs": [
    {
     "data": {
      "text/plain": [
       "(736, 176)"
      ]
     },
     "execution_count": 280,
     "metadata": {},
     "output_type": "execute_result"
    }
   ],
   "source": [
    "len(url_list), len(wurl_list)"
   ]
  },
  {
   "cell_type": "markdown",
   "metadata": {},
   "source": [
    "# 채용 공고 데이터 프레임에 저장"
   ]
  },
  {
   "cell_type": "code",
   "execution_count": null,
   "metadata": {},
   "outputs": [],
   "source": [
    "# 프로그래머스 공고 크롤링\n",
    "job_data = []\n",
    "\n",
    "for i in range(len(url_list)):\n",
    "    id = re.findall(r'\\d+',url_list[i])\n",
    "    if len(id) > 1:\n",
    "        print(\"에러\", id)\n",
    "        break\n",
    "\n",
    "    url = f'https://career.programmers.co.kr/api/job_positions/{id[0]}'\n",
    "    res = requests.get(url,headers= headers)\n",
    "    job_json = json.loads(res.text)\n",
    "    job_data.append(job_json)\n",
    "\n",
    "# 데이터 프레임으로 변환\n",
    "df = pd.json_normalize(job_data)\n",
    "\n",
    "\n",
    "# df 저장\n",
    "# df.to_csv('job_positions.csv', index=False, encoding = 'cp949')\n",
    "df.to_csv('job_positions.csv', index=False, encoding='utf-8-sig')\n",
    "\n",
    "df.info\n",
    "\n"
   ]
  },
  {
   "cell_type": "code",
   "execution_count": null,
   "metadata": {},
   "outputs": [],
   "source": [
    "# 원티드 공고 크롤링\n",
    "wjob_data = []\n",
    "\n",
    "for i in range(len(wurl_list)):\n",
    "    wid = re.findall(r'\\d+',wurl_list[i])\n",
    "\n",
    "    url = f'https://www.wanted.co.kr/api/chaos/jobs/v3/{wid[0]}/details?1736076088092='\n",
    "    res = requests.get(url,headers= headers)\n",
    "    wjob_json = json.loads(res.text)\n",
    "    wjob_data.append(wjob_json)\n",
    "\n",
    "# 데이터 프레임으로 변환\n",
    "wdf = pd.json_normalize(wjob_data)\n",
    "\n",
    "\n",
    "# wdf 저장\n",
    "# wdf.to_csv('job_positions.csv', index=False, encoding = 'cp949')\n",
    "wdf.to_csv('wjob_positions.csv', index=False, encoding='utf-8-sig')\n",
    "\n",
    "wdf.info\n"
   ]
  }
 ],
 "metadata": {
  "kernelspec": {
   "display_name": "asia",
   "language": "python",
   "name": "python3"
  },
  "language_info": {
   "codemirror_mode": {
    "name": "ipython",
    "version": 3
   },
   "file_extension": ".py",
   "mimetype": "text/x-python",
   "name": "python",
   "nbconvert_exporter": "python",
   "pygments_lexer": "ipython3",
   "version": "3.12.8"
  }
 },
 "nbformat": 4,
 "nbformat_minor": 2
}
