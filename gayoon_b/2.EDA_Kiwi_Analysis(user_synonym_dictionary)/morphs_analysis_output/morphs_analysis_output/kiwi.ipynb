{
 "cells": [
  {
   "cell_type": "code",
   "execution_count": null,
   "metadata": {},
   "outputs": [],
   "source": [
    "import pandas as pd\n",
    "from kiwipiepy import Kiwi\n",
    "\n",
    "merged_df = pd.read_csv('/content/drive/MyDrive/asia/merged_df.csv')\n",
    "\n",
    "# 'description'과 'requirement' 열 합치기 및 문자열로 변환\n",
    "merged_df['combined_text'] = merged_df[['description', 'requirement']].fillna('').astype(str).agg(' '.join, axis=1)\n",
    "\n",
    "# 'preferredExperience' 열 추출\n",
    "merged_df['preferredExperience'] = merged_df['preferredExperience'].fillna('')\n",
    "\n",
    "# Kiwi 초기화\n",
    "kiwi = Kiwi(typos='basic_with_continual_and_lengthening')\n",
    "\n",
    "# 불용어 설정\n",
    "stop_words = kiwi.utils.Stopwords()\n",
    "\n",
    "#  분석 결과에 등장하면 안되는 형태소 목록을 지정\n",
    "# blocklist = ['고마움/NNG], stopwords.add\n",
    "\n",
    "# kiwi.add_user_word('대학생 선교회', 'NNP'), kiwi.add_user_word('C++', 'NNP')\n",
    "\n",
    "# split_complex 더 잘게 분할 가능한 형태소들을 최대한 분할 ex)'고마움(고맙 + 음)'과 같은 파생 명사, '건강히(건강 + 히)'와 같은 파생 부사, '반짝거리다(반짝 + 거리다)', '걸어다니다(걸어 + 다니다)'\n",
    "\n",
    "# 형태소 분석 함수\n",
    "def analyze_text(text):\n",
    "    if not isinstance(text, str):\n",
    "        return []\n",
    "    morphemes_kiwi = kiwi.tokenize(text, normalize_coda=True, stopwords=stop_words, split_complex=True)\n",
    "    return [morph for morph, pos, _, _ in morphemes_kiwi if pos.startswith('N')]\n",
    "\n",
    "def analyze_text_all(text):\n",
    "    if not isinstance(text, str):\n",
    "        return []\n",
    "    morphemes_kiwi = kiwi.tokenize(text, normalize_coda=True, stopwords=stop_words, split_complex=True)\n",
    "    return [(morph, pos) for morph, pos, _, _ in morphemes_kiwi]\n",
    "\n",
    "# 형태소 분석 적용\n",
    "merged_df['combined_text_analyzed'] = merged_df['combined_text'].apply(analyze_text)\n",
    "merged_df['preferredExperience_analyzed'] = merged_df['preferredExperience'].apply(analyze_text)\n",
    "\n",
    "merged_df['combined_text_analyzed_all'] = merged_df['combined_text'].apply(analyze_text_all)\n",
    "merged_df['preferredExperience_analyzed_all'] = merged_df['preferredExperience'].apply(analyze_text_all)\n",
    "\n",
    "# 결과를 새로운 CSV 파일에 저장\n",
    "merged_df[['id', 'description', 'requirement', 'preferredExperience', 'combined_text_analyzed', 'combined_text_analyzed_all', 'preferredExperience_analyzed', 'preferredExperience_analyzed_all']].to_csv('analyzed_job_data.csv', index=False, encoding = 'utf-8-sig')\n"
   ]
  }
 ],
 "metadata": {
  "language_info": {
   "name": "python"
  }
 },
 "nbformat": 4,
 "nbformat_minor": 2
}
