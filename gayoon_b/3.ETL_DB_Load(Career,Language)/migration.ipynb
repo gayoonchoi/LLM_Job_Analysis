{
 "cells": [
  {
   "cell_type": "code",
   "execution_count": null,
   "metadata": {},
   "outputs": [],
   "source": [
    "# 경력 프롬프트 내용을 asia(2-1).db에 적재 \n",
    "# 깃허브에 asia.db로 마이그레이션하기 "
   ]
  },
  {
   "cell_type": "code",
   "execution_count": 4,
   "metadata": {},
   "outputs": [
    {
     "name": "stdout",
     "output_type": "stream",
     "text": [
      "✅ 16개의 직무(career) 데이터가 성공적으로 마이그레이션되었습니다. (career 변경 내용 반영영)\n"
     ]
    }
   ],
   "source": [
    "import sqlite3\n",
    "\n",
    "# ✅ 원본 DB (career 데이터가 저장된 DB) 연결\n",
    "source_db_path = r\"C:\\Users\\asia\\Desktop\\asia_camp_2024\\final_project_asia\\3.ETL_DB_Load(Career,Language)\\asia (2-2).db\"\n",
    "source_conn = sqlite3.connect(source_db_path)\n",
    "source_cursor = source_conn.cursor()\n",
    "\n",
    "# ✅ 대상 DB (업데이트할 DB) 연결\n",
    "target_db_path = r\"C:\\Users\\asia\\Desktop\\asia_camp_2024\\web1\\app\\database\\asia.db\"\n",
    "target_conn = sqlite3.connect(target_db_path)\n",
    "target_cursor = target_conn.cursor()\n",
    "\n",
    "try:\n",
    "    # ✅ 1. 원본 DB에서 career 데이터 가져오기\n",
    "    source_cursor.execute(\"SELECT duty, career FROM duty_analysis;\")\n",
    "    career_data = source_cursor.fetchall()  # [(duty1, career1), (duty2, career2), ...]\n",
    "\n",
    "    # ✅ 2. 대상 DB의 career 컬럼 업데이트\n",
    "    update_query = \"UPDATE duty_analysis SET career = ? WHERE duty = ?;\"\n",
    "\n",
    "    for duty, career in career_data:\n",
    "        target_cursor.execute(update_query, (career, duty))\n",
    "\n",
    "    # ✅ 변경사항 저장\n",
    "    target_conn.commit()\n",
    "    print(f\"✅ {len(career_data)}개의 직무(career) 데이터가 성공적으로 마이그레이션되었습니다. (career 변경 내용 반영영)\")\n",
    "\n",
    "except Exception as e:\n",
    "    print(f\"❌ 마이그레이션 중 오류 발생: {e}\")\n",
    "\n",
    "finally:\n",
    "    # ✅ DB 연결 종료\n",
    "    source_conn.close()\n",
    "    target_conn.close()\n"
   ]
  },
  {
   "cell_type": "code",
   "execution_count": null,
   "metadata": {},
   "outputs": [],
   "source": [
    "git branch 가윤 # 가윤 브랜치 사용활성화\n",
    "git branch #현재 사용중인 브랜치 확인(마스터이면 안됨)\n",
    "git add . #지금까지의 변경사항 모두 status에 올리기\n",
    "git status # 현재 스테이터스 확인(초록색이 변경사항, 빨간색은 확인필요, 원하는 파일만 잘 올라가 있으면 다음 과정 수행\n",
    "git commit -m \"메시지\" # status에 올라온 내용을 commit하기, \"메세지\"는 식별할 내용 간단히 보내면 됨\n",
    "git status # 잘 commit 됐는지 확인, status에 아무 내용 없어야 함\n",
    "git push origin 가윤 #커밋한 내용을 가윤 branch에 푸시\n",
    "\n",
    "# 나의 브랜치는 gayoon2 "
   ]
  }
 ],
 "metadata": {
  "kernelspec": {
   "display_name": "api2",
   "language": "python",
   "name": "python3"
  },
  "language_info": {
   "codemirror_mode": {
    "name": "ipython",
    "version": 3
   },
   "file_extension": ".py",
   "mimetype": "text/x-python",
   "name": "python",
   "nbconvert_exporter": "python",
   "pygments_lexer": "ipython3",
   "version": "3.12.8"
  }
 },
 "nbformat": 4,
 "nbformat_minor": 2
}
